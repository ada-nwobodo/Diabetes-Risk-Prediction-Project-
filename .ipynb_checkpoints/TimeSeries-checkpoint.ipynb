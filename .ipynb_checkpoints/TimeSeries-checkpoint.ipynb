{
 "cells": [
  {
   "cell_type": "code",
   "execution_count": 41,
   "metadata": {},
   "outputs": [],
   "source": [
    "#This script pulls in Diabetes Patient datasets from UCI ML Repository, builds and tests several predictive models and subsequently makes predictions for risks/likelihood of unplanned admission for patients with poorly managed diabetes conditions. This is likely due to various different reasons including non-compliance with medication, loss to follow-up on outpatient or GP appointments etc. The objective is to identify and predict such patient cohorts at an earlier stage, to permit clinicians to intervene and optimise the health of such identified patient cohorts. This will also reduce the likelihood of an avoidable hospital presentation/admission for these patients. \n",
    "# Author = \"Dr Adaeze Nwobodo\" email \"AdaezeNwobodo@gmail.com\"\n",
    "\n",
    "#imported library packages {caret/Dplyr/lubridate/mgcv/purrr/ranger/rpart/rpart.plot/sigr/tidyselect/tidyverse/wrapr/base/broom/cluster/datasets/ellipsis/ggplot2/graphics/grDevices/highr/lattice/maggritr/methods/nlme/readr/readxl/renv/rstats/stringr/tibble/tidyr/utils}"
   ]
  },
  {
   "cell_type": "code",
   "execution_count": 42,
   "metadata": {},
   "outputs": [],
   "source": [
    "# DEFINE HELPER FUNCTIONS"
   ]
  },
  {
   "cell_type": "code",
   "execution_count": 43,
   "metadata": {},
   "outputs": [
    {
     "name": "stdout",
     "output_type": "stream",
     "text": [
      "function(filename) {\n",
      "    #loads text into dataframe\n",
      "    return (read.table(filename, header = FALSE, sep = \"\", stringsAsFactors = FALSE, col.names = c(\"Date\", \"Time\", \"Code\", \"Value\")))\n",
      "}\n"
     ]
    }
   ],
   "source": [
    "# 1\n",
    "load_file <- function(filename) {\n",
    "    #loads text into dataframe\n",
    "    return (read.table(filename, header = FALSE, sep = \"\", stringsAsFactors = FALSE, col.names = c(\"Date\", \"Time\", \"Code\", \"Value\")))\n",
    "}\n",
    "\n",
    "print(load_file)"
   ]
  },
  {
   "cell_type": "code",
   "execution_count": 44,
   "metadata": {},
   "outputs": [
    {
     "name": "stdout",
     "output_type": "stream",
     "text": [
      "function(data_frame) {\n",
      "    #removes rows that contain full duplicates. Keep all non-duplicates\n",
      "    return(distinct(data_frame, keep_all = TRUE))\n",
      "}\n"
     ]
    }
   ],
   "source": [
    "# 2\n",
    "clean_data_nofullduplicates <- function(data_frame) {\n",
    "    #removes rows that contain full duplicates. Keep all non-duplicates\n",
    "    return(distinct(data_frame, keep_all = TRUE))\n",
    "}\n",
    "\n",
    "print(clean_data_nofullduplicates)"
   ]
  },
  {
   "cell_type": "code",
   "execution_count": 45,
   "metadata": {},
   "outputs": [
    {
     "name": "stdout",
     "output_type": "stream",
     "text": [
      "function(data_frame) {\n",
      "    #removes partial duplicates\n",
      "    return(data_frame %>%\n",
      "          count(Date) %>%\n",
      "          filter(n > 1))\n",
      "}\n"
     ]
    }
   ],
   "source": [
    "# 3\n",
    "clean_datanopartialduplicates <- function(data_frame) {\n",
    "    #removes partial duplicates\n",
    "    return(data_frame %>%\n",
    "          count(Date) %>%\n",
    "          filter(n > 1))\n",
    "}\n",
    "\n",
    "print(clean_datanopartialduplicates)"
   ]
  },
  {
   "cell_type": "code",
   "execution_count": 46,
   "metadata": {},
   "outputs": [
    {
     "name": "stdout",
     "output_type": "stream",
     "text": [
      "function(data_frame) {\n",
      "    #checks for levels within dataset\n",
      "    return(levels(dataframe))\n",
      "}\n"
     ]
    }
   ],
   "source": [
    "# 4 \n",
    "get_levels <- function(data_frame) {\n",
    "    #checks for levels within dataset\n",
    "    return(levels(dataframe))\n",
    "}\n",
    "\n",
    "print(get_levels)"
   ]
  },
  {
   "cell_type": "code",
   "execution_count": 47,
   "metadata": {},
   "outputs": [
    {
     "name": "stdout",
     "output_type": "stream",
     "text": [
      "function(data_frame) {\n",
      "    return(quantile(data_frame, 0.25))\n",
      "}\n"
     ]
    }
   ],
   "source": [
    "first_quartile <- function(data_frame) {\n",
    "    return(quantile(data_frame, 0.25))\n",
    "}\n",
    "\n",
    "print(first_quartile)"
   ]
  },
  {
   "cell_type": "code",
   "execution_count": 48,
   "metadata": {},
   "outputs": [
    {
     "name": "stdout",
     "output_type": "stream",
     "text": [
      "function(data_frame) {\n",
      "    return(quantile(data_frame, 0.75))\n",
      "}\n"
     ]
    }
   ],
   "source": [
    "third_quartile <- function(data_frame) {\n",
    "    return(quantile(data_frame, 0.75))\n",
    "}\n",
    "\n",
    "print(third_quartile)"
   ]
  },
  {
   "cell_type": "code",
   "execution_count": 49,
   "metadata": {},
   "outputs": [
    {
     "name": "stdout",
     "output_type": "stream",
     "text": [
      "function(data_frame) {\n",
      "    #obtain separate weekday and month datasets from \"Date\" column for use as independent variables \n",
      "    return(data_frame %>%\n",
      "          mutate(wday = wday(Date, label = TRUE), month = month(Date, label = TRUE)))\n",
      "}\n"
     ]
    }
   ],
   "source": [
    "get_wday_month <- function(data_frame) {\n",
    "    #obtain separate weekday and month datasets from \"Date\" column for use as independent variables \n",
    "    return(data_frame %>%\n",
    "          mutate(wday = wday(Date, label = TRUE), month = month(Date, label = TRUE)))\n",
    "}\n",
    "\n",
    "print(get_wday_month)"
   ]
  },
  {
   "cell_type": "code",
   "execution_count": 50,
   "metadata": {},
   "outputs": [
    {
     "name": "stdout",
     "output_type": "stream",
     "text": [
      "function(data_frame) {\n",
      "    #Split the datasets into training(0.75) & test(0.25) set inputs for models\n",
      "    return (N <- nrow(data_frame) %>%\n",
      "           round(N * 0.75) %>%\n",
      "           gp <- runif(N)) %>%\n",
      "           train_df <- data_frame[gp < 0.75, ]\n",
      "           test_df <- data_frame[gp >= 0.75, ]\n",
      "\n",
      "}\n"
     ]
    }
   ],
   "source": [
    "calculate_test_train_split <- function(data_frame) {\n",
    "    #Split the datasets into training(0.75) & test(0.25) set inputs for models\n",
    "    return (N <- nrow(data_frame) %>%\n",
    "           round(N * 0.75) %>%\n",
    "           gp <- runif(N)) %>%\n",
    "           train_df <- data_frame[gp < 0.75, ]\n",
    "           test_df <- data_frame[gp >= 0.75, ]\n",
    "\n",
    "}\n",
    "\n",
    "print(calculate_test_train_split)"
   ]
  },
  {
   "cell_type": "code",
   "execution_count": 51,
   "metadata": {},
   "outputs": [
    {
     "name": "stdout",
     "output_type": "stream",
     "text": [
      "function(data_frame) {\n",
      "    #train specific model-types using Date & Time-specific datasets\n",
      "    return (vars <- c(\"Time\", \"wday\", \"month\", \"Code\"))\n",
      "    lm(Value ~ vars, data = data_frame)\n",
      "}\n"
     ]
    }
   ],
   "source": [
    "train_model_lm <- function(data_frame) {\n",
    "    #train specific model-types using Date & Time-specific datasets\n",
    "    return (vars <- c(\"Time\", \"wday\", \"month\", \"Code\"))\n",
    "    lm(Value ~ vars, data = data_frame)\n",
    "}\n",
    "\n",
    "print(train_model_lm)"
   ]
  },
  {
   "cell_type": "code",
   "execution_count": 157,
   "metadata": {},
   "outputs": [
    {
     "name": "stderr",
     "output_type": "stream",
     "text": [
      "Updating HTML index of packages in '.Library'\n",
      "Making 'packages.html' ... done\n",
      "Updating HTML index of packages in '.Library'\n",
      "Making 'packages.html' ... done\n",
      "Updating HTML index of packages in '.Library'\n",
      "Making 'packages.html' ... done\n",
      "Updating HTML index of packages in '.Library'\n",
      "Making 'packages.html' ... done\n",
      "Updating HTML index of packages in '.Library'\n",
      "Making 'packages.html' ... done\n"
     ]
    }
   ],
   "source": [
    "#Import Libraries\n",
    "library(dplyr)\n",
    "library(ggplot2)\n",
    "library(tidyr)\n",
    "library(caret)\n",
    "library(lubridate)\n",
    "library(purrr)\n",
    "library(mgcv)\n",
    "library(rpart)\n",
    "install.packages(\"sigr\"); library(sigr)\n",
    "library(tidyverse)\n",
    "library(tidyselect)\n",
    "library(utils)\n",
    "library(base)\n",
    "library(broom)\n",
    "library(cluster)\n",
    "library(ellipsis)\n",
    "library(graphics)\n",
    "library(grDevices)\n",
    "library(highr)\n",
    "library(lattice)\n",
    "library(methods)\n",
    "library(nlme)\n",
    "library(readr)\n",
    "library(readxl)\n",
    "library(stats)\n",
    "library(stringr)\n",
    "install.packages(\"vtreat\"); library(vtreat)\n",
    "library(tibble)\n",
    "install.packages(\"xgboost\"); library(xgboost)\n",
    "library(randomForest)\n",
    "library(magrittr)\n",
    "install.packages(\"Metrics\"); library(Metrics)\n",
    "install.packages(\"assertive\"); library(assertive)\n",
    "library(lubridate)"
   ]
  },
  {
   "cell_type": "code",
   "execution_count": 288,
   "metadata": {},
   "outputs": [],
   "source": [
    "#Loading files\n",
    "D1 <- load_file(\"data-01\")\n",
    "D1$pid <- c(\"D1\")"
   ]
  },
  {
   "cell_type": "code",
   "execution_count": 289,
   "metadata": {},
   "outputs": [
    {
     "data": {
      "text/html": [
       "<table>\n",
       "<thead><tr><th scope=col>Date</th><th scope=col>Time</th><th scope=col>Code</th><th scope=col>Value</th><th scope=col>pid</th></tr></thead>\n",
       "<tbody>\n",
       "\t<tr><td>04-21-1991</td><td>9:09      </td><td>58        </td><td>100       </td><td>D1        </td></tr>\n",
       "\t<tr><td>04-21-1991</td><td>9:09      </td><td>33        </td><td>  9       </td><td>D1        </td></tr>\n",
       "\t<tr><td>04-21-1991</td><td>9:09      </td><td>34        </td><td> 13       </td><td>D1        </td></tr>\n",
       "\t<tr><td>04-21-1991</td><td>17:08     </td><td>62        </td><td>119       </td><td>D1        </td></tr>\n",
       "\t<tr><td>04-21-1991</td><td>17:08     </td><td>33        </td><td>  7       </td><td>D1        </td></tr>\n",
       "\t<tr><td>04-21-1991</td><td>22:51     </td><td>48        </td><td>123       </td><td>D1        </td></tr>\n",
       "\t<tr><td>04-22-1991</td><td>7:35      </td><td>58        </td><td>216       </td><td>D1        </td></tr>\n",
       "\t<tr><td>04-22-1991</td><td>7:35      </td><td>33        </td><td> 10       </td><td>D1        </td></tr>\n",
       "\t<tr><td>04-22-1991</td><td>7:35      </td><td>34        </td><td> 13       </td><td>D1        </td></tr>\n",
       "\t<tr><td>04-22-1991</td><td>13:40     </td><td>33        </td><td>  2       </td><td>D1        </td></tr>\n",
       "</tbody>\n",
       "</table>\n"
      ],
      "text/latex": [
       "\\begin{tabular}{r|lllll}\n",
       " Date & Time & Code & Value & pid\\\\\n",
       "\\hline\n",
       "\t 04-21-1991 & 9:09       & 58         & 100        & D1        \\\\\n",
       "\t 04-21-1991 & 9:09       & 33         &   9        & D1        \\\\\n",
       "\t 04-21-1991 & 9:09       & 34         &  13        & D1        \\\\\n",
       "\t 04-21-1991 & 17:08      & 62         & 119        & D1        \\\\\n",
       "\t 04-21-1991 & 17:08      & 33         &   7        & D1        \\\\\n",
       "\t 04-21-1991 & 22:51      & 48         & 123        & D1        \\\\\n",
       "\t 04-22-1991 & 7:35       & 58         & 216        & D1        \\\\\n",
       "\t 04-22-1991 & 7:35       & 33         &  10        & D1        \\\\\n",
       "\t 04-22-1991 & 7:35       & 34         &  13        & D1        \\\\\n",
       "\t 04-22-1991 & 13:40      & 33         &   2        & D1        \\\\\n",
       "\\end{tabular}\n"
      ],
      "text/markdown": [
       "\n",
       "| Date | Time | Code | Value | pid |\n",
       "|---|---|---|---|---|\n",
       "| 04-21-1991 | 9:09       | 58         | 100        | D1         |\n",
       "| 04-21-1991 | 9:09       | 33         |   9        | D1         |\n",
       "| 04-21-1991 | 9:09       | 34         |  13        | D1         |\n",
       "| 04-21-1991 | 17:08      | 62         | 119        | D1         |\n",
       "| 04-21-1991 | 17:08      | 33         |   7        | D1         |\n",
       "| 04-21-1991 | 22:51      | 48         | 123        | D1         |\n",
       "| 04-22-1991 | 7:35       | 58         | 216        | D1         |\n",
       "| 04-22-1991 | 7:35       | 33         |  10        | D1         |\n",
       "| 04-22-1991 | 7:35       | 34         |  13        | D1         |\n",
       "| 04-22-1991 | 13:40      | 33         |   2        | D1         |\n",
       "\n"
      ],
      "text/plain": [
       "   Date       Time  Code Value pid\n",
       "1  04-21-1991 9:09  58   100   D1 \n",
       "2  04-21-1991 9:09  33     9   D1 \n",
       "3  04-21-1991 9:09  34    13   D1 \n",
       "4  04-21-1991 17:08 62   119   D1 \n",
       "5  04-21-1991 17:08 33     7   D1 \n",
       "6  04-21-1991 22:51 48   123   D1 \n",
       "7  04-22-1991 7:35  58   216   D1 \n",
       "8  04-22-1991 7:35  33    10   D1 \n",
       "9  04-22-1991 7:35  34    13   D1 \n",
       "10 04-22-1991 13:40 33     2   D1 "
      ]
     },
     "metadata": {},
     "output_type": "display_data"
    }
   ],
   "source": [
    "head(D1, n = 10)"
   ]
  },
  {
   "cell_type": "code",
   "execution_count": 290,
   "metadata": {},
   "outputs": [],
   "source": [
    "#Loading files\n",
    "D2 <- load_file(\"data-02\")\n",
    "D2$pid <- c(\"D2\")"
   ]
  },
  {
   "cell_type": "code",
   "execution_count": 291,
   "metadata": {},
   "outputs": [
    {
     "name": "stdout",
     "output_type": "stream",
     "text": [
      "'data.frame':\t761 obs. of  5 variables:\n",
      " $ Date : chr  \"10-10-1989\" \"10-10-1989\" \"10-10-1989\" \"10-10-1989\" ...\n",
      " $ Time : chr  \"08:00\" \"08:00\" \"12:00\" \"12:00\" ...\n",
      " $ Code : int  58 33 60 33 62 33 48 33 58 33 ...\n",
      " $ Value: chr  \"149\" \"010\" \"116\" \"004\" ...\n",
      " $ pid  : chr  \"D2\" \"D2\" \"D2\" \"D2\" ...\n"
     ]
    }
   ],
   "source": [
    "str(D2)"
   ]
  },
  {
   "cell_type": "code",
   "execution_count": 292,
   "metadata": {},
   "outputs": [],
   "source": [
    "#Loading files\n",
    "D3 <- load_file(\"data-03\")\n",
    "D3$pid <- c(\"D3\")"
   ]
  },
  {
   "cell_type": "code",
   "execution_count": 293,
   "metadata": {},
   "outputs": [],
   "source": [
    "#Loading files\n",
    "D4 <- load_file(\"data-04\")\n",
    "D4$pid <- c(\"D4\")"
   ]
  },
  {
   "cell_type": "code",
   "execution_count": 294,
   "metadata": {},
   "outputs": [],
   "source": [
    "#Loading files\n",
    "D5 <- load_file(\"data-05\")\n",
    "D5$pid <- c(\"D5\")"
   ]
  },
  {
   "cell_type": "code",
   "execution_count": 295,
   "metadata": {},
   "outputs": [],
   "source": [
    "#Loading files\n",
    "D6 <- load_file(\"data-06\")\n",
    "D6$pid <- c(\"D6\")"
   ]
  },
  {
   "cell_type": "code",
   "execution_count": 296,
   "metadata": {},
   "outputs": [],
   "source": [
    "#Loading files \n",
    "D7 <- load_file(\"data-07\")\n",
    "D7$pid <- c(\"D7\")"
   ]
  },
  {
   "cell_type": "code",
   "execution_count": 297,
   "metadata": {},
   "outputs": [],
   "source": [
    "#Loading files \n",
    "D8 <-  load_file(\"data-08\")\n",
    "D8$pid <- c(\"D8\")"
   ]
  },
  {
   "cell_type": "code",
   "execution_count": 298,
   "metadata": {},
   "outputs": [],
   "source": [
    "#Loading files\n",
    "D9 <- load_file(\"data-09\")\n",
    "D9$pid <- c(\"D9\")"
   ]
  },
  {
   "cell_type": "code",
   "execution_count": 299,
   "metadata": {},
   "outputs": [],
   "source": [
    "#Loading files\n",
    "D10 <- load_file(\"data-10\")\n",
    "D10$pid <- c(\"D10\")"
   ]
  },
  {
   "cell_type": "code",
   "execution_count": 300,
   "metadata": {},
   "outputs": [],
   "source": [
    "#Merging all newly created files\n",
    "Diabetes_data <- rbind(D1, D2, D3, D4, D5, D6, D7, D8, D9, D10)"
   ]
  },
  {
   "cell_type": "code",
   "execution_count": 301,
   "metadata": {},
   "outputs": [
    {
     "data": {
      "text/html": [
       "3625"
      ],
      "text/latex": [
       "3625"
      ],
      "text/markdown": [
       "3625"
      ],
      "text/plain": [
       "[1] 3625"
      ]
     },
     "metadata": {},
     "output_type": "display_data"
    }
   ],
   "source": [
    "nrow(Diabetes_data)"
   ]
  },
  {
   "cell_type": "code",
   "execution_count": 1,
   "metadata": {},
   "outputs": [
    {
     "ename": "ERROR",
     "evalue": "Error in head(Diabetes_data, n = 10): object 'Diabetes_data' not found\n",
     "output_type": "error",
     "traceback": [
      "Error in head(Diabetes_data, n = 10): object 'Diabetes_data' not found\nTraceback:\n",
      "1. head(Diabetes_data, n = 10)"
     ]
    }
   ],
   "source": [
    "head(Diabetes_data, n = 10)\n",
    "tail(Diabetes_data, n = 5)"
   ]
  },
  {
   "cell_type": "code",
   "execution_count": 303,
   "metadata": {},
   "outputs": [],
   "source": [
    "# DATA CLEANING "
   ]
  },
  {
   "cell_type": "code",
   "execution_count": 304,
   "metadata": {},
   "outputs": [
    {
     "name": "stdout",
     "output_type": "stream",
     "text": [
      "Rows: 3,625\n",
      "Columns: 5\n",
      "$ Date  <chr> \"04-21-1991\", \"04-21-1991\", \"04-21-1991\", \"04-21-1991\", \"04-2...\n",
      "$ Time  <chr> \"9:09\", \"9:09\", \"9:09\", \"17:08\", \"17:08\", \"22:51\", \"7:35\", \"7...\n",
      "$ Code  <int> 58, 33, 34, 62, 33, 48, 58, 33, 34, 33, 62, 33, 58, 33, 34, 6...\n",
      "$ Value <chr> \"100\", \"9\", \"13\", \"119\", \"7\", \"123\", \"216\", \"10\", \"13\", \"2\", ...\n",
      "$ pid   <chr> \"D1\", \"D1\", \"D1\", \"D1\", \"D1\", \"D1\", \"D1\", \"D1\", \"D1\", \"D1\", \"...\n"
     ]
    }
   ],
   "source": [
    "glimpse(Diabetes_data)"
   ]
  },
  {
   "cell_type": "code",
   "execution_count": 305,
   "metadata": {},
   "outputs": [
    {
     "data": {
      "text/html": [
       "FALSE"
      ],
      "text/latex": [
       "FALSE"
      ],
      "text/markdown": [
       "FALSE"
      ],
      "text/plain": [
       "[1] FALSE"
      ]
     },
     "metadata": {},
     "output_type": "display_data"
    }
   ],
   "source": [
    "#Checking data types\n",
    "is.numeric(Diabetes_data$Value)\n",
    "#Likely incorrect numeric/alphabet combinations - seen in file-02"
   ]
  },
  {
   "cell_type": "code",
   "execution_count": 306,
   "metadata": {},
   "outputs": [
    {
     "data": {
      "text/html": [
       "'character'"
      ],
      "text/latex": [
       "'character'"
      ],
      "text/markdown": [
       "'character'"
      ],
      "text/plain": [
       "[1] \"character\""
      ]
     },
     "metadata": {},
     "output_type": "display_data"
    }
   ],
   "source": [
    "class(Diabetes_data$Value)"
   ]
  },
  {
   "cell_type": "code",
   "execution_count": 307,
   "metadata": {},
   "outputs": [
    {
     "data": {
      "text/html": [
       "FALSE"
      ],
      "text/latex": [
       "FALSE"
      ],
      "text/markdown": [
       "FALSE"
      ],
      "text/plain": [
       "[1] FALSE"
      ]
     },
     "metadata": {},
     "output_type": "display_data"
    }
   ],
   "source": [
    "is.numeric(Diabetes_data$Time)"
   ]
  },
  {
   "cell_type": "code",
   "execution_count": 308,
   "metadata": {},
   "outputs": [
    {
     "data": {
      "text/html": [
       "<table>\n",
       "<thead><tr><th scope=col>Date</th><th scope=col>Time</th><th scope=col>Code</th><th scope=col>Value</th><th scope=col>pid</th></tr></thead>\n",
       "<tbody>\n",
       "\t<tr><td>04-22-1991</td><td>7:35      </td><td>58        </td><td>216       </td><td>D1        </td></tr>\n",
       "\t<tr><td>04-22-1991</td><td>16:56     </td><td>62        </td><td>211       </td><td>D1        </td></tr>\n",
       "\t<tr><td>04-23-1991</td><td>7:25      </td><td>58        </td><td>257       </td><td>D1        </td></tr>\n",
       "\t<tr><td>04-24-1991</td><td>7:52      </td><td>58        </td><td>239       </td><td>D1        </td></tr>\n",
       "\t<tr><td>04-24-1991</td><td>12:00     </td><td>33        </td><td>4         </td><td>D1        </td></tr>\n",
       "\t<tr><td>04-24-1991</td><td>22:09     </td><td>48        </td><td>340       </td><td>D1        </td></tr>\n",
       "\t<tr><td>04-25-1991</td><td>12:49     </td><td>33        </td><td>4         </td><td>D1        </td></tr>\n",
       "\t<tr><td>04-25-1991</td><td>17:24     </td><td>62        </td><td>206       </td><td>D1        </td></tr>\n",
       "\t<tr><td>04-25-1991</td><td>21:54     </td><td>48        </td><td>288       </td><td>D1        </td></tr>\n",
       "\t<tr><td>04-26-1991</td><td>17:26     </td><td>62        </td><td>228       </td><td>D1        </td></tr>\n",
       "\t<tr><td>04-27-1991</td><td>10:03     </td><td>58        </td><td>259       </td><td>D1        </td></tr>\n",
       "\t<tr><td>04-27-1991</td><td>17:20     </td><td>62        </td><td>256       </td><td>D1        </td></tr>\n",
       "\t<tr><td>04-28-1991</td><td>22:30     </td><td>48        </td><td>200       </td><td>D1        </td></tr>\n",
       "\t<tr><td>04-29-1991</td><td>16:50     </td><td>62        </td><td>263       </td><td>D1        </td></tr>\n",
       "\t<tr><td>04-30-1991</td><td>12:55     </td><td>33        </td><td>4         </td><td>D1        </td></tr>\n",
       "\t<tr><td>05-01-1991</td><td>12:14     </td><td>33        </td><td>4         </td><td>D1        </td></tr>\n",
       "\t<tr><td>05-02-1991</td><td>17:45     </td><td>62        </td><td>207       </td><td>D1        </td></tr>\n",
       "\t<tr><td>05-03-1991</td><td>7:48      </td><td>58        </td><td>305       </td><td>D1        </td></tr>\n",
       "\t<tr><td>05-05-1991</td><td>22:18     </td><td>48        </td><td>282       </td><td>D1        </td></tr>\n",
       "\t<tr><td>05-06-1991</td><td>16:55     </td><td>62        </td><td>229       </td><td>D1        </td></tr>\n",
       "</tbody>\n",
       "</table>\n"
      ],
      "text/latex": [
       "\\begin{tabular}{r|lllll}\n",
       " Date & Time & Code & Value & pid\\\\\n",
       "\\hline\n",
       "\t 04-22-1991 & 7:35       & 58         & 216        & D1        \\\\\n",
       "\t 04-22-1991 & 16:56      & 62         & 211        & D1        \\\\\n",
       "\t 04-23-1991 & 7:25       & 58         & 257        & D1        \\\\\n",
       "\t 04-24-1991 & 7:52       & 58         & 239        & D1        \\\\\n",
       "\t 04-24-1991 & 12:00      & 33         & 4          & D1        \\\\\n",
       "\t 04-24-1991 & 22:09      & 48         & 340        & D1        \\\\\n",
       "\t 04-25-1991 & 12:49      & 33         & 4          & D1        \\\\\n",
       "\t 04-25-1991 & 17:24      & 62         & 206        & D1        \\\\\n",
       "\t 04-25-1991 & 21:54      & 48         & 288        & D1        \\\\\n",
       "\t 04-26-1991 & 17:26      & 62         & 228        & D1        \\\\\n",
       "\t 04-27-1991 & 10:03      & 58         & 259        & D1        \\\\\n",
       "\t 04-27-1991 & 17:20      & 62         & 256        & D1        \\\\\n",
       "\t 04-28-1991 & 22:30      & 48         & 200        & D1        \\\\\n",
       "\t 04-29-1991 & 16:50      & 62         & 263        & D1        \\\\\n",
       "\t 04-30-1991 & 12:55      & 33         & 4          & D1        \\\\\n",
       "\t 05-01-1991 & 12:14      & 33         & 4          & D1        \\\\\n",
       "\t 05-02-1991 & 17:45      & 62         & 207        & D1        \\\\\n",
       "\t 05-03-1991 & 7:48       & 58         & 305        & D1        \\\\\n",
       "\t 05-05-1991 & 22:18      & 48         & 282        & D1        \\\\\n",
       "\t 05-06-1991 & 16:55      & 62         & 229        & D1        \\\\\n",
       "\\end{tabular}\n"
      ],
      "text/markdown": [
       "\n",
       "| Date | Time | Code | Value | pid |\n",
       "|---|---|---|---|---|\n",
       "| 04-22-1991 | 7:35       | 58         | 216        | D1         |\n",
       "| 04-22-1991 | 16:56      | 62         | 211        | D1         |\n",
       "| 04-23-1991 | 7:25       | 58         | 257        | D1         |\n",
       "| 04-24-1991 | 7:52       | 58         | 239        | D1         |\n",
       "| 04-24-1991 | 12:00      | 33         | 4          | D1         |\n",
       "| 04-24-1991 | 22:09      | 48         | 340        | D1         |\n",
       "| 04-25-1991 | 12:49      | 33         | 4          | D1         |\n",
       "| 04-25-1991 | 17:24      | 62         | 206        | D1         |\n",
       "| 04-25-1991 | 21:54      | 48         | 288        | D1         |\n",
       "| 04-26-1991 | 17:26      | 62         | 228        | D1         |\n",
       "| 04-27-1991 | 10:03      | 58         | 259        | D1         |\n",
       "| 04-27-1991 | 17:20      | 62         | 256        | D1         |\n",
       "| 04-28-1991 | 22:30      | 48         | 200        | D1         |\n",
       "| 04-29-1991 | 16:50      | 62         | 263        | D1         |\n",
       "| 04-30-1991 | 12:55      | 33         | 4          | D1         |\n",
       "| 05-01-1991 | 12:14      | 33         | 4          | D1         |\n",
       "| 05-02-1991 | 17:45      | 62         | 207        | D1         |\n",
       "| 05-03-1991 | 7:48       | 58         | 305        | D1         |\n",
       "| 05-05-1991 | 22:18      | 48         | 282        | D1         |\n",
       "| 05-06-1991 | 16:55      | 62         | 229        | D1         |\n",
       "\n"
      ],
      "text/plain": [
       "   Date       Time  Code Value pid\n",
       "1  04-22-1991 7:35  58   216   D1 \n",
       "2  04-22-1991 16:56 62   211   D1 \n",
       "3  04-23-1991 7:25  58   257   D1 \n",
       "4  04-24-1991 7:52  58   239   D1 \n",
       "5  04-24-1991 12:00 33   4     D1 \n",
       "6  04-24-1991 22:09 48   340   D1 \n",
       "7  04-25-1991 12:49 33   4     D1 \n",
       "8  04-25-1991 17:24 62   206   D1 \n",
       "9  04-25-1991 21:54 48   288   D1 \n",
       "10 04-26-1991 17:26 62   228   D1 \n",
       "11 04-27-1991 10:03 58   259   D1 \n",
       "12 04-27-1991 17:20 62   256   D1 \n",
       "13 04-28-1991 22:30 48   200   D1 \n",
       "14 04-29-1991 16:50 62   263   D1 \n",
       "15 04-30-1991 12:55 33   4     D1 \n",
       "16 05-01-1991 12:14 33   4     D1 \n",
       "17 05-02-1991 17:45 62   207   D1 \n",
       "18 05-03-1991 7:48  58   305   D1 \n",
       "19 05-05-1991 22:18 48   282   D1 \n",
       "20 05-06-1991 16:55 62   229   D1 "
      ]
     },
     "metadata": {},
     "output_type": "display_data"
    },
    {
     "data": {
      "text/html": [
       "955"
      ],
      "text/latex": [
       "955"
      ],
      "text/markdown": [
       "955"
      ],
      "text/plain": [
       "[1] 955"
      ]
     },
     "metadata": {},
     "output_type": "display_data"
    }
   ],
   "source": [
    "#Filter for excessively high/low blood glucose values for a rough indication of numbers with uncontrolled DM\n",
    "#There are 955 rows of abnormally high/low BM values from datasets of 10 diabetic patients which implies poor BM control - INCORRECT AS SOME VALUES CORRESPOND TO INSULIN DOSES\n",
    "Diabetes_data_extremes <- Diabetes_data %>%\n",
    "    group_by(Date) %>%\n",
    "    filter(Value <= 40, Value >= 200)\n",
    "\n",
    "head(Diabetes_data_extremes, n = 20)\n",
    "\n",
    "nrow(Diabetes_data_extremes)"
   ]
  },
  {
   "cell_type": "code",
   "execution_count": 309,
   "metadata": {},
   "outputs": [
    {
     "ename": "ERROR",
     "evalue": "Error: Problem with `filter()` input `..1`.\nx comparison (4) is possible only for atomic and list types\ni Input `..1` is `date <= today()`.\n",
     "output_type": "error",
     "traceback": [
      "Error: Problem with `filter()` input `..1`.\nx comparison (4) is possible only for atomic and list types\ni Input `..1` is `date <= today()`.\nTraceback:\n",
      "1. Diabetes_data %>% filter(date <= today())",
      "2. filter(., date <= today())",
      "3. filter.data.frame(., date <= today())",
      "4. filter_rows(.data, ...)",
      "5. withCallingHandlers(mask$eval_all_filter(dots, env_filter), error = function(e) {\n .     local_call_step(dots = dots, .index = env_filter$current_expression, \n .         .fn = \"filter\")\n .     abort(c(cnd_bullet_header(), x = conditionMessage(e), i = cnd_bullet_input_info(), \n .         i = cnd_bullet_cur_group_label()), class = \"dplyr_error\")\n . })",
      "6. mask$eval_all_filter(dots, env_filter)",
      "7. `<=.Date`(date, today())",
      "8. NextMethod(.Generic)",
      "9. .handleSimpleError(function (e) \n . {\n .     local_call_step(dots = dots, .index = env_filter$current_expression, \n .         .fn = \"filter\")\n .     abort(c(cnd_bullet_header(), x = conditionMessage(e), i = cnd_bullet_input_info(), \n .         i = cnd_bullet_cur_group_label()), class = \"dplyr_error\")\n . }, \"comparison (4) is possible only for atomic and list types\", \n .     base::quote(`<=.default`(date, today())))",
      "10. h(simpleError(msg, call))",
      "11. abort(c(cnd_bullet_header(), x = conditionMessage(e), i = cnd_bullet_input_info(), \n  .     i = cnd_bullet_cur_group_label()), class = \"dplyr_error\")",
      "12. signal_abort(cnd)"
     ]
    }
   ],
   "source": [
    "#Filter for events that occurred before or on today's date\n",
    "Diabetes_data_past <- Diabetes_data %>%\n",
    "    filter(date <= today())\n",
    "\n",
    "#Make sure all dates from the Diabetes_data_past are in the past\n",
    "assert_all_are_in_past(Diabetes_data_past$date)"
   ]
  },
  {
   "cell_type": "code",
   "execution_count": 310,
   "metadata": {},
   "outputs": [
    {
     "data": {
      "text/html": [
       "<table>\n",
       "<thead><tr><th scope=col>Date</th><th scope=col>Time</th><th scope=col>Code</th><th scope=col>Value</th><th scope=col>pid</th><th scope=col>date</th></tr></thead>\n",
       "<tbody>\n",
       "\t<tr><td>04-21-1991</td><td>9:09      </td><td>33        </td><td>9         </td><td>D1        </td><td>1991-04-21</td></tr>\n",
       "\t<tr><td>04-21-1991</td><td>17:08     </td><td>33        </td><td>7         </td><td>D1        </td><td>1991-04-21</td></tr>\n",
       "\t<tr><td>04-22-1991</td><td>7:35      </td><td>33        </td><td>10        </td><td>D1        </td><td>1991-04-22</td></tr>\n",
       "\t<tr><td>04-22-1991</td><td>13:40     </td><td>33        </td><td>2         </td><td>D1        </td><td>1991-04-22</td></tr>\n",
       "\t<tr><td>04-22-1991</td><td>16:56     </td><td>33        </td><td>7         </td><td>D1        </td><td>1991-04-22</td></tr>\n",
       "\t<tr><td>04-23-1991</td><td>7:25      </td><td>33        </td><td>11        </td><td>D1        </td><td>1991-04-23</td></tr>\n",
       "\t<tr><td>04-23-1991</td><td>17:25     </td><td>33        </td><td>7         </td><td>D1        </td><td>1991-04-23</td></tr>\n",
       "\t<tr><td>04-24-1991</td><td>7:52      </td><td>33        </td><td>10        </td><td>D1        </td><td>1991-04-24</td></tr>\n",
       "\t<tr><td>04-24-1991</td><td>12:00     </td><td>33        </td><td>4         </td><td>D1        </td><td>1991-04-24</td></tr>\n",
       "\t<tr><td>04-24-1991</td><td>22:09     </td><td>33        </td><td>5         </td><td>D1        </td><td>1991-04-24</td></tr>\n",
       "</tbody>\n",
       "</table>\n"
      ],
      "text/latex": [
       "\\begin{tabular}{r|llllll}\n",
       " Date & Time & Code & Value & pid & date\\\\\n",
       "\\hline\n",
       "\t 04-21-1991 & 9:09       & 33         & 9          & D1         & 1991-04-21\\\\\n",
       "\t 04-21-1991 & 17:08      & 33         & 7          & D1         & 1991-04-21\\\\\n",
       "\t 04-22-1991 & 7:35       & 33         & 10         & D1         & 1991-04-22\\\\\n",
       "\t 04-22-1991 & 13:40      & 33         & 2          & D1         & 1991-04-22\\\\\n",
       "\t 04-22-1991 & 16:56      & 33         & 7          & D1         & 1991-04-22\\\\\n",
       "\t 04-23-1991 & 7:25       & 33         & 11         & D1         & 1991-04-23\\\\\n",
       "\t 04-23-1991 & 17:25      & 33         & 7          & D1         & 1991-04-23\\\\\n",
       "\t 04-24-1991 & 7:52       & 33         & 10         & D1         & 1991-04-24\\\\\n",
       "\t 04-24-1991 & 12:00      & 33         & 4          & D1         & 1991-04-24\\\\\n",
       "\t 04-24-1991 & 22:09      & 33         & 5          & D1         & 1991-04-24\\\\\n",
       "\\end{tabular}\n"
      ],
      "text/markdown": [
       "\n",
       "| Date | Time | Code | Value | pid | date |\n",
       "|---|---|---|---|---|---|\n",
       "| 04-21-1991 | 9:09       | 33         | 9          | D1         | 1991-04-21 |\n",
       "| 04-21-1991 | 17:08      | 33         | 7          | D1         | 1991-04-21 |\n",
       "| 04-22-1991 | 7:35       | 33         | 10         | D1         | 1991-04-22 |\n",
       "| 04-22-1991 | 13:40      | 33         | 2          | D1         | 1991-04-22 |\n",
       "| 04-22-1991 | 16:56      | 33         | 7          | D1         | 1991-04-22 |\n",
       "| 04-23-1991 | 7:25       | 33         | 11         | D1         | 1991-04-23 |\n",
       "| 04-23-1991 | 17:25      | 33         | 7          | D1         | 1991-04-23 |\n",
       "| 04-24-1991 | 7:52       | 33         | 10         | D1         | 1991-04-24 |\n",
       "| 04-24-1991 | 12:00      | 33         | 4          | D1         | 1991-04-24 |\n",
       "| 04-24-1991 | 22:09      | 33         | 5          | D1         | 1991-04-24 |\n",
       "\n"
      ],
      "text/plain": [
       "   Date       Time  Code Value pid date      \n",
       "1  04-21-1991 9:09  33   9     D1  1991-04-21\n",
       "2  04-21-1991 17:08 33   7     D1  1991-04-21\n",
       "3  04-22-1991 7:35  33   10    D1  1991-04-22\n",
       "4  04-22-1991 13:40 33   2     D1  1991-04-22\n",
       "5  04-22-1991 16:56 33   7     D1  1991-04-22\n",
       "6  04-23-1991 7:25  33   11    D1  1991-04-23\n",
       "7  04-23-1991 17:25 33   7     D1  1991-04-23\n",
       "8  04-24-1991 7:52  33   10    D1  1991-04-24\n",
       "9  04-24-1991 12:00 33   4     D1  1991-04-24\n",
       "10 04-24-1991 22:09 33   5     D1  1991-04-24"
      ]
     },
     "metadata": {},
     "output_type": "display_data"
    }
   ],
   "source": [
    "#Parse date - \"mdy\" format of datasets used to convert into ISO8601 standard \"ymd\" format\n",
    "#Arrange in Ascending order within \"Code\" column to better sort data in that column\n",
    "Diabetes_data1 <- Diabetes_data %>%\n",
    "    mutate(date = mdy(Date)) %>%\n",
    "    arrange(Code)\n",
    "head(Diabetes_data1, n = 10)"
   ]
  },
  {
   "cell_type": "code",
   "execution_count": 311,
   "metadata": {},
   "outputs": [
    {
     "data": {
      "text/html": [
       "'Date'"
      ],
      "text/latex": [
       "'Date'"
      ],
      "text/markdown": [
       "'Date'"
      ],
      "text/plain": [
       "[1] \"Date\""
      ]
     },
     "metadata": {},
     "output_type": "display_data"
    }
   ],
   "source": [
    "class(Diabetes_data1$date)"
   ]
  },
  {
   "cell_type": "code",
   "execution_count": 312,
   "metadata": {},
   "outputs": [
    {
     "data": {
      "text/html": [
       "'character'"
      ],
      "text/latex": [
       "'character'"
      ],
      "text/markdown": [
       "'character'"
      ],
      "text/plain": [
       "[1] \"character\""
      ]
     },
     "metadata": {},
     "output_type": "display_data"
    }
   ],
   "source": [
    "class(Diabetes_data1$Time)\n",
    "#This might be due to letters/symbols within this column"
   ]
  },
  {
   "cell_type": "code",
   "execution_count": 313,
   "metadata": {},
   "outputs": [
    {
     "data": {
      "text/html": [
       "<table>\n",
       "<thead><tr><th scope=col>Date</th><th scope=col>Time</th><th scope=col>Code</th><th scope=col>Value</th><th scope=col>pid</th><th scope=col>date</th><th scope=col>year</th><th scope=col>month</th><th scope=col>day</th></tr></thead>\n",
       "<tbody>\n",
       "\t<tr><td>04-21-1991</td><td>9:09      </td><td>33        </td><td>9         </td><td>D1        </td><td>1991-04-21</td><td>1991      </td><td>Apr       </td><td>21        </td></tr>\n",
       "\t<tr><td>04-21-1991</td><td>17:08     </td><td>33        </td><td>7         </td><td>D1        </td><td>1991-04-21</td><td>1991      </td><td>Apr       </td><td>21        </td></tr>\n",
       "\t<tr><td>04-22-1991</td><td>7:35      </td><td>33        </td><td>10        </td><td>D1        </td><td>1991-04-22</td><td>1991      </td><td>Apr       </td><td>22        </td></tr>\n",
       "\t<tr><td>04-22-1991</td><td>13:40     </td><td>33        </td><td>2         </td><td>D1        </td><td>1991-04-22</td><td>1991      </td><td>Apr       </td><td>22        </td></tr>\n",
       "\t<tr><td>04-22-1991</td><td>16:56     </td><td>33        </td><td>7         </td><td>D1        </td><td>1991-04-22</td><td>1991      </td><td>Apr       </td><td>22        </td></tr>\n",
       "\t<tr><td>04-23-1991</td><td>7:25      </td><td>33        </td><td>11        </td><td>D1        </td><td>1991-04-23</td><td>1991      </td><td>Apr       </td><td>23        </td></tr>\n",
       "\t<tr><td>04-23-1991</td><td>17:25     </td><td>33        </td><td>7         </td><td>D1        </td><td>1991-04-23</td><td>1991      </td><td>Apr       </td><td>23        </td></tr>\n",
       "\t<tr><td>04-24-1991</td><td>7:52      </td><td>33        </td><td>10        </td><td>D1        </td><td>1991-04-24</td><td>1991      </td><td>Apr       </td><td>24        </td></tr>\n",
       "\t<tr><td>04-24-1991</td><td>12:00     </td><td>33        </td><td>4         </td><td>D1        </td><td>1991-04-24</td><td>1991      </td><td>Apr       </td><td>24        </td></tr>\n",
       "\t<tr><td>04-24-1991</td><td>22:09     </td><td>33        </td><td>5         </td><td>D1        </td><td>1991-04-24</td><td>1991      </td><td>Apr       </td><td>24        </td></tr>\n",
       "</tbody>\n",
       "</table>\n"
      ],
      "text/latex": [
       "\\begin{tabular}{r|lllllllll}\n",
       " Date & Time & Code & Value & pid & date & year & month & day\\\\\n",
       "\\hline\n",
       "\t 04-21-1991 & 9:09       & 33         & 9          & D1         & 1991-04-21 & 1991       & Apr        & 21        \\\\\n",
       "\t 04-21-1991 & 17:08      & 33         & 7          & D1         & 1991-04-21 & 1991       & Apr        & 21        \\\\\n",
       "\t 04-22-1991 & 7:35       & 33         & 10         & D1         & 1991-04-22 & 1991       & Apr        & 22        \\\\\n",
       "\t 04-22-1991 & 13:40      & 33         & 2          & D1         & 1991-04-22 & 1991       & Apr        & 22        \\\\\n",
       "\t 04-22-1991 & 16:56      & 33         & 7          & D1         & 1991-04-22 & 1991       & Apr        & 22        \\\\\n",
       "\t 04-23-1991 & 7:25       & 33         & 11         & D1         & 1991-04-23 & 1991       & Apr        & 23        \\\\\n",
       "\t 04-23-1991 & 17:25      & 33         & 7          & D1         & 1991-04-23 & 1991       & Apr        & 23        \\\\\n",
       "\t 04-24-1991 & 7:52       & 33         & 10         & D1         & 1991-04-24 & 1991       & Apr        & 24        \\\\\n",
       "\t 04-24-1991 & 12:00      & 33         & 4          & D1         & 1991-04-24 & 1991       & Apr        & 24        \\\\\n",
       "\t 04-24-1991 & 22:09      & 33         & 5          & D1         & 1991-04-24 & 1991       & Apr        & 24        \\\\\n",
       "\\end{tabular}\n"
      ],
      "text/markdown": [
       "\n",
       "| Date | Time | Code | Value | pid | date | year | month | day |\n",
       "|---|---|---|---|---|---|---|---|---|\n",
       "| 04-21-1991 | 9:09       | 33         | 9          | D1         | 1991-04-21 | 1991       | Apr        | 21         |\n",
       "| 04-21-1991 | 17:08      | 33         | 7          | D1         | 1991-04-21 | 1991       | Apr        | 21         |\n",
       "| 04-22-1991 | 7:35       | 33         | 10         | D1         | 1991-04-22 | 1991       | Apr        | 22         |\n",
       "| 04-22-1991 | 13:40      | 33         | 2          | D1         | 1991-04-22 | 1991       | Apr        | 22         |\n",
       "| 04-22-1991 | 16:56      | 33         | 7          | D1         | 1991-04-22 | 1991       | Apr        | 22         |\n",
       "| 04-23-1991 | 7:25       | 33         | 11         | D1         | 1991-04-23 | 1991       | Apr        | 23         |\n",
       "| 04-23-1991 | 17:25      | 33         | 7          | D1         | 1991-04-23 | 1991       | Apr        | 23         |\n",
       "| 04-24-1991 | 7:52       | 33         | 10         | D1         | 1991-04-24 | 1991       | Apr        | 24         |\n",
       "| 04-24-1991 | 12:00      | 33         | 4          | D1         | 1991-04-24 | 1991       | Apr        | 24         |\n",
       "| 04-24-1991 | 22:09      | 33         | 5          | D1         | 1991-04-24 | 1991       | Apr        | 24         |\n",
       "\n"
      ],
      "text/plain": [
       "   Date       Time  Code Value pid date       year month day\n",
       "1  04-21-1991 9:09  33   9     D1  1991-04-21 1991 Apr   21 \n",
       "2  04-21-1991 17:08 33   7     D1  1991-04-21 1991 Apr   21 \n",
       "3  04-22-1991 7:35  33   10    D1  1991-04-22 1991 Apr   22 \n",
       "4  04-22-1991 13:40 33   2     D1  1991-04-22 1991 Apr   22 \n",
       "5  04-22-1991 16:56 33   7     D1  1991-04-22 1991 Apr   22 \n",
       "6  04-23-1991 7:25  33   11    D1  1991-04-23 1991 Apr   23 \n",
       "7  04-23-1991 17:25 33   7     D1  1991-04-23 1991 Apr   23 \n",
       "8  04-24-1991 7:52  33   10    D1  1991-04-24 1991 Apr   24 \n",
       "9  04-24-1991 12:00 33   4     D1  1991-04-24 1991 Apr   24 \n",
       "10 04-24-1991 22:09 33   5     D1  1991-04-24 1991 Apr   24 "
      ]
     },
     "metadata": {},
     "output_type": "display_data"
    }
   ],
   "source": [
    "#Create new columns month, day \n",
    "\n",
    "Diabetes_data1 <- Diabetes_data1 %>%\n",
    "    mutate(year = year(date), month = month(date, label = TRUE), day = day(date))\n",
    "\n",
    "head(Diabetes_data1, n = 10)"
   ]
  },
  {
   "cell_type": "code",
   "execution_count": null,
   "metadata": {},
   "outputs": [],
   "source": []
  },
  {
   "cell_type": "code",
   "execution_count": 314,
   "metadata": {},
   "outputs": [
    {
     "data": {
      "text/html": [
       "<table>\n",
       "<thead><tr><th scope=col>Date</th><th scope=col>Time</th><th scope=col>Glucose_Code</th><th scope=col>Value</th><th scope=col>pid</th><th scope=col>date</th><th scope=col>year</th><th scope=col>month</th><th scope=col>day</th></tr></thead>\n",
       "<tbody>\n",
       "\t<tr><td>04-21-1991</td><td>22:51     </td><td>48        </td><td>123       </td><td>D1        </td><td>1991-04-21</td><td>1991      </td><td>Apr       </td><td>21        </td></tr>\n",
       "\t<tr><td>04-24-1991</td><td>22:09     </td><td>48        </td><td>340       </td><td>D1        </td><td>1991-04-24</td><td>1991      </td><td>Apr       </td><td>24        </td></tr>\n",
       "\t<tr><td>04-25-1991</td><td>21:54     </td><td>48        </td><td>288       </td><td>D1        </td><td>1991-04-25</td><td>1991      </td><td>Apr       </td><td>25        </td></tr>\n",
       "\t<tr><td>04-28-1991</td><td>22:30     </td><td>48        </td><td>200       </td><td>D1        </td><td>1991-04-28</td><td>1991      </td><td>Apr       </td><td>28        </td></tr>\n",
       "\t<tr><td>04-29-1991</td><td>22:28     </td><td>48        </td><td>81        </td><td>D1        </td><td>1991-04-29</td><td>1991      </td><td>Apr       </td><td>29        </td></tr>\n",
       "\t<tr><td>04-30-1991</td><td>23:06     </td><td>48        </td><td>104       </td><td>D1        </td><td>1991-04-30</td><td>1991      </td><td>Apr       </td><td>30        </td></tr>\n",
       "\t<tr><td>05-03-1991</td><td>22:08     </td><td>48        </td><td>85        </td><td>D1        </td><td>1991-05-03</td><td>1991      </td><td>May       </td><td> 3        </td></tr>\n",
       "\t<tr><td>05-04-1991</td><td>21:40     </td><td>48        </td><td>63        </td><td>D1        </td><td>1991-05-04</td><td>1991      </td><td>May       </td><td> 4        </td></tr>\n",
       "\t<tr><td>05-05-1991</td><td>22:18     </td><td>48        </td><td>282       </td><td>D1        </td><td>1991-05-05</td><td>1991      </td><td>May       </td><td> 5        </td></tr>\n",
       "\t<tr><td>05-08-1991</td><td>22:45     </td><td>48        </td><td>129       </td><td>D1        </td><td>1991-05-08</td><td>1991      </td><td>May       </td><td> 8        </td></tr>\n",
       "</tbody>\n",
       "</table>\n"
      ],
      "text/latex": [
       "\\begin{tabular}{r|lllllllll}\n",
       " Date & Time & Glucose\\_Code & Value & pid & date & year & month & day\\\\\n",
       "\\hline\n",
       "\t 04-21-1991 & 22:51      & 48         & 123        & D1         & 1991-04-21 & 1991       & Apr        & 21        \\\\\n",
       "\t 04-24-1991 & 22:09      & 48         & 340        & D1         & 1991-04-24 & 1991       & Apr        & 24        \\\\\n",
       "\t 04-25-1991 & 21:54      & 48         & 288        & D1         & 1991-04-25 & 1991       & Apr        & 25        \\\\\n",
       "\t 04-28-1991 & 22:30      & 48         & 200        & D1         & 1991-04-28 & 1991       & Apr        & 28        \\\\\n",
       "\t 04-29-1991 & 22:28      & 48         & 81         & D1         & 1991-04-29 & 1991       & Apr        & 29        \\\\\n",
       "\t 04-30-1991 & 23:06      & 48         & 104        & D1         & 1991-04-30 & 1991       & Apr        & 30        \\\\\n",
       "\t 05-03-1991 & 22:08      & 48         & 85         & D1         & 1991-05-03 & 1991       & May        &  3        \\\\\n",
       "\t 05-04-1991 & 21:40      & 48         & 63         & D1         & 1991-05-04 & 1991       & May        &  4        \\\\\n",
       "\t 05-05-1991 & 22:18      & 48         & 282        & D1         & 1991-05-05 & 1991       & May        &  5        \\\\\n",
       "\t 05-08-1991 & 22:45      & 48         & 129        & D1         & 1991-05-08 & 1991       & May        &  8        \\\\\n",
       "\\end{tabular}\n"
      ],
      "text/markdown": [
       "\n",
       "| Date | Time | Glucose_Code | Value | pid | date | year | month | day |\n",
       "|---|---|---|---|---|---|---|---|---|\n",
       "| 04-21-1991 | 22:51      | 48         | 123        | D1         | 1991-04-21 | 1991       | Apr        | 21         |\n",
       "| 04-24-1991 | 22:09      | 48         | 340        | D1         | 1991-04-24 | 1991       | Apr        | 24         |\n",
       "| 04-25-1991 | 21:54      | 48         | 288        | D1         | 1991-04-25 | 1991       | Apr        | 25         |\n",
       "| 04-28-1991 | 22:30      | 48         | 200        | D1         | 1991-04-28 | 1991       | Apr        | 28         |\n",
       "| 04-29-1991 | 22:28      | 48         | 81         | D1         | 1991-04-29 | 1991       | Apr        | 29         |\n",
       "| 04-30-1991 | 23:06      | 48         | 104        | D1         | 1991-04-30 | 1991       | Apr        | 30         |\n",
       "| 05-03-1991 | 22:08      | 48         | 85         | D1         | 1991-05-03 | 1991       | May        |  3         |\n",
       "| 05-04-1991 | 21:40      | 48         | 63         | D1         | 1991-05-04 | 1991       | May        |  4         |\n",
       "| 05-05-1991 | 22:18      | 48         | 282        | D1         | 1991-05-05 | 1991       | May        |  5         |\n",
       "| 05-08-1991 | 22:45      | 48         | 129        | D1         | 1991-05-08 | 1991       | May        |  8         |\n",
       "\n"
      ],
      "text/plain": [
       "   Date       Time  Glucose_Code Value pid date       year month day\n",
       "1  04-21-1991 22:51 48           123   D1  1991-04-21 1991 Apr   21 \n",
       "2  04-24-1991 22:09 48           340   D1  1991-04-24 1991 Apr   24 \n",
       "3  04-25-1991 21:54 48           288   D1  1991-04-25 1991 Apr   25 \n",
       "4  04-28-1991 22:30 48           200   D1  1991-04-28 1991 Apr   28 \n",
       "5  04-29-1991 22:28 48           81    D1  1991-04-29 1991 Apr   29 \n",
       "6  04-30-1991 23:06 48           104   D1  1991-04-30 1991 Apr   30 \n",
       "7  05-03-1991 22:08 48           85    D1  1991-05-03 1991 May    3 \n",
       "8  05-04-1991 21:40 48           63    D1  1991-05-04 1991 May    4 \n",
       "9  05-05-1991 22:18 48           282   D1  1991-05-05 1991 May    5 \n",
       "10 05-08-1991 22:45 48           129   D1  1991-05-08 1991 May    8 "
      ]
     },
     "metadata": {},
     "output_type": "display_data"
    },
    {
     "data": {
      "text/html": [
       "1718"
      ],
      "text/latex": [
       "1718"
      ],
      "text/markdown": [
       "1718"
      ],
      "text/plain": [
       "[1] 1718"
      ]
     },
     "metadata": {},
     "output_type": "display_data"
    }
   ],
   "source": [
    "#Filtering, summarizing & renaming datasets for \"Blood Glucose Measurements alone/Code 48 - 64\" \n",
    "Diabetes_dataGlucose <- Diabetes_data1 %>%\n",
    "    filter(Code >= 48, Code <= 64) %>%\n",
    "    rename(Glucose_Code = Code) %>%\n",
    "    group_by(month, day)\n",
    "\n",
    "head(Diabetes_dataGlucose, n = 10)\n",
    "nrow(Diabetes_dataGlucose)"
   ]
  },
  {
   "cell_type": "code",
   "execution_count": 315,
   "metadata": {},
   "outputs": [
    {
     "data": {
      "text/html": [
       "<table>\n",
       "<thead><tr><th scope=col>Date</th><th scope=col>Time</th><th scope=col>Insulin_Code</th><th scope=col>Value1</th><th scope=col>pid</th><th scope=col>date1</th><th scope=col>year1</th><th scope=col>month1</th><th scope=col>day1</th></tr></thead>\n",
       "<tbody>\n",
       "\t<tr><td>04-21-1991</td><td>9:09      </td><td>33        </td><td>9         </td><td>D1        </td><td>1991-04-21</td><td>1991      </td><td>Apr       </td><td>21        </td></tr>\n",
       "\t<tr><td>04-21-1991</td><td>17:08     </td><td>33        </td><td>7         </td><td>D1        </td><td>1991-04-21</td><td>1991      </td><td>Apr       </td><td>21        </td></tr>\n",
       "\t<tr><td>04-22-1991</td><td>7:35      </td><td>33        </td><td>10        </td><td>D1        </td><td>1991-04-22</td><td>1991      </td><td>Apr       </td><td>22        </td></tr>\n",
       "\t<tr><td>04-22-1991</td><td>13:40     </td><td>33        </td><td>2         </td><td>D1        </td><td>1991-04-22</td><td>1991      </td><td>Apr       </td><td>22        </td></tr>\n",
       "\t<tr><td>04-22-1991</td><td>16:56     </td><td>33        </td><td>7         </td><td>D1        </td><td>1991-04-22</td><td>1991      </td><td>Apr       </td><td>22        </td></tr>\n",
       "\t<tr><td>04-23-1991</td><td>7:25      </td><td>33        </td><td>11        </td><td>D1        </td><td>1991-04-23</td><td>1991      </td><td>Apr       </td><td>23        </td></tr>\n",
       "\t<tr><td>04-23-1991</td><td>17:25     </td><td>33        </td><td>7         </td><td>D1        </td><td>1991-04-23</td><td>1991      </td><td>Apr       </td><td>23        </td></tr>\n",
       "\t<tr><td>04-24-1991</td><td>7:52      </td><td>33        </td><td>10        </td><td>D1        </td><td>1991-04-24</td><td>1991      </td><td>Apr       </td><td>24        </td></tr>\n",
       "\t<tr><td>04-24-1991</td><td>12:00     </td><td>33        </td><td>4         </td><td>D1        </td><td>1991-04-24</td><td>1991      </td><td>Apr       </td><td>24        </td></tr>\n",
       "\t<tr><td>04-24-1991</td><td>22:09     </td><td>33        </td><td>5         </td><td>D1        </td><td>1991-04-24</td><td>1991      </td><td>Apr       </td><td>24        </td></tr>\n",
       "</tbody>\n",
       "</table>\n"
      ],
      "text/latex": [
       "\\begin{tabular}{r|lllllllll}\n",
       " Date & Time & Insulin\\_Code & Value1 & pid & date1 & year1 & month1 & day1\\\\\n",
       "\\hline\n",
       "\t 04-21-1991 & 9:09       & 33         & 9          & D1         & 1991-04-21 & 1991       & Apr        & 21        \\\\\n",
       "\t 04-21-1991 & 17:08      & 33         & 7          & D1         & 1991-04-21 & 1991       & Apr        & 21        \\\\\n",
       "\t 04-22-1991 & 7:35       & 33         & 10         & D1         & 1991-04-22 & 1991       & Apr        & 22        \\\\\n",
       "\t 04-22-1991 & 13:40      & 33         & 2          & D1         & 1991-04-22 & 1991       & Apr        & 22        \\\\\n",
       "\t 04-22-1991 & 16:56      & 33         & 7          & D1         & 1991-04-22 & 1991       & Apr        & 22        \\\\\n",
       "\t 04-23-1991 & 7:25       & 33         & 11         & D1         & 1991-04-23 & 1991       & Apr        & 23        \\\\\n",
       "\t 04-23-1991 & 17:25      & 33         & 7          & D1         & 1991-04-23 & 1991       & Apr        & 23        \\\\\n",
       "\t 04-24-1991 & 7:52       & 33         & 10         & D1         & 1991-04-24 & 1991       & Apr        & 24        \\\\\n",
       "\t 04-24-1991 & 12:00      & 33         & 4          & D1         & 1991-04-24 & 1991       & Apr        & 24        \\\\\n",
       "\t 04-24-1991 & 22:09      & 33         & 5          & D1         & 1991-04-24 & 1991       & Apr        & 24        \\\\\n",
       "\\end{tabular}\n"
      ],
      "text/markdown": [
       "\n",
       "| Date | Time | Insulin_Code | Value1 | pid | date1 | year1 | month1 | day1 |\n",
       "|---|---|---|---|---|---|---|---|---|\n",
       "| 04-21-1991 | 9:09       | 33         | 9          | D1         | 1991-04-21 | 1991       | Apr        | 21         |\n",
       "| 04-21-1991 | 17:08      | 33         | 7          | D1         | 1991-04-21 | 1991       | Apr        | 21         |\n",
       "| 04-22-1991 | 7:35       | 33         | 10         | D1         | 1991-04-22 | 1991       | Apr        | 22         |\n",
       "| 04-22-1991 | 13:40      | 33         | 2          | D1         | 1991-04-22 | 1991       | Apr        | 22         |\n",
       "| 04-22-1991 | 16:56      | 33         | 7          | D1         | 1991-04-22 | 1991       | Apr        | 22         |\n",
       "| 04-23-1991 | 7:25       | 33         | 11         | D1         | 1991-04-23 | 1991       | Apr        | 23         |\n",
       "| 04-23-1991 | 17:25      | 33         | 7          | D1         | 1991-04-23 | 1991       | Apr        | 23         |\n",
       "| 04-24-1991 | 7:52       | 33         | 10         | D1         | 1991-04-24 | 1991       | Apr        | 24         |\n",
       "| 04-24-1991 | 12:00      | 33         | 4          | D1         | 1991-04-24 | 1991       | Apr        | 24         |\n",
       "| 04-24-1991 | 22:09      | 33         | 5          | D1         | 1991-04-24 | 1991       | Apr        | 24         |\n",
       "\n"
      ],
      "text/plain": [
       "   Date       Time  Insulin_Code Value1 pid date1      year1 month1 day1\n",
       "1  04-21-1991 9:09  33           9      D1  1991-04-21 1991  Apr    21  \n",
       "2  04-21-1991 17:08 33           7      D1  1991-04-21 1991  Apr    21  \n",
       "3  04-22-1991 7:35  33           10     D1  1991-04-22 1991  Apr    22  \n",
       "4  04-22-1991 13:40 33           2      D1  1991-04-22 1991  Apr    22  \n",
       "5  04-22-1991 16:56 33           7      D1  1991-04-22 1991  Apr    22  \n",
       "6  04-23-1991 7:25  33           11     D1  1991-04-23 1991  Apr    23  \n",
       "7  04-23-1991 17:25 33           7      D1  1991-04-23 1991  Apr    23  \n",
       "8  04-24-1991 7:52  33           10     D1  1991-04-24 1991  Apr    24  \n",
       "9  04-24-1991 12:00 33           4      D1  1991-04-24 1991  Apr    24  \n",
       "10 04-24-1991 22:09 33           5      D1  1991-04-24 1991  Apr    24  "
      ]
     },
     "metadata": {},
     "output_type": "display_data"
    },
    {
     "data": {
      "text/html": [
       "1795"
      ],
      "text/latex": [
       "1795"
      ],
      "text/markdown": [
       "1795"
      ],
      "text/plain": [
       "[1] 1795"
      ]
     },
     "metadata": {},
     "output_type": "display_data"
    }
   ],
   "source": [
    "#Filtering, summarizing and renaming for Insulin doses (short/intermed/long-acting) alone \n",
    "Diabetes_dataInsulin <- Diabetes_data1 %>%\n",
    "    filter(Code >= 33, Code <= 35) %>%\n",
    "    rename(Insulin_Code = Code) %>%\n",
    "    rename(Value1 = Value, date1 = date, month1 = month, day1 = day, year1 = year) %>%\n",
    "    group_by(month1, day1)\n",
    "\n",
    "head(Diabetes_dataInsulin, n = 10)\n",
    "nrow(Diabetes_dataInsulin)"
   ]
  },
  {
   "cell_type": "code",
   "execution_count": 316,
   "metadata": {},
   "outputs": [
    {
     "data": {
      "text/html": [
       "<table>\n",
       "<thead><tr><th scope=col>Date.x</th><th scope=col>Time</th><th scope=col>Glucose_Code</th><th scope=col>Value</th><th scope=col>pid.x</th><th scope=col>date</th><th scope=col>year</th><th scope=col>month</th><th scope=col>day</th><th scope=col>Date.y</th><th scope=col>Insulin_Code</th><th scope=col>Value1</th><th scope=col>pid.y</th><th scope=col>date1</th><th scope=col>year1</th><th scope=col>month1</th><th scope=col>day1</th></tr></thead>\n",
       "<tbody>\n",
       "\t<tr><td>04-24-1991</td><td>22:09     </td><td>48        </td><td>340       </td><td>D1        </td><td>1991-04-24</td><td>1991      </td><td>Apr       </td><td>24        </td><td>04-24-1991</td><td>33        </td><td>5         </td><td>D1        </td><td>1991-04-24</td><td>1991      </td><td>Apr       </td><td>24        </td></tr>\n",
       "\t<tr><td>04-25-1991</td><td>21:54     </td><td>48        </td><td>288       </td><td>D1        </td><td>1991-04-25</td><td>1991      </td><td>Apr       </td><td>25        </td><td>04-25-1991</td><td>33        </td><td>2         </td><td>D1        </td><td>1991-04-25</td><td>1991      </td><td>Apr       </td><td>25        </td></tr>\n",
       "\t<tr><td>04-25-1991</td><td>21:54     </td><td>48        </td><td>288       </td><td>D1        </td><td>1991-04-25</td><td>1991      </td><td>Apr       </td><td>25        </td><td>05-08-1990</td><td>33        </td><td>4         </td><td>D9        </td><td>1990-05-08</td><td>1990      </td><td>May       </td><td> 8        </td></tr>\n",
       "\t<tr><td>04-25-1991</td><td>21:54     </td><td>48        </td><td>288       </td><td>D1        </td><td>1991-04-25</td><td>1991      </td><td>Apr       </td><td>25        </td><td>05-08-1990</td><td>34        </td><td>15        </td><td>D9        </td><td>1990-05-08</td><td>1990      </td><td>May       </td><td> 8        </td></tr>\n",
       "\t<tr><td>05-05-1991</td><td>22:18     </td><td>48        </td><td>282       </td><td>D1        </td><td>1991-05-05</td><td>1991      </td><td>May       </td><td> 5        </td><td>05-05-1991</td><td>33        </td><td>2         </td><td>D1        </td><td>1991-05-05</td><td>1991      </td><td>May       </td><td> 5        </td></tr>\n",
       "\t<tr><td>05-13-1991</td><td>22:17     </td><td>48        </td><td>76        </td><td>D1        </td><td>1991-05-13</td><td>1991      </td><td>May       </td><td>13        </td><td>04-22-1990</td><td>33        </td><td>5         </td><td>D9        </td><td>1990-04-22</td><td>1990      </td><td>Apr       </td><td>22        </td></tr>\n",
       "\t<tr><td>05-13-1991</td><td>22:17     </td><td>48        </td><td>76        </td><td>D1        </td><td>1991-05-13</td><td>1991      </td><td>May       </td><td>13        </td><td>04-22-1990</td><td>34        </td><td>15        </td><td>D9        </td><td>1990-04-22</td><td>1990      </td><td>Apr       </td><td>22        </td></tr>\n",
       "\t<tr><td>05-23-1991</td><td>22:38     </td><td>48        </td><td>79        </td><td>D1        </td><td>1991-05-23</td><td>1991      </td><td>May       </td><td>23        </td><td>06-30-1991</td><td>33        </td><td>2         </td><td>D1        </td><td>1991-06-30</td><td>1991      </td><td>Jun       </td><td>30        </td></tr>\n",
       "\t<tr><td>05-24-1991</td><td>22:17     </td><td>48        </td><td>165       </td><td>D1        </td><td>1991-05-24</td><td>1991      </td><td>May       </td><td>24        </td><td>04-22-1990</td><td>33        </td><td>5         </td><td>D9        </td><td>1990-04-22</td><td>1990      </td><td>Apr       </td><td>22        </td></tr>\n",
       "\t<tr><td>05-24-1991</td><td>22:17     </td><td>48        </td><td>165       </td><td>D1        </td><td>1991-05-24</td><td>1991      </td><td>May       </td><td>24        </td><td>04-22-1990</td><td>34        </td><td>15        </td><td>D9        </td><td>1990-04-22</td><td>1990      </td><td>Apr       </td><td>22        </td></tr>\n",
       "</tbody>\n",
       "</table>\n"
      ],
      "text/latex": [
       "\\begin{tabular}{r|lllllllllllllllll}\n",
       " Date.x & Time & Glucose\\_Code & Value & pid.x & date & year & month & day & Date.y & Insulin\\_Code & Value1 & pid.y & date1 & year1 & month1 & day1\\\\\n",
       "\\hline\n",
       "\t 04-24-1991 & 22:09      & 48         & 340        & D1         & 1991-04-24 & 1991       & Apr        & 24         & 04-24-1991 & 33         & 5          & D1         & 1991-04-24 & 1991       & Apr        & 24        \\\\\n",
       "\t 04-25-1991 & 21:54      & 48         & 288        & D1         & 1991-04-25 & 1991       & Apr        & 25         & 04-25-1991 & 33         & 2          & D1         & 1991-04-25 & 1991       & Apr        & 25        \\\\\n",
       "\t 04-25-1991 & 21:54      & 48         & 288        & D1         & 1991-04-25 & 1991       & Apr        & 25         & 05-08-1990 & 33         & 4          & D9         & 1990-05-08 & 1990       & May        &  8        \\\\\n",
       "\t 04-25-1991 & 21:54      & 48         & 288        & D1         & 1991-04-25 & 1991       & Apr        & 25         & 05-08-1990 & 34         & 15         & D9         & 1990-05-08 & 1990       & May        &  8        \\\\\n",
       "\t 05-05-1991 & 22:18      & 48         & 282        & D1         & 1991-05-05 & 1991       & May        &  5         & 05-05-1991 & 33         & 2          & D1         & 1991-05-05 & 1991       & May        &  5        \\\\\n",
       "\t 05-13-1991 & 22:17      & 48         & 76         & D1         & 1991-05-13 & 1991       & May        & 13         & 04-22-1990 & 33         & 5          & D9         & 1990-04-22 & 1990       & Apr        & 22        \\\\\n",
       "\t 05-13-1991 & 22:17      & 48         & 76         & D1         & 1991-05-13 & 1991       & May        & 13         & 04-22-1990 & 34         & 15         & D9         & 1990-04-22 & 1990       & Apr        & 22        \\\\\n",
       "\t 05-23-1991 & 22:38      & 48         & 79         & D1         & 1991-05-23 & 1991       & May        & 23         & 06-30-1991 & 33         & 2          & D1         & 1991-06-30 & 1991       & Jun        & 30        \\\\\n",
       "\t 05-24-1991 & 22:17      & 48         & 165        & D1         & 1991-05-24 & 1991       & May        & 24         & 04-22-1990 & 33         & 5          & D9         & 1990-04-22 & 1990       & Apr        & 22        \\\\\n",
       "\t 05-24-1991 & 22:17      & 48         & 165        & D1         & 1991-05-24 & 1991       & May        & 24         & 04-22-1990 & 34         & 15         & D9         & 1990-04-22 & 1990       & Apr        & 22        \\\\\n",
       "\\end{tabular}\n"
      ],
      "text/markdown": [
       "\n",
       "| Date.x | Time | Glucose_Code | Value | pid.x | date | year | month | day | Date.y | Insulin_Code | Value1 | pid.y | date1 | year1 | month1 | day1 |\n",
       "|---|---|---|---|---|---|---|---|---|---|---|---|---|---|---|---|---|\n",
       "| 04-24-1991 | 22:09      | 48         | 340        | D1         | 1991-04-24 | 1991       | Apr        | 24         | 04-24-1991 | 33         | 5          | D1         | 1991-04-24 | 1991       | Apr        | 24         |\n",
       "| 04-25-1991 | 21:54      | 48         | 288        | D1         | 1991-04-25 | 1991       | Apr        | 25         | 04-25-1991 | 33         | 2          | D1         | 1991-04-25 | 1991       | Apr        | 25         |\n",
       "| 04-25-1991 | 21:54      | 48         | 288        | D1         | 1991-04-25 | 1991       | Apr        | 25         | 05-08-1990 | 33         | 4          | D9         | 1990-05-08 | 1990       | May        |  8         |\n",
       "| 04-25-1991 | 21:54      | 48         | 288        | D1         | 1991-04-25 | 1991       | Apr        | 25         | 05-08-1990 | 34         | 15         | D9         | 1990-05-08 | 1990       | May        |  8         |\n",
       "| 05-05-1991 | 22:18      | 48         | 282        | D1         | 1991-05-05 | 1991       | May        |  5         | 05-05-1991 | 33         | 2          | D1         | 1991-05-05 | 1991       | May        |  5         |\n",
       "| 05-13-1991 | 22:17      | 48         | 76         | D1         | 1991-05-13 | 1991       | May        | 13         | 04-22-1990 | 33         | 5          | D9         | 1990-04-22 | 1990       | Apr        | 22         |\n",
       "| 05-13-1991 | 22:17      | 48         | 76         | D1         | 1991-05-13 | 1991       | May        | 13         | 04-22-1990 | 34         | 15         | D9         | 1990-04-22 | 1990       | Apr        | 22         |\n",
       "| 05-23-1991 | 22:38      | 48         | 79         | D1         | 1991-05-23 | 1991       | May        | 23         | 06-30-1991 | 33         | 2          | D1         | 1991-06-30 | 1991       | Jun        | 30         |\n",
       "| 05-24-1991 | 22:17      | 48         | 165        | D1         | 1991-05-24 | 1991       | May        | 24         | 04-22-1990 | 33         | 5          | D9         | 1990-04-22 | 1990       | Apr        | 22         |\n",
       "| 05-24-1991 | 22:17      | 48         | 165        | D1         | 1991-05-24 | 1991       | May        | 24         | 04-22-1990 | 34         | 15         | D9         | 1990-04-22 | 1990       | Apr        | 22         |\n",
       "\n"
      ],
      "text/plain": [
       "   Date.x     Time  Glucose_Code Value pid.x date       year month day\n",
       "1  04-24-1991 22:09 48           340   D1    1991-04-24 1991 Apr   24 \n",
       "2  04-25-1991 21:54 48           288   D1    1991-04-25 1991 Apr   25 \n",
       "3  04-25-1991 21:54 48           288   D1    1991-04-25 1991 Apr   25 \n",
       "4  04-25-1991 21:54 48           288   D1    1991-04-25 1991 Apr   25 \n",
       "5  05-05-1991 22:18 48           282   D1    1991-05-05 1991 May    5 \n",
       "6  05-13-1991 22:17 48           76    D1    1991-05-13 1991 May   13 \n",
       "7  05-13-1991 22:17 48           76    D1    1991-05-13 1991 May   13 \n",
       "8  05-23-1991 22:38 48           79    D1    1991-05-23 1991 May   23 \n",
       "9  05-24-1991 22:17 48           165   D1    1991-05-24 1991 May   24 \n",
       "10 05-24-1991 22:17 48           165   D1    1991-05-24 1991 May   24 \n",
       "   Date.y     Insulin_Code Value1 pid.y date1      year1 month1 day1\n",
       "1  04-24-1991 33           5      D1    1991-04-24 1991  Apr    24  \n",
       "2  04-25-1991 33           2      D1    1991-04-25 1991  Apr    25  \n",
       "3  05-08-1990 33           4      D9    1990-05-08 1990  May     8  \n",
       "4  05-08-1990 34           15     D9    1990-05-08 1990  May     8  \n",
       "5  05-05-1991 33           2      D1    1991-05-05 1991  May     5  \n",
       "6  04-22-1990 33           5      D9    1990-04-22 1990  Apr    22  \n",
       "7  04-22-1990 34           15     D9    1990-04-22 1990  Apr    22  \n",
       "8  06-30-1991 33           2      D1    1991-06-30 1991  Jun    30  \n",
       "9  04-22-1990 33           5      D9    1990-04-22 1990  Apr    22  \n",
       "10 04-22-1990 34           15     D9    1990-04-22 1990  Apr    22  "
      ]
     },
     "metadata": {},
     "output_type": "display_data"
    },
    {
     "data": {
      "text/html": [
       "142733"
      ],
      "text/latex": [
       "142733"
      ],
      "text/markdown": [
       "142733"
      ],
      "text/plain": [
       "[1] 142733"
      ]
     },
     "metadata": {},
     "output_type": "display_data"
    }
   ],
   "source": [
    "#Merging Datasets for Diabetes_dataGlucose & Diabetes_dataInsulin \n",
    "Diabetes_InsGlucose <- Diabetes_dataGlucose %>%\n",
    "    inner_join(Diabetes_dataInsulin, by = c(\"Time\" = \"Time\", ))\n",
    "\n",
    "head(Diabetes_InsGlucose, n = 10)\n",
    "nrow(Diabetes_InsGlucose)\n",
    "#WHY IS THE OUTPUT OF THIS JOIN YIELDING 142,733 ROWS? SHOULD ONLY HAVE MAXIMUM OF 1795 ROWS!"
   ]
  },
  {
   "cell_type": "code",
   "execution_count": 258,
   "metadata": {},
   "outputs": [
    {
     "data": {
      "text/html": [
       "<table>\n",
       "<thead><tr><th scope=col>Time</th><th scope=col>Glucose_Code</th><th scope=col>Glucose_level</th><th scope=col>date</th><th scope=col>month</th><th scope=col>day</th><th scope=col>year</th><th scope=col>Insulin_Code</th><th scope=col>Insulin_dose</th></tr></thead>\n",
       "<tbody>\n",
       "\t<tr><td>22:09     </td><td>48        </td><td>340       </td><td>1991-04-24</td><td>Apr       </td><td>24        </td><td>1991      </td><td>33        </td><td>5         </td></tr>\n",
       "\t<tr><td>21:54     </td><td>48        </td><td>288       </td><td>1991-04-25</td><td>Apr       </td><td>25        </td><td>1991      </td><td>33        </td><td>2         </td></tr>\n",
       "\t<tr><td>21:54     </td><td>48        </td><td>288       </td><td>1991-04-25</td><td>Apr       </td><td>25        </td><td>1991      </td><td>33        </td><td>4         </td></tr>\n",
       "\t<tr><td>21:54     </td><td>48        </td><td>288       </td><td>1991-04-25</td><td>Apr       </td><td>25        </td><td>1991      </td><td>34        </td><td>15        </td></tr>\n",
       "\t<tr><td>22:18     </td><td>48        </td><td>282       </td><td>1991-05-05</td><td>May       </td><td> 5        </td><td>1991      </td><td>33        </td><td>2         </td></tr>\n",
       "\t<tr><td>22:17     </td><td>48        </td><td>76        </td><td>1991-05-13</td><td>May       </td><td>13        </td><td>1991      </td><td>33        </td><td>5         </td></tr>\n",
       "\t<tr><td>22:17     </td><td>48        </td><td>76        </td><td>1991-05-13</td><td>May       </td><td>13        </td><td>1991      </td><td>34        </td><td>15        </td></tr>\n",
       "\t<tr><td>22:38     </td><td>48        </td><td>79        </td><td>1991-05-23</td><td>May       </td><td>23        </td><td>1991      </td><td>33        </td><td>2         </td></tr>\n",
       "\t<tr><td>22:17     </td><td>48        </td><td>165       </td><td>1991-05-24</td><td>May       </td><td>24        </td><td>1991      </td><td>33        </td><td>5         </td></tr>\n",
       "\t<tr><td>22:17     </td><td>48        </td><td>165       </td><td>1991-05-24</td><td>May       </td><td>24        </td><td>1991      </td><td>34        </td><td>15        </td></tr>\n",
       "</tbody>\n",
       "</table>\n"
      ],
      "text/latex": [
       "\\begin{tabular}{r|lllllllll}\n",
       " Time & Glucose\\_Code & Glucose\\_level & date & month & day & year & Insulin\\_Code & Insulin\\_dose\\\\\n",
       "\\hline\n",
       "\t 22:09      & 48         & 340        & 1991-04-24 & Apr        & 24         & 1991       & 33         & 5         \\\\\n",
       "\t 21:54      & 48         & 288        & 1991-04-25 & Apr        & 25         & 1991       & 33         & 2         \\\\\n",
       "\t 21:54      & 48         & 288        & 1991-04-25 & Apr        & 25         & 1991       & 33         & 4         \\\\\n",
       "\t 21:54      & 48         & 288        & 1991-04-25 & Apr        & 25         & 1991       & 34         & 15        \\\\\n",
       "\t 22:18      & 48         & 282        & 1991-05-05 & May        &  5         & 1991       & 33         & 2         \\\\\n",
       "\t 22:17      & 48         & 76         & 1991-05-13 & May        & 13         & 1991       & 33         & 5         \\\\\n",
       "\t 22:17      & 48         & 76         & 1991-05-13 & May        & 13         & 1991       & 34         & 15        \\\\\n",
       "\t 22:38      & 48         & 79         & 1991-05-23 & May        & 23         & 1991       & 33         & 2         \\\\\n",
       "\t 22:17      & 48         & 165        & 1991-05-24 & May        & 24         & 1991       & 33         & 5         \\\\\n",
       "\t 22:17      & 48         & 165        & 1991-05-24 & May        & 24         & 1991       & 34         & 15        \\\\\n",
       "\\end{tabular}\n"
      ],
      "text/markdown": [
       "\n",
       "| Time | Glucose_Code | Glucose_level | date | month | day | year | Insulin_Code | Insulin_dose |\n",
       "|---|---|---|---|---|---|---|---|---|\n",
       "| 22:09      | 48         | 340        | 1991-04-24 | Apr        | 24         | 1991       | 33         | 5          |\n",
       "| 21:54      | 48         | 288        | 1991-04-25 | Apr        | 25         | 1991       | 33         | 2          |\n",
       "| 21:54      | 48         | 288        | 1991-04-25 | Apr        | 25         | 1991       | 33         | 4          |\n",
       "| 21:54      | 48         | 288        | 1991-04-25 | Apr        | 25         | 1991       | 34         | 15         |\n",
       "| 22:18      | 48         | 282        | 1991-05-05 | May        |  5         | 1991       | 33         | 2          |\n",
       "| 22:17      | 48         | 76         | 1991-05-13 | May        | 13         | 1991       | 33         | 5          |\n",
       "| 22:17      | 48         | 76         | 1991-05-13 | May        | 13         | 1991       | 34         | 15         |\n",
       "| 22:38      | 48         | 79         | 1991-05-23 | May        | 23         | 1991       | 33         | 2          |\n",
       "| 22:17      | 48         | 165        | 1991-05-24 | May        | 24         | 1991       | 33         | 5          |\n",
       "| 22:17      | 48         | 165        | 1991-05-24 | May        | 24         | 1991       | 34         | 15         |\n",
       "\n"
      ],
      "text/plain": [
       "   Time  Glucose_Code Glucose_level date       month day year Insulin_Code\n",
       "1  22:09 48           340           1991-04-24 Apr   24  1991 33          \n",
       "2  21:54 48           288           1991-04-25 Apr   25  1991 33          \n",
       "3  21:54 48           288           1991-04-25 Apr   25  1991 33          \n",
       "4  21:54 48           288           1991-04-25 Apr   25  1991 34          \n",
       "5  22:18 48           282           1991-05-05 May    5  1991 33          \n",
       "6  22:17 48           76            1991-05-13 May   13  1991 33          \n",
       "7  22:17 48           76            1991-05-13 May   13  1991 34          \n",
       "8  22:38 48           79            1991-05-23 May   23  1991 33          \n",
       "9  22:17 48           165           1991-05-24 May   24  1991 33          \n",
       "10 22:17 48           165           1991-05-24 May   24  1991 34          \n",
       "   Insulin_dose\n",
       "1  5           \n",
       "2  2           \n",
       "3  4           \n",
       "4  15          \n",
       "5  2           \n",
       "6  5           \n",
       "7  15          \n",
       "8  2           \n",
       "9  5           \n",
       "10 15          "
      ]
     },
     "metadata": {},
     "output_type": "display_data"
    },
    {
     "data": {
      "text/html": [
       "142733"
      ],
      "text/latex": [
       "142733"
      ],
      "text/markdown": [
       "142733"
      ],
      "text/plain": [
       "[1] 142733"
      ]
     },
     "metadata": {},
     "output_type": "display_data"
    }
   ],
   "source": [
    "#Cleaning up joined datasets from above - CLEANED COMBINATION TABLE OF INSULIN AND GLUCOSE CODES AND VALUES!\n",
    "Diabetes_InsGlucose2 <- Diabetes_InsGlucose %>%\n",
    "    select(-Date.x, -Date.y, -date1, -month1, -day1, -year1) %>%\n",
    "    rename(Glucose_level = Value, Insulin_dose = Value1)\n",
    "\n",
    "head(Diabetes_InsGlucose2, n = 10)\n",
    "nrow(Diabetes_InsGlucose)"
   ]
  },
  {
   "cell_type": "code",
   "execution_count": 257,
   "metadata": {},
   "outputs": [
    {
     "data": {
      "text/html": [
       "<table>\n",
       "<thead><tr><th scope=col>date</th><th scope=col>year</th><th scope=col>month</th><th scope=col>day</th><th scope=col>Time</th><th scope=col>Insulin_Code</th><th scope=col>Insulin_dose</th><th scope=col>Glucose_Code</th><th scope=col>Glucose_level</th></tr></thead>\n",
       "<tbody>\n",
       "\t<tr><td>1991-04-24</td><td>1991      </td><td>Apr       </td><td>24        </td><td>22:09     </td><td>33        </td><td>5         </td><td>48        </td><td>340       </td></tr>\n",
       "\t<tr><td>1991-04-25</td><td>1991      </td><td>Apr       </td><td>25        </td><td>21:54     </td><td>33        </td><td>2         </td><td>48        </td><td>288       </td></tr>\n",
       "\t<tr><td>1991-04-25</td><td>1991      </td><td>Apr       </td><td>25        </td><td>21:54     </td><td>33        </td><td>4         </td><td>48        </td><td>288       </td></tr>\n",
       "\t<tr><td>1991-04-25</td><td>1991      </td><td>Apr       </td><td>25        </td><td>21:54     </td><td>34        </td><td>15        </td><td>48        </td><td>288       </td></tr>\n",
       "\t<tr><td>1991-05-05</td><td>1991      </td><td>May       </td><td> 5        </td><td>22:18     </td><td>33        </td><td>2         </td><td>48        </td><td>282       </td></tr>\n",
       "</tbody>\n",
       "</table>\n"
      ],
      "text/latex": [
       "\\begin{tabular}{r|lllllllll}\n",
       " date & year & month & day & Time & Insulin\\_Code & Insulin\\_dose & Glucose\\_Code & Glucose\\_level\\\\\n",
       "\\hline\n",
       "\t 1991-04-24 & 1991       & Apr        & 24         & 22:09      & 33         & 5          & 48         & 340       \\\\\n",
       "\t 1991-04-25 & 1991       & Apr        & 25         & 21:54      & 33         & 2          & 48         & 288       \\\\\n",
       "\t 1991-04-25 & 1991       & Apr        & 25         & 21:54      & 33         & 4          & 48         & 288       \\\\\n",
       "\t 1991-04-25 & 1991       & Apr        & 25         & 21:54      & 34         & 15         & 48         & 288       \\\\\n",
       "\t 1991-05-05 & 1991       & May        &  5         & 22:18      & 33         & 2          & 48         & 282       \\\\\n",
       "\\end{tabular}\n"
      ],
      "text/markdown": [
       "\n",
       "| date | year | month | day | Time | Insulin_Code | Insulin_dose | Glucose_Code | Glucose_level |\n",
       "|---|---|---|---|---|---|---|---|---|\n",
       "| 1991-04-24 | 1991       | Apr        | 24         | 22:09      | 33         | 5          | 48         | 340        |\n",
       "| 1991-04-25 | 1991       | Apr        | 25         | 21:54      | 33         | 2          | 48         | 288        |\n",
       "| 1991-04-25 | 1991       | Apr        | 25         | 21:54      | 33         | 4          | 48         | 288        |\n",
       "| 1991-04-25 | 1991       | Apr        | 25         | 21:54      | 34         | 15         | 48         | 288        |\n",
       "| 1991-05-05 | 1991       | May        |  5         | 22:18      | 33         | 2          | 48         | 282        |\n",
       "\n"
      ],
      "text/plain": [
       "  date       year month day Time  Insulin_Code Insulin_dose Glucose_Code\n",
       "1 1991-04-24 1991 Apr   24  22:09 33           5            48          \n",
       "2 1991-04-25 1991 Apr   25  21:54 33           2            48          \n",
       "3 1991-04-25 1991 Apr   25  21:54 33           4            48          \n",
       "4 1991-04-25 1991 Apr   25  21:54 34           15           48          \n",
       "5 1991-05-05 1991 May    5  22:18 33           2            48          \n",
       "  Glucose_level\n",
       "1 340          \n",
       "2 288          \n",
       "3 288          \n",
       "4 288          \n",
       "5 282          "
      ]
     },
     "metadata": {},
     "output_type": "display_data"
    }
   ],
   "source": [
    "#Re-ordering columns above\n",
    "Diabetes_InsGlucose3 <- Diabetes_InsGlucose2 %>%\n",
    "    select(date, year, month, day, Time, Insulin_Code, Insulin_dose, Glucose_Code, Glucose_level, everything())\n",
    "head(Diabetes_InsGlucose3, n = 5)"
   ]
  },
  {
   "cell_type": "code",
   "execution_count": 274,
   "metadata": {},
   "outputs": [
    {
     "data": {
      "text/html": [
       "<table>\n",
       "<thead><tr><th scope=col>date</th><th scope=col>year</th><th scope=col>month</th><th scope=col>day</th><th scope=col>Time</th><th scope=col>Insulin_Code</th><th scope=col>Insulin_dose</th><th scope=col>Glucose_Code</th><th scope=col>Glucose_level</th></tr></thead>\n",
       "<tbody>\n",
       "</tbody>\n",
       "</table>\n"
      ],
      "text/latex": [
       "\\begin{tabular}{r|lllllllll}\n",
       " date & year & month & day & Time & Insulin\\_Code & Insulin\\_dose & Glucose\\_Code & Glucose\\_level\\\\\n",
       "\\hline\n",
       "\\end{tabular}\n"
      ],
      "text/markdown": [
       "\n",
       "| date | year | month | day | Time | Insulin_Code | Insulin_dose | Glucose_Code | Glucose_level |\n",
       "|---|---|---|---|---|---|---|---|---|\n",
       "\n"
      ],
      "text/plain": [
       "     date year month day Time Insulin_Code Insulin_dose Glucose_Code\n",
       "     Glucose_level"
      ]
     },
     "metadata": {},
     "output_type": "display_data"
    },
    {
     "data": {
      "text/html": [
       "<table>\n",
       "<thead><tr><th scope=col>date</th><th scope=col>year</th><th scope=col>month</th><th scope=col>day</th><th scope=col>Time</th><th scope=col>Insulin_Code</th><th scope=col>Insulin_dose</th><th scope=col>Glucose_Code</th><th scope=col>Glucose_level</th></tr></thead>\n",
       "<tbody>\n",
       "\t<tr><td>1991-06-05</td><td>1991      </td><td>Jun       </td><td>5         </td><td>22:00     </td><td>33        </td><td>014       </td><td>48        </td><td>113       </td></tr>\n",
       "\t<tr><td>1991-06-05</td><td>1991      </td><td>Jun       </td><td>5         </td><td>22:00     </td><td>33        </td><td>014       </td><td>48        </td><td>113       </td></tr>\n",
       "\t<tr><td>1991-06-05</td><td>1991      </td><td>Jun       </td><td>5         </td><td>22:00     </td><td>33        </td><td>014       </td><td>48        </td><td>113       </td></tr>\n",
       "\t<tr><td>1991-06-05</td><td>1991      </td><td>Jun       </td><td>5         </td><td>22:00     </td><td>33        </td><td>014       </td><td>48        </td><td>113       </td></tr>\n",
       "\t<tr><td>1991-06-05</td><td>1991      </td><td>Jun       </td><td>5         </td><td>22:00     </td><td>33        </td><td>014       </td><td>48        </td><td>113       </td></tr>\n",
       "\t<tr><td>1991-06-05</td><td>1991      </td><td>Jun       </td><td>5         </td><td>22:00     </td><td>33        </td><td>014       </td><td>48        </td><td>113       </td></tr>\n",
       "\t<tr><td>1991-06-05</td><td>1991      </td><td>Jun       </td><td>5         </td><td>22:00     </td><td>33        </td><td>014       </td><td>48        </td><td>113       </td></tr>\n",
       "\t<tr><td>1991-06-05</td><td>1991      </td><td>Jun       </td><td>5         </td><td>22:00     </td><td>33        </td><td>014       </td><td>48        </td><td>113       </td></tr>\n",
       "\t<tr><td>1991-06-05</td><td>1991      </td><td>Jun       </td><td>5         </td><td>22:00     </td><td>33        </td><td>014       </td><td>48        </td><td>113       </td></tr>\n",
       "\t<tr><td>1991-06-05</td><td>1991      </td><td>Jun       </td><td>5         </td><td>22:00     </td><td>33        </td><td>014       </td><td>48        </td><td>113       </td></tr>\n",
       "</tbody>\n",
       "</table>\n"
      ],
      "text/latex": [
       "\\begin{tabular}{r|lllllllll}\n",
       " date & year & month & day & Time & Insulin\\_Code & Insulin\\_dose & Glucose\\_Code & Glucose\\_level\\\\\n",
       "\\hline\n",
       "\t 1991-06-05 & 1991       & Jun        & 5          & 22:00      & 33         & 014        & 48         & 113       \\\\\n",
       "\t 1991-06-05 & 1991       & Jun        & 5          & 22:00      & 33         & 014        & 48         & 113       \\\\\n",
       "\t 1991-06-05 & 1991       & Jun        & 5          & 22:00      & 33         & 014        & 48         & 113       \\\\\n",
       "\t 1991-06-05 & 1991       & Jun        & 5          & 22:00      & 33         & 014        & 48         & 113       \\\\\n",
       "\t 1991-06-05 & 1991       & Jun        & 5          & 22:00      & 33         & 014        & 48         & 113       \\\\\n",
       "\t 1991-06-05 & 1991       & Jun        & 5          & 22:00      & 33         & 014        & 48         & 113       \\\\\n",
       "\t 1991-06-05 & 1991       & Jun        & 5          & 22:00      & 33         & 014        & 48         & 113       \\\\\n",
       "\t 1991-06-05 & 1991       & Jun        & 5          & 22:00      & 33         & 014        & 48         & 113       \\\\\n",
       "\t 1991-06-05 & 1991       & Jun        & 5          & 22:00      & 33         & 014        & 48         & 113       \\\\\n",
       "\t 1991-06-05 & 1991       & Jun        & 5          & 22:00      & 33         & 014        & 48         & 113       \\\\\n",
       "\\end{tabular}\n"
      ],
      "text/markdown": [
       "\n",
       "| date | year | month | day | Time | Insulin_Code | Insulin_dose | Glucose_Code | Glucose_level |\n",
       "|---|---|---|---|---|---|---|---|---|\n",
       "| 1991-06-05 | 1991       | Jun        | 5          | 22:00      | 33         | 014        | 48         | 113        |\n",
       "| 1991-06-05 | 1991       | Jun        | 5          | 22:00      | 33         | 014        | 48         | 113        |\n",
       "| 1991-06-05 | 1991       | Jun        | 5          | 22:00      | 33         | 014        | 48         | 113        |\n",
       "| 1991-06-05 | 1991       | Jun        | 5          | 22:00      | 33         | 014        | 48         | 113        |\n",
       "| 1991-06-05 | 1991       | Jun        | 5          | 22:00      | 33         | 014        | 48         | 113        |\n",
       "| 1991-06-05 | 1991       | Jun        | 5          | 22:00      | 33         | 014        | 48         | 113        |\n",
       "| 1991-06-05 | 1991       | Jun        | 5          | 22:00      | 33         | 014        | 48         | 113        |\n",
       "| 1991-06-05 | 1991       | Jun        | 5          | 22:00      | 33         | 014        | 48         | 113        |\n",
       "| 1991-06-05 | 1991       | Jun        | 5          | 22:00      | 33         | 014        | 48         | 113        |\n",
       "| 1991-06-05 | 1991       | Jun        | 5          | 22:00      | 33         | 014        | 48         | 113        |\n",
       "\n"
      ],
      "text/plain": [
       "   date       year month day Time  Insulin_Code Insulin_dose Glucose_Code\n",
       "1  1991-06-05 1991 Jun   5   22:00 33           014          48          \n",
       "2  1991-06-05 1991 Jun   5   22:00 33           014          48          \n",
       "3  1991-06-05 1991 Jun   5   22:00 33           014          48          \n",
       "4  1991-06-05 1991 Jun   5   22:00 33           014          48          \n",
       "5  1991-06-05 1991 Jun   5   22:00 33           014          48          \n",
       "6  1991-06-05 1991 Jun   5   22:00 33           014          48          \n",
       "7  1991-06-05 1991 Jun   5   22:00 33           014          48          \n",
       "8  1991-06-05 1991 Jun   5   22:00 33           014          48          \n",
       "9  1991-06-05 1991 Jun   5   22:00 33           014          48          \n",
       "10 1991-06-05 1991 Jun   5   22:00 33           014          48          \n",
       "   Glucose_level\n",
       "1  113          \n",
       "2  113          \n",
       "3  113          \n",
       "4  113          \n",
       "5  113          \n",
       "6  113          \n",
       "7  113          \n",
       "8  113          \n",
       "9  113          \n",
       "10 113          "
      ]
     },
     "metadata": {},
     "output_type": "display_data"
    },
    {
     "data": {
      "text/html": [
       "74670"
      ],
      "text/latex": [
       "74670"
      ],
      "text/markdown": [
       "74670"
      ],
      "text/plain": [
       "[1] 74670"
      ]
     },
     "metadata": {},
     "output_type": "display_data"
    }
   ],
   "source": [
    "#Filtering all Insulin dose values greater than 2 digit numbers (not compatible with life)\n",
    "Diabetes_InsGlucose4 <- Diabetes_InsGlucose3 %>%\n",
    "    filter(str_length(Insulin_dose) != 1 & (str_length(Insulin_dose) != 2))\n",
    "\n",
    "#Removing all rows with 3 digit Insulin doses\n",
    "Diabetes_InsGlucose4 %>%\n",
    "    filter(str_length(Insulin_dose) == 1 & str_length(Insulin_dose) == 2)\n",
    "head(Diabetes_InsGlucose4, n = 10)\n",
    "nrow(Diabetes_InsGlucose4)\n",
    "\n",
    "#FIGURE OUT HOW TO remove the zeros at the beginning of the Insulin dose values!! CODE ABOVE NOT WORKED!"
   ]
  },
  {
   "cell_type": "code",
   "execution_count": 260,
   "metadata": {},
   "outputs": [
    {
     "data": {
      "text/html": [
       "'character'"
      ],
      "text/latex": [
       "'character'"
      ],
      "text/markdown": [
       "'character'"
      ],
      "text/plain": [
       "[1] \"character\""
      ]
     },
     "metadata": {},
     "output_type": "display_data"
    }
   ],
   "source": [
    "class(Diabetes_InsGlucose3$Glucose_level)"
   ]
  },
  {
   "cell_type": "code",
   "execution_count": 282,
   "metadata": {},
   "outputs": [
    {
     "data": {
      "text/html": [
       "<table>\n",
       "<thead><tr><th scope=col>date</th><th scope=col>year</th><th scope=col>month</th><th scope=col>day</th><th scope=col>Time</th><th scope=col>Insulin_Code</th><th scope=col>Insulin_dose</th><th scope=col>Glucose_Code</th><th scope=col>Glucose_level</th></tr></thead>\n",
       "<tbody>\n",
       "\t<tr><td>1989-11-06</td><td>1989      </td><td>Nov       </td><td>6         </td><td>22:00     </td><td>33        </td><td>014       </td><td>48        </td><td>0Hi       </td></tr>\n",
       "\t<tr><td>1989-11-06</td><td>1989      </td><td>Nov       </td><td>6         </td><td>22:00     </td><td>33        </td><td>014       </td><td>48        </td><td>0Hi       </td></tr>\n",
       "\t<tr><td>1989-11-06</td><td>1989      </td><td>Nov       </td><td>6         </td><td>22:00     </td><td>33        </td><td>014       </td><td>48        </td><td>0Hi       </td></tr>\n",
       "\t<tr><td>1989-11-06</td><td>1989      </td><td>Nov       </td><td>6         </td><td>22:00     </td><td>33        </td><td>014       </td><td>48        </td><td>0Hi       </td></tr>\n",
       "\t<tr><td>1989-11-06</td><td>1989      </td><td>Nov       </td><td>6         </td><td>22:00     </td><td>33        </td><td>014       </td><td>48        </td><td>0Hi       </td></tr>\n",
       "\t<tr><td>1989-11-06</td><td>1989      </td><td>Nov       </td><td>6         </td><td>22:00     </td><td>33        </td><td>014       </td><td>48        </td><td>0Hi       </td></tr>\n",
       "\t<tr><td>1989-11-06</td><td>1989      </td><td>Nov       </td><td>6         </td><td>22:00     </td><td>33        </td><td>014       </td><td>48        </td><td>0Hi       </td></tr>\n",
       "\t<tr><td>1989-11-06</td><td>1989      </td><td>Nov       </td><td>6         </td><td>22:00     </td><td>33        </td><td>014       </td><td>48        </td><td>0Hi       </td></tr>\n",
       "\t<tr><td>1989-11-06</td><td>1989      </td><td>Nov       </td><td>6         </td><td>22:00     </td><td>33        </td><td>014       </td><td>48        </td><td>0Hi       </td></tr>\n",
       "\t<tr><td>1989-11-06</td><td>1989      </td><td>Nov       </td><td>6         </td><td>22:00     </td><td>33        </td><td>014       </td><td>48        </td><td>0Hi       </td></tr>\n",
       "</tbody>\n",
       "</table>\n"
      ],
      "text/latex": [
       "\\begin{tabular}{r|lllllllll}\n",
       " date & year & month & day & Time & Insulin\\_Code & Insulin\\_dose & Glucose\\_Code & Glucose\\_level\\\\\n",
       "\\hline\n",
       "\t 1989-11-06 & 1989       & Nov        & 6          & 22:00      & 33         & 014        & 48         & 0Hi       \\\\\n",
       "\t 1989-11-06 & 1989       & Nov        & 6          & 22:00      & 33         & 014        & 48         & 0Hi       \\\\\n",
       "\t 1989-11-06 & 1989       & Nov        & 6          & 22:00      & 33         & 014        & 48         & 0Hi       \\\\\n",
       "\t 1989-11-06 & 1989       & Nov        & 6          & 22:00      & 33         & 014        & 48         & 0Hi       \\\\\n",
       "\t 1989-11-06 & 1989       & Nov        & 6          & 22:00      & 33         & 014        & 48         & 0Hi       \\\\\n",
       "\t 1989-11-06 & 1989       & Nov        & 6          & 22:00      & 33         & 014        & 48         & 0Hi       \\\\\n",
       "\t 1989-11-06 & 1989       & Nov        & 6          & 22:00      & 33         & 014        & 48         & 0Hi       \\\\\n",
       "\t 1989-11-06 & 1989       & Nov        & 6          & 22:00      & 33         & 014        & 48         & 0Hi       \\\\\n",
       "\t 1989-11-06 & 1989       & Nov        & 6          & 22:00      & 33         & 014        & 48         & 0Hi       \\\\\n",
       "\t 1989-11-06 & 1989       & Nov        & 6          & 22:00      & 33         & 014        & 48         & 0Hi       \\\\\n",
       "\\end{tabular}\n"
      ],
      "text/markdown": [
       "\n",
       "| date | year | month | day | Time | Insulin_Code | Insulin_dose | Glucose_Code | Glucose_level |\n",
       "|---|---|---|---|---|---|---|---|---|\n",
       "| 1989-11-06 | 1989       | Nov        | 6          | 22:00      | 33         | 014        | 48         | 0Hi        |\n",
       "| 1989-11-06 | 1989       | Nov        | 6          | 22:00      | 33         | 014        | 48         | 0Hi        |\n",
       "| 1989-11-06 | 1989       | Nov        | 6          | 22:00      | 33         | 014        | 48         | 0Hi        |\n",
       "| 1989-11-06 | 1989       | Nov        | 6          | 22:00      | 33         | 014        | 48         | 0Hi        |\n",
       "| 1989-11-06 | 1989       | Nov        | 6          | 22:00      | 33         | 014        | 48         | 0Hi        |\n",
       "| 1989-11-06 | 1989       | Nov        | 6          | 22:00      | 33         | 014        | 48         | 0Hi        |\n",
       "| 1989-11-06 | 1989       | Nov        | 6          | 22:00      | 33         | 014        | 48         | 0Hi        |\n",
       "| 1989-11-06 | 1989       | Nov        | 6          | 22:00      | 33         | 014        | 48         | 0Hi        |\n",
       "| 1989-11-06 | 1989       | Nov        | 6          | 22:00      | 33         | 014        | 48         | 0Hi        |\n",
       "| 1989-11-06 | 1989       | Nov        | 6          | 22:00      | 33         | 014        | 48         | 0Hi        |\n",
       "\n"
      ],
      "text/plain": [
       "   date       year month day Time  Insulin_Code Insulin_dose Glucose_Code\n",
       "1  1989-11-06 1989 Nov   6   22:00 33           014          48          \n",
       "2  1989-11-06 1989 Nov   6   22:00 33           014          48          \n",
       "3  1989-11-06 1989 Nov   6   22:00 33           014          48          \n",
       "4  1989-11-06 1989 Nov   6   22:00 33           014          48          \n",
       "5  1989-11-06 1989 Nov   6   22:00 33           014          48          \n",
       "6  1989-11-06 1989 Nov   6   22:00 33           014          48          \n",
       "7  1989-11-06 1989 Nov   6   22:00 33           014          48          \n",
       "8  1989-11-06 1989 Nov   6   22:00 33           014          48          \n",
       "9  1989-11-06 1989 Nov   6   22:00 33           014          48          \n",
       "10 1989-11-06 1989 Nov   6   22:00 33           014          48          \n",
       "   Glucose_level\n",
       "1  0Hi          \n",
       "2  0Hi          \n",
       "3  0Hi          \n",
       "4  0Hi          \n",
       "5  0Hi          \n",
       "6  0Hi          \n",
       "7  0Hi          \n",
       "8  0Hi          \n",
       "9  0Hi          \n",
       "10 0Hi          "
      ]
     },
     "metadata": {},
     "output_type": "display_data"
    },
    {
     "data": {
      "text/html": [
       "590"
      ],
      "text/latex": [
       "590"
      ],
      "text/markdown": [
       "590"
      ],
      "text/plain": [
       "[1] 590"
      ]
     },
     "metadata": {},
     "output_type": "display_data"
    }
   ],
   "source": [
    "#Filtering for rows in Glucose Values column containing \"0Hi\" data points \n",
    " Inapprop_values1 <- Diabetes_InsGlucose4 %>%\n",
    "    filter(str_detect(Glucose_level, \"0Hi\"))\n",
    "head(Inapprop_values1, n = 10)\n",
    "nrow(Inapprop_values1)"
   ]
  },
  {
   "cell_type": "code",
   "execution_count": 284,
   "metadata": {},
   "outputs": [
    {
     "data": {
      "text/html": [
       "<table>\n",
       "<thead><tr><th scope=col>date</th><th scope=col>year</th><th scope=col>month</th><th scope=col>day</th><th scope=col>Time</th><th scope=col>Insulin_Code</th><th scope=col>Insulin_dose</th><th scope=col>Glucose_Code</th><th scope=col>Glucose_level</th></tr></thead>\n",
       "<tbody>\n",
       "\t<tr><td>1989-11-08</td><td>1989      </td><td>Nov       </td><td>8         </td><td>18:00     </td><td>33        </td><td>010       </td><td>62        </td><td>0Lo       </td></tr>\n",
       "\t<tr><td>1989-11-08</td><td>1989      </td><td>Nov       </td><td>8         </td><td>18:00     </td><td>33        </td><td>010       </td><td>62        </td><td>0Lo       </td></tr>\n",
       "\t<tr><td>1989-11-08</td><td>1989      </td><td>Nov       </td><td>8         </td><td>18:00     </td><td>33        </td><td>010       </td><td>62        </td><td>0Lo       </td></tr>\n",
       "\t<tr><td>1989-11-08</td><td>1989      </td><td>Nov       </td><td>8         </td><td>18:00     </td><td>33        </td><td>010       </td><td>62        </td><td>0Lo       </td></tr>\n",
       "\t<tr><td>1989-11-08</td><td>1989      </td><td>Nov       </td><td>8         </td><td>18:00     </td><td>33        </td><td>010       </td><td>62        </td><td>0Lo       </td></tr>\n",
       "\t<tr><td>1989-11-08</td><td>1989      </td><td>Nov       </td><td>8         </td><td>18:00     </td><td>33        </td><td>010       </td><td>62        </td><td>0Lo       </td></tr>\n",
       "\t<tr><td>1989-11-08</td><td>1989      </td><td>Nov       </td><td>8         </td><td>18:00     </td><td>33        </td><td>010       </td><td>62        </td><td>0Lo       </td></tr>\n",
       "\t<tr><td>1989-11-08</td><td>1989      </td><td>Nov       </td><td>8         </td><td>18:00     </td><td>33        </td><td>010       </td><td>62        </td><td>0Lo       </td></tr>\n",
       "\t<tr><td>1989-11-08</td><td>1989      </td><td>Nov       </td><td>8         </td><td>18:00     </td><td>33        </td><td>012       </td><td>62        </td><td>0Lo       </td></tr>\n",
       "\t<tr><td>1989-11-08</td><td>1989      </td><td>Nov       </td><td>8         </td><td>18:00     </td><td>33        </td><td>010       </td><td>62        </td><td>0Lo       </td></tr>\n",
       "</tbody>\n",
       "</table>\n"
      ],
      "text/latex": [
       "\\begin{tabular}{r|lllllllll}\n",
       " date & year & month & day & Time & Insulin\\_Code & Insulin\\_dose & Glucose\\_Code & Glucose\\_level\\\\\n",
       "\\hline\n",
       "\t 1989-11-08 & 1989       & Nov        & 8          & 18:00      & 33         & 010        & 62         & 0Lo       \\\\\n",
       "\t 1989-11-08 & 1989       & Nov        & 8          & 18:00      & 33         & 010        & 62         & 0Lo       \\\\\n",
       "\t 1989-11-08 & 1989       & Nov        & 8          & 18:00      & 33         & 010        & 62         & 0Lo       \\\\\n",
       "\t 1989-11-08 & 1989       & Nov        & 8          & 18:00      & 33         & 010        & 62         & 0Lo       \\\\\n",
       "\t 1989-11-08 & 1989       & Nov        & 8          & 18:00      & 33         & 010        & 62         & 0Lo       \\\\\n",
       "\t 1989-11-08 & 1989       & Nov        & 8          & 18:00      & 33         & 010        & 62         & 0Lo       \\\\\n",
       "\t 1989-11-08 & 1989       & Nov        & 8          & 18:00      & 33         & 010        & 62         & 0Lo       \\\\\n",
       "\t 1989-11-08 & 1989       & Nov        & 8          & 18:00      & 33         & 010        & 62         & 0Lo       \\\\\n",
       "\t 1989-11-08 & 1989       & Nov        & 8          & 18:00      & 33         & 012        & 62         & 0Lo       \\\\\n",
       "\t 1989-11-08 & 1989       & Nov        & 8          & 18:00      & 33         & 010        & 62         & 0Lo       \\\\\n",
       "\\end{tabular}\n"
      ],
      "text/markdown": [
       "\n",
       "| date | year | month | day | Time | Insulin_Code | Insulin_dose | Glucose_Code | Glucose_level |\n",
       "|---|---|---|---|---|---|---|---|---|\n",
       "| 1989-11-08 | 1989       | Nov        | 8          | 18:00      | 33         | 010        | 62         | 0Lo        |\n",
       "| 1989-11-08 | 1989       | Nov        | 8          | 18:00      | 33         | 010        | 62         | 0Lo        |\n",
       "| 1989-11-08 | 1989       | Nov        | 8          | 18:00      | 33         | 010        | 62         | 0Lo        |\n",
       "| 1989-11-08 | 1989       | Nov        | 8          | 18:00      | 33         | 010        | 62         | 0Lo        |\n",
       "| 1989-11-08 | 1989       | Nov        | 8          | 18:00      | 33         | 010        | 62         | 0Lo        |\n",
       "| 1989-11-08 | 1989       | Nov        | 8          | 18:00      | 33         | 010        | 62         | 0Lo        |\n",
       "| 1989-11-08 | 1989       | Nov        | 8          | 18:00      | 33         | 010        | 62         | 0Lo        |\n",
       "| 1989-11-08 | 1989       | Nov        | 8          | 18:00      | 33         | 010        | 62         | 0Lo        |\n",
       "| 1989-11-08 | 1989       | Nov        | 8          | 18:00      | 33         | 012        | 62         | 0Lo        |\n",
       "| 1989-11-08 | 1989       | Nov        | 8          | 18:00      | 33         | 010        | 62         | 0Lo        |\n",
       "\n"
      ],
      "text/plain": [
       "   date       year month day Time  Insulin_Code Insulin_dose Glucose_Code\n",
       "1  1989-11-08 1989 Nov   8   18:00 33           010          62          \n",
       "2  1989-11-08 1989 Nov   8   18:00 33           010          62          \n",
       "3  1989-11-08 1989 Nov   8   18:00 33           010          62          \n",
       "4  1989-11-08 1989 Nov   8   18:00 33           010          62          \n",
       "5  1989-11-08 1989 Nov   8   18:00 33           010          62          \n",
       "6  1989-11-08 1989 Nov   8   18:00 33           010          62          \n",
       "7  1989-11-08 1989 Nov   8   18:00 33           010          62          \n",
       "8  1989-11-08 1989 Nov   8   18:00 33           010          62          \n",
       "9  1989-11-08 1989 Nov   8   18:00 33           012          62          \n",
       "10 1989-11-08 1989 Nov   8   18:00 33           010          62          \n",
       "   Glucose_level\n",
       "1  0Lo          \n",
       "2  0Lo          \n",
       "3  0Lo          \n",
       "4  0Lo          \n",
       "5  0Lo          \n",
       "6  0Lo          \n",
       "7  0Lo          \n",
       "8  0Lo          \n",
       "9  0Lo          \n",
       "10 0Lo          "
      ]
     },
     "metadata": {},
     "output_type": "display_data"
    },
    {
     "data": {
      "text/html": [
       "115"
      ],
      "text/latex": [
       "115"
      ],
      "text/markdown": [
       "115"
      ],
      "text/plain": [
       "[1] 115"
      ]
     },
     "metadata": {},
     "output_type": "display_data"
    }
   ],
   "source": [
    "#Filtering for rows in Glucose Values column containing \"0Lo\" values\n",
    " Inapprop_values2 <- Diabetes_InsGlucose4 %>%\n",
    "    filter(str_detect(Glucose_level, \"0Lo\"))\n",
    "head(Inapprop_values2, n = 10)\n",
    "nrow(Inapprop_values2)"
   ]
  },
  {
   "cell_type": "code",
   "execution_count": 287,
   "metadata": {},
   "outputs": [
    {
     "name": "stderr",
     "output_type": "stream",
     "text": [
      "Warning message:\n",
      "\"Unknown or uninitialised column: `Glucose_Level`.\""
     ]
    },
    {
     "ename": "ERROR",
     "evalue": "Error: Problem with `mutate()` input `Glucose_LevelClean`.\nx Input `Glucose_LevelClean` can't be recycled to size 435.\ni Input `Glucose_LevelClean` is `Glucose_LevelClean`.\ni Input `Glucose_LevelClean` must be size 435 or 1, not 0.\ni The error occurred in group 1: month = \"Jan\", day = 1.\n",
     "output_type": "error",
     "traceback": [
      "Error: Problem with `mutate()` input `Glucose_LevelClean`.\nx Input `Glucose_LevelClean` can't be recycled to size 435.\ni Input `Glucose_LevelClean` is `Glucose_LevelClean`.\ni Input `Glucose_LevelClean` must be size 435 or 1, not 0.\ni The error occurred in group 1: month = \"Jan\", day = 1.\nTraceback:\n",
      "1. Diabetes_InsGlucose4 %>% mutate(Glucose_LevelClean = Glucose_LevelClean)",
      "2. mutate(., Glucose_LevelClean = Glucose_LevelClean)",
      "3. mutate.data.frame(., Glucose_LevelClean = Glucose_LevelClean)",
      "4. mutate_cols(.data, ...)",
      "5. withCallingHandlers({\n .     for (i in seq_along(dots)) {\n .         not_named <- (is.null(dots_names) || dots_names[i] == \n .             \"\")\n .         chunks <- NULL\n .         result <- NULL\n .         if (quo_is_symbol(dots[[i]])) {\n .             name <- as_string(quo_get_expr(dots[[i]]))\n .             if (name %in% names(new_columns)) {\n .                 result <- new_columns[[name]]\n .                 chunks <- mask$resolve(name)\n .             }\n .             else if (name %in% names(.data)) {\n .                 result <- .data[[name]]\n .                 chunks <- mask$resolve(name)\n .             }\n .             if (inherits(.data, \"rowwise_df\") && vec_is_list(result)) {\n .                 sizes <- list_sizes(result)\n .                 wrong <- which(sizes != 1)\n .                 if (length(wrong)) {\n .                   group <- wrong[1L]\n .                   mask$set_current_group(group)\n .                   abort(x_size = sizes[group], class = \"dplyr:::mutate_incompatible_size\")\n .                 }\n .             }\n .         }\n .         if (is.null(chunks)) {\n .             chunks <- mask$eval_all_mutate(dots[[i]])\n .         }\n .         mask$across_cache_reset()\n .         if (is.null(chunks)) {\n .             if (!is.null(dots_names) && dots_names[i] != \"\") {\n .                 new_columns[[dots_names[i]]] <- zap()\n .                 mask$remove(dots_names[i])\n .             }\n .             next\n .         }\n .         if (is.null(result)) {\n .             if (length(rows) == 1) {\n .                 result <- chunks[[1]]\n .             }\n .             else {\n .                 result <- withCallingHandlers(vec_unchop(chunks <- vec_cast_common(!!!chunks), \n .                   rows), vctrs_error_incompatible_type = function(cnd) {\n .                   abort(class = \"dplyr:::error_mutate_incompatible_combine\", \n .                     parent = cnd)\n .                 })\n .             }\n .         }\n .         if (not_named && is.data.frame(result)) {\n .             new_columns[names(result)] <- result\n .             map2(seq_along(result), names(result), function(i, \n .                 nm) {\n .                 mask$add(nm, pluck(chunks, i))\n .             })\n .         }\n .         else {\n .             name <- if (not_named) \n .                 auto_named_dots[i]\n .             else dots_names[i]\n .             new_columns[[name]] <- result\n .             mask$add(name, chunks)\n .         }\n .     }\n . }, error = function(e) {\n .     local_call_step(dots = dots, .index = i, .fn = \"mutate\", \n .         .dot_data = inherits(e, \"rlang_error_data_pronoun_not_found\"))\n .     call_step_envir <- peek_call_step()\n .     error_name <- call_step_envir$error_name\n .     error_expression <- call_step_envir$error_expression\n .     show_group_details <- TRUE\n .     if (inherits(e, \"dplyr:::mutate_incompatible_size\")) {\n .         size <- vec_size(rows[[mask$get_current_group()]])\n .         x_size <- e$x_size\n .         bullets <- c(x = glue(\"Input `{error_name}` can't be recycled to size {size}.\"), \n .             i = cnd_bullet_input_info(), i = glue(\"Input `{error_name}` must be size {or_1(size)}, not {x_size}.\"), \n .             i = cnd_bullet_rowwise_unlist())\n .     }\n .     else if (inherits(e, \"dplyr:::mutate_mixed_null\")) {\n .         show_group_details <- FALSE\n .         bullets <- c(x = glue(\"`{error_name}` must return compatible vectors across groups.\"), \n .             i = cnd_bullet_input_info(), i = \"Cannot combine NULL and non NULL results.\", \n .             i = cnd_bullet_rowwise_unlist())\n .     }\n .     else if (inherits(e, \"dplyr:::mutate_not_vector\")) {\n .         bullets <- c(x = glue(\"Input `{error_name}` must be a vector, not {friendly_type_of(e$result)}.\"), \n .             i = cnd_bullet_input_info(), i = cnd_bullet_rowwise_unlist())\n .     }\n .     else if (inherits(e, \"dplyr:::error_mutate_incompatible_combine\")) {\n .         show_group_details <- FALSE\n .         bullets <- c(x = glue(\"Input `{error_name}` must return compatible vectors across groups\"), \n .             i = cnd_bullet_input_info(), i = cnd_bullet_combine_details(e$parent$x, \n .                 e$parent$x_arg), i = cnd_bullet_combine_details(e$parent$y, \n .                 e$parent$y_arg))\n .     }\n .     else {\n .         bullets <- c(x = conditionMessage(e), i = cnd_bullet_input_info())\n .     }\n .     bullets <- c(cnd_bullet_header(), bullets, i = if (show_group_details) cnd_bullet_cur_group_label())\n .     abort(bullets, class = c(\"dplyr:::mutate_error\", \"dplyr_error\"), \n .         error_name = error_name, error_expression = error_expression, \n .         parent = e, bullets = bullets)\n . }, warning = function(w) {\n .     local_call_step(dots = dots, .index = i, .fn = \"mutate\")\n .     warn(c(cnd_bullet_header(), i = conditionMessage(w), i = cnd_bullet_input_info(), \n .         i = cnd_bullet_cur_group_label()))\n .     invokeRestart(\"muffleWarning\")\n . })",
      "6. mask$eval_all_mutate(dots[[i]])",
      "7. abort_glue(character(0), list(x_size = 0L), \"dplyr:::mutate_incompatible_size\")",
      "8. exec(abort, class = class, !!!data)",
      "9. (function (message = NULL, class = NULL, ..., trace = NULL, parent = NULL, \n .     .subclass = deprecated()) \n . {\n .     validate_signal_args(.subclass)\n .     if (is_null(trace) && is_null(peek_option(\"rlang:::disable_trace_capture\"))) {\n .         with_options(`rlang:::disable_trace_capture` = TRUE, \n .             {\n .                 trace <- trace_back()\n .                 if (is_null(parent)) {\n .                   context <- trace_length(trace)\n .                 }\n .                 else {\n .                   context <- trace_capture_depth(trace)\n .                 }\n .                 trace <- trace_trim_context(trace, context)\n .             })\n .     }\n .     message <- validate_signal_message(message, class)\n .     message <- collapse_cnd_message(message)\n .     cnd <- error_cnd(class, ..., message = message, parent = parent, \n .         trace = trace)\n .     signal_abort(cnd)\n . })(class = \"dplyr:::mutate_incompatible_size\", x_size = 0L)",
      "10. signal_abort(cnd)",
      "11. signalCondition(cnd)",
      "12. (function (e) \n  . {\n  .     local_call_step(dots = dots, .index = i, .fn = \"mutate\", \n  .         .dot_data = inherits(e, \"rlang_error_data_pronoun_not_found\"))\n  .     call_step_envir <- peek_call_step()\n  .     error_name <- call_step_envir$error_name\n  .     error_expression <- call_step_envir$error_expression\n  .     show_group_details <- TRUE\n  .     if (inherits(e, \"dplyr:::mutate_incompatible_size\")) {\n  .         size <- vec_size(rows[[mask$get_current_group()]])\n  .         x_size <- e$x_size\n  .         bullets <- c(x = glue(\"Input `{error_name}` can't be recycled to size {size}.\"), \n  .             i = cnd_bullet_input_info(), i = glue(\"Input `{error_name}` must be size {or_1(size)}, not {x_size}.\"), \n  .             i = cnd_bullet_rowwise_unlist())\n  .     }\n  .     else if (inherits(e, \"dplyr:::mutate_mixed_null\")) {\n  .         show_group_details <- FALSE\n  .         bullets <- c(x = glue(\"`{error_name}` must return compatible vectors across groups.\"), \n  .             i = cnd_bullet_input_info(), i = \"Cannot combine NULL and non NULL results.\", \n  .             i = cnd_bullet_rowwise_unlist())\n  .     }\n  .     else if (inherits(e, \"dplyr:::mutate_not_vector\")) {\n  .         bullets <- c(x = glue(\"Input `{error_name}` must be a vector, not {friendly_type_of(e$result)}.\"), \n  .             i = cnd_bullet_input_info(), i = cnd_bullet_rowwise_unlist())\n  .     }\n  .     else if (inherits(e, \"dplyr:::error_mutate_incompatible_combine\")) {\n  .         show_group_details <- FALSE\n  .         bullets <- c(x = glue(\"Input `{error_name}` must return compatible vectors across groups\"), \n  .             i = cnd_bullet_input_info(), i = cnd_bullet_combine_details(e$parent$x, \n  .                 e$parent$x_arg), i = cnd_bullet_combine_details(e$parent$y, \n  .                 e$parent$y_arg))\n  .     }\n  .     else {\n  .         bullets <- c(x = conditionMessage(e), i = cnd_bullet_input_info())\n  .     }\n  .     bullets <- c(cnd_bullet_header(), bullets, i = if (show_group_details) cnd_bullet_cur_group_label())\n  .     abort(bullets, class = c(\"dplyr:::mutate_error\", \"dplyr_error\"), \n  .         error_name = error_name, error_expression = error_expression, \n  .         parent = e, bullets = bullets)\n  . })(structure(list(message = \"\", trace = structure(list(calls = list(\n  .     IRkernel::main(), kernel$run(), IRkernel:::handle_shell(), \n  .     executor$execute(msg), base::tryCatch(evaluate(request$content$code, \n  .         envir = .GlobalEnv, output_handler = oh, stop_on_error = 1L), \n  .         interrupt = function(cond) interrupted <<- TRUE, error = .self$handle_error), \n  .     base:::tryCatchList(expr, classes, parentenv, handlers), \n  .     base:::tryCatchOne(tryCatchList(expr, names[-nh], parentenv, \n  .         handlers[-nh]), names[nh], parentenv, handlers[[nh]]), \n  .     base:::doTryCatch(return(expr), name, parentenv, handler), \n  .     base:::tryCatchList(expr, names[-nh], parentenv, handlers[-nh]), \n  .     base:::tryCatchOne(expr, names, parentenv, handlers[[1L]]), \n  .     base:::doTryCatch(return(expr), name, parentenv, handler), \n  .     evaluate::evaluate(request$content$code, envir = .GlobalEnv, \n  .         output_handler = oh, stop_on_error = 1L), evaluate:::evaluate_call(expr, \n  .         parsed$src[[i]], envir = envir, enclos = enclos, debug = debug, \n  .         last = i == length(out), use_try = stop_on_error != 2L, \n  .         keep_warning = keep_warning, keep_message = keep_message, \n  .         output_handler = output_handler, include_timing = include_timing), \n  .     evaluate:::timing_fn(handle(ev <- withCallingHandlers(withVisible(eval(expr, \n  .         envir, enclos)), warning = wHandler, error = eHandler, \n  .         message = mHandler))), evaluate:::handle(ev <- withCallingHandlers(withVisible(eval(expr, \n  .         envir, enclos)), warning = wHandler, error = eHandler, \n  .         message = mHandler)), base::try(f, silent = TRUE), base::tryCatch(expr, \n  .         error = function(e) {\n  .             call <- conditionCall(e)\n  .             if (!is.null(call)) {\n  .                 if (identical(call[[1L]], quote(doTryCatch))) \n  .                   call <- sys.call(-4L)\n  .                 dcall <- deparse(call)[1L]\n  .                 prefix <- paste(\"Error in\", dcall, \": \")\n  .                 LONG <- 75L\n  .                 sm <- strsplit(conditionMessage(e), \"\\n\")[[1L]]\n  .                 w <- 14L + nchar(dcall, type = \"w\") + nchar(sm[1L], \n  .                   type = \"w\")\n  .                 if (is.na(w)) \n  .                   w <- 14L + nchar(dcall, type = \"b\") + nchar(sm[1L], \n  .                     type = \"b\")\n  .                 if (w > LONG) \n  .                   prefix <- paste0(prefix, \"\\n  \")\n  .             }\n  .             else prefix <- \"Error : \"\n  .             msg <- paste0(prefix, conditionMessage(e), \"\\n\")\n  .             .Internal(seterrmessage(msg[1L]))\n  .             if (!silent && isTRUE(getOption(\"show.error.messages\"))) {\n  .                 cat(msg, file = outFile)\n  .                 .Internal(printDeferredWarnings())\n  .             }\n  .             invisible(structure(msg, class = \"try-error\", condition = e))\n  .         }), base:::tryCatchList(expr, classes, parentenv, handlers), \n  .     base:::tryCatchOne(expr, names, parentenv, handlers[[1L]]), \n  .     base:::doTryCatch(return(expr), name, parentenv, handler), \n  .     base::withCallingHandlers(withVisible(eval(expr, envir, enclos)), \n  .         warning = wHandler, error = eHandler, message = mHandler), \n  .     base::withVisible(eval(expr, envir, enclos)), base::eval(expr, \n  .         envir, enclos), base::eval(expr, envir, enclos), Diabetes_InsGlucose4 %>% \n  .         mutate(Glucose_LevelClean = Glucose_LevelClean), dplyr::mutate(., \n  .         Glucose_LevelClean = Glucose_LevelClean), dplyr:::mutate.data.frame(., \n  .         Glucose_LevelClean = Glucose_LevelClean), dplyr:::mutate_cols(.data, \n  .         ...), base::withCallingHandlers({\n  .         for (i in seq_along(dots)) {\n  .             not_named <- (is.null(dots_names) || dots_names[i] == \n  .                 \"\")\n  .             chunks <- NULL\n  .             result <- NULL\n  .             if (quo_is_symbol(dots[[i]])) {\n  .                 name <- as_string(quo_get_expr(dots[[i]]))\n  .                 if (name %in% names(new_columns)) {\n  .                   result <- new_columns[[name]]\n  .                   chunks <- mask$resolve(name)\n  .                 }\n  .                 else if (name %in% names(.data)) {\n  .                   result <- .data[[name]]\n  .                   chunks <- mask$resolve(name)\n  .                 }\n  .                 if (inherits(.data, \"rowwise_df\") && vec_is_list(result)) {\n  .                   sizes <- list_sizes(result)\n  .                   wrong <- which(sizes != 1)\n  .                   if (length(wrong)) {\n  .                     group <- wrong[1L]\n  .                     mask$set_current_group(group)\n  .                     abort(x_size = sizes[group], class = \"dplyr:::mutate_incompatible_size\")\n  .                   }\n  .                 }\n  .             }\n  .             if (is.null(chunks)) {\n  .                 chunks <- mask$eval_all_mutate(dots[[i]])\n  .             }\n  .             mask$across_cache_reset()\n  .             if (is.null(chunks)) {\n  .                 if (!is.null(dots_names) && dots_names[i] != \n  .                   \"\") {\n  .                   new_columns[[dots_names[i]]] <- zap()\n  .                   mask$remove(dots_names[i])\n  .                 }\n  .                 next\n  .             }\n  .             if (is.null(result)) {\n  .                 if (length(rows) == 1) {\n  .                   result <- chunks[[1]]\n  .                 }\n  .                 else {\n  .                   result <- withCallingHandlers(vec_unchop(chunks <- vec_cast_common(!!!chunks), \n  .                     rows), vctrs_error_incompatible_type = function(cnd) {\n  .                     abort(class = \"dplyr:::error_mutate_incompatible_combine\", \n  .                       parent = cnd)\n  .                   })\n  .                 }\n  .             }\n  .             if (not_named && is.data.frame(result)) {\n  .                 new_columns[names(result)] <- result\n  .                 map2(seq_along(result), names(result), function(i, \n  .                   nm) {\n  .                   mask$add(nm, pluck(chunks, i))\n  .                 })\n  .             }\n  .             else {\n  .                 name <- if (not_named) \n  .                   auto_named_dots[i]\n  .                 else dots_names[i]\n  .                 new_columns[[name]] <- result\n  .                 mask$add(name, chunks)\n  .             }\n  .         }\n  .     }, error = function(e) {\n  .         local_call_step(dots = dots, .index = i, .fn = \"mutate\", \n  .             .dot_data = inherits(e, \"rlang_error_data_pronoun_not_found\"))\n  .         call_step_envir <- peek_call_step()\n  .         error_name <- call_step_envir$error_name\n  .         error_expression <- call_step_envir$error_expression\n  .         show_group_details <- TRUE\n  .         if (inherits(e, \"dplyr:::mutate_incompatible_size\")) {\n  .             size <- vec_size(rows[[mask$get_current_group()]])\n  .             x_size <- e$x_size\n  .             bullets <- c(x = glue(\"Input `{error_name}` can't be recycled to size {size}.\"), \n  .                 i = cnd_bullet_input_info(), i = glue(\"Input `{error_name}` must be size {or_1(size)}, not {x_size}.\"), \n  .                 i = cnd_bullet_rowwise_unlist())\n  .         }\n  .         else if (inherits(e, \"dplyr:::mutate_mixed_null\")) {\n  .             show_group_details <- FALSE\n  .             bullets <- c(x = glue(\"`{error_name}` must return compatible vectors across groups.\"), \n  .                 i = cnd_bullet_input_info(), i = \"Cannot combine NULL and non NULL results.\", \n  .                 i = cnd_bullet_rowwise_unlist())\n  .         }\n  .         else if (inherits(e, \"dplyr:::mutate_not_vector\")) {\n  .             bullets <- c(x = glue(\"Input `{error_name}` must be a vector, not {friendly_type_of(e$result)}.\"), \n  .                 i = cnd_bullet_input_info(), i = cnd_bullet_rowwise_unlist())\n  .         }\n  .         else if (inherits(e, \"dplyr:::error_mutate_incompatible_combine\")) {\n  .             show_group_details <- FALSE\n  .             bullets <- c(x = glue(\"Input `{error_name}` must return compatible vectors across groups\"), \n  .                 i = cnd_bullet_input_info(), i = cnd_bullet_combine_details(e$parent$x, \n  .                   e$parent$x_arg), i = cnd_bullet_combine_details(e$parent$y, \n  .                   e$parent$y_arg))\n  .         }\n  .         else {\n  .             bullets <- c(x = conditionMessage(e), i = cnd_bullet_input_info())\n  .         }\n  .         bullets <- c(cnd_bullet_header(), bullets, i = if (show_group_details) cnd_bullet_cur_group_label())\n  .         abort(bullets, class = c(\"dplyr:::mutate_error\", \"dplyr_error\"), \n  .             error_name = error_name, error_expression = error_expression, \n  .             parent = e, bullets = bullets)\n  .     }, warning = function(w) {\n  .         local_call_step(dots = dots, .index = i, .fn = \"mutate\")\n  .         warn(c(cnd_bullet_header(), i = conditionMessage(w), \n  .             i = cnd_bullet_input_info(), i = cnd_bullet_cur_group_label()))\n  .         invokeRestart(\"muffleWarning\")\n  .     }), mask$eval_all_mutate(dots[[i]]), dplyr:::abort_glue(character(0), \n  .         list(x_size = 0L), \"dplyr:::mutate_incompatible_size\"), \n  .     rlang::exec(abort, class = class, !!!data)), parents = c(0L, \n  . 1L, 2L, 3L, 4L, 5L, 6L, 7L, 6L, 9L, 10L, 4L, 12L, 13L, 13L, 15L, \n  . 16L, 17L, 18L, 19L, 13L, 13L, 13L, 23L, 0L, 0L, 0L, 27L, 28L, \n  . 28L, 0L, 31L), indices = 1:32), class = \"rlang_trace\", version = 1L), \n  .     parent = NULL, x_size = 0L), class = c(\"dplyr:::mutate_incompatible_size\", \n  . \"rlang_error\", \"error\", \"condition\")))",
      "13. abort(bullets, class = c(\"dplyr:::mutate_error\", \"dplyr_error\"), \n  .     error_name = error_name, error_expression = error_expression, \n  .     parent = e, bullets = bullets)",
      "14. signal_abort(cnd)"
     ]
    }
   ],
   "source": [
    "#Creating a new column of cleaned out Glucose values\n",
    "\n",
    "#Removing all \"0Hi\" and \"0Lo\" values from Glucose levels column\n",
    "Glucose_LevelClean <- Diabetes_InsGlucose4$Glucose_Level %>%\n",
    "    str_remove_all(\"0HI\") %>%\n",
    "    str_remove_all(\"0Lo\")\n",
    "\n",
    "#Adding the cleaned out Glucose levels column\n",
    "Diabetes_InsGlucose4 %>%\n",
    "    mutate(Glucose_LevelClean = Glucose_LevelClean)\n",
    "\n",
    "#CODE INCORRECT!!!!! NEED TO FIGURE THIS OUT!!!!!"
   ]
  },
  {
   "cell_type": "code",
   "execution_count": 278,
   "metadata": {},
   "outputs": [
    {
     "name": "stderr",
     "output_type": "stream",
     "text": [
      "ERROR while rich displaying an object: Error in log(x, base): non-numeric argument to mathematical function\n",
      "\n",
      "Traceback:\n",
      "1. FUN(X[[i]], ...)\n",
      "2. tryCatch(withCallingHandlers({\n",
      " .     if (!mime %in% names(repr::mime2repr)) \n",
      " .         stop(\"No repr_* for mimetype \", mime, \" in repr::mime2repr\")\n",
      " .     rpr <- repr::mime2repr[[mime]](obj)\n",
      " .     if (is.null(rpr)) \n",
      " .         return(NULL)\n",
      " .     prepare_content(is.raw(rpr), rpr)\n",
      " . }, error = error_handler), error = outer_handler)\n",
      "3. tryCatchList(expr, classes, parentenv, handlers)\n",
      "4. tryCatchOne(expr, names, parentenv, handlers[[1L]])\n",
      "5. doTryCatch(return(expr), name, parentenv, handler)\n",
      "6. withCallingHandlers({\n",
      " .     if (!mime %in% names(repr::mime2repr)) \n",
      " .         stop(\"No repr_* for mimetype \", mime, \" in repr::mime2repr\")\n",
      " .     rpr <- repr::mime2repr[[mime]](obj)\n",
      " .     if (is.null(rpr)) \n",
      " .         return(NULL)\n",
      " .     prepare_content(is.raw(rpr), rpr)\n",
      " . }, error = error_handler)\n",
      "7. repr::mime2repr[[mime]](obj)\n",
      "8. repr_text.default(obj)\n",
      "9. paste(capture.output(print(obj)), collapse = \"\\n\")\n",
      "10. capture.output(print(obj))\n",
      "11. evalVis(expr)\n",
      "12. withVisible(eval(expr, pf))\n",
      "13. eval(expr, pf)\n",
      "14. eval(expr, pf)\n",
      "15. print(obj)\n",
      "16. print.ggplot(obj)\n",
      "17. ggplot_build(x)\n",
      "18. ggplot_build.ggplot(x)\n",
      "19. lapply(data, scales_transform_df, scales = scales)\n",
      "20. FUN(X[[i]], ...)\n",
      "21. unlist(lapply(scales$scales, function(s) s$transform_df(df = df)), \n",
      "  .     recursive = FALSE)\n",
      "22. lapply(scales$scales, function(s) s$transform_df(df = df))\n",
      "23. FUN(X[[i]], ...)\n",
      "24. s$transform_df(df = df)\n",
      "25. f(..., self = self)\n",
      "26. lapply(df[aesthetics], self$transform)\n",
      "27. FUN(X[[i]], ...)\n",
      "28. f(..., self = self)\n",
      "29. self$trans$transform(x)\n"
     ]
    },
    {
     "data": {
      "image/png": "[encoded data removed]",
      "text/plain": [
       "plot without title"
      ]
     },
     "metadata": {},
     "output_type": "display_data"
    }
   ],
   "source": [
    "#Looking for uniformity issues \n",
    "ggplot(Diabetes_InsGlucose3, aes(x = date, y = Glucose_level)) + geom_point() + scale_y_log10()"
   ]
  },
  {
   "cell_type": "code",
   "execution_count": 186,
   "metadata": {},
   "outputs": [
    {
     "data": {
      "text/html": [
       "<table>\n",
       "<thead><tr><th scope=col>Date</th><th scope=col>Time</th><th scope=col>Meal_ingestionCode</th><th scope=col>Value</th><th scope=col>date</th><th scope=col>month</th><th scope=col>day</th><th scope=col>year</th></tr></thead>\n",
       "<tbody>\n",
       "\t<tr><td>05-17-1990</td><td>10:00     </td><td>66        </td><td>0         </td><td>1990-05-17</td><td>May       </td><td>17        </td><td>1990      </td></tr>\n",
       "\t<tr><td>07-22-1990</td><td>16:08     </td><td>67        </td><td>0         </td><td>1990-07-22</td><td>Jul       </td><td>22        </td><td>1990      </td></tr>\n",
       "\t<tr><td>07-30-1990</td><td>05:28     </td><td>67        </td><td>0         </td><td>1990-07-30</td><td>Jul       </td><td>30        </td><td>1990      </td></tr>\n",
       "\t<tr><td>07-30-1990</td><td>16:46     </td><td>67        </td><td>0         </td><td>1990-07-30</td><td>Jul       </td><td>30        </td><td>1990      </td></tr>\n",
       "\t<tr><td>08-03-1990</td><td>16:24     </td><td>67        </td><td>0         </td><td>1990-08-03</td><td>Aug       </td><td> 3        </td><td>1990      </td></tr>\n",
       "\t<tr><td>08-07-1990</td><td>16:41     </td><td>67        </td><td>0         </td><td>1990-08-07</td><td>Aug       </td><td> 7        </td><td>1990      </td></tr>\n",
       "\t<tr><td>08-09-1990</td><td>16:22     </td><td>67        </td><td>0         </td><td>1990-08-09</td><td>Aug       </td><td> 9        </td><td>1990      </td></tr>\n",
       "\t<tr><td>08-11-1990</td><td>16:58     </td><td>67        </td><td>0         </td><td>1990-08-11</td><td>Aug       </td><td>11        </td><td>1990      </td></tr>\n",
       "\t<tr><td>08-22-1990</td><td>11:39     </td><td>67        </td><td>0         </td><td>1990-08-22</td><td>Aug       </td><td>22        </td><td>1990      </td></tr>\n",
       "\t<tr><td>08-26-1990</td><td>07:29     </td><td>67        </td><td>0         </td><td>1990-08-26</td><td>Aug       </td><td>26        </td><td>1990      </td></tr>\n",
       "</tbody>\n",
       "</table>\n"
      ],
      "text/latex": [
       "\\begin{tabular}{r|llllllll}\n",
       " Date & Time & Meal\\_ingestionCode & Value & date & month & day & year\\\\\n",
       "\\hline\n",
       "\t 05-17-1990 & 10:00      & 66         & 0          & 1990-05-17 & May        & 17         & 1990      \\\\\n",
       "\t 07-22-1990 & 16:08      & 67         & 0          & 1990-07-22 & Jul        & 22         & 1990      \\\\\n",
       "\t 07-30-1990 & 05:28      & 67         & 0          & 1990-07-30 & Jul        & 30         & 1990      \\\\\n",
       "\t 07-30-1990 & 16:46      & 67         & 0          & 1990-07-30 & Jul        & 30         & 1990      \\\\\n",
       "\t 08-03-1990 & 16:24      & 67         & 0          & 1990-08-03 & Aug        &  3         & 1990      \\\\\n",
       "\t 08-07-1990 & 16:41      & 67         & 0          & 1990-08-07 & Aug        &  7         & 1990      \\\\\n",
       "\t 08-09-1990 & 16:22      & 67         & 0          & 1990-08-09 & Aug        &  9         & 1990      \\\\\n",
       "\t 08-11-1990 & 16:58      & 67         & 0          & 1990-08-11 & Aug        & 11         & 1990      \\\\\n",
       "\t 08-22-1990 & 11:39      & 67         & 0          & 1990-08-22 & Aug        & 22         & 1990      \\\\\n",
       "\t 08-26-1990 & 07:29      & 67         & 0          & 1990-08-26 & Aug        & 26         & 1990      \\\\\n",
       "\\end{tabular}\n"
      ],
      "text/markdown": [
       "\n",
       "| Date | Time | Meal_ingestionCode | Value | date | month | day | year |\n",
       "|---|---|---|---|---|---|---|---|\n",
       "| 05-17-1990 | 10:00      | 66         | 0          | 1990-05-17 | May        | 17         | 1990       |\n",
       "| 07-22-1990 | 16:08      | 67         | 0          | 1990-07-22 | Jul        | 22         | 1990       |\n",
       "| 07-30-1990 | 05:28      | 67         | 0          | 1990-07-30 | Jul        | 30         | 1990       |\n",
       "| 07-30-1990 | 16:46      | 67         | 0          | 1990-07-30 | Jul        | 30         | 1990       |\n",
       "| 08-03-1990 | 16:24      | 67         | 0          | 1990-08-03 | Aug        |  3         | 1990       |\n",
       "| 08-07-1990 | 16:41      | 67         | 0          | 1990-08-07 | Aug        |  7         | 1990       |\n",
       "| 08-09-1990 | 16:22      | 67         | 0          | 1990-08-09 | Aug        |  9         | 1990       |\n",
       "| 08-11-1990 | 16:58      | 67         | 0          | 1990-08-11 | Aug        | 11         | 1990       |\n",
       "| 08-22-1990 | 11:39      | 67         | 0          | 1990-08-22 | Aug        | 22         | 1990       |\n",
       "| 08-26-1990 | 07:29      | 67         | 0          | 1990-08-26 | Aug        | 26         | 1990       |\n",
       "\n"
      ],
      "text/plain": [
       "   Date       Time  Meal_ingestionCode Value date       month day year\n",
       "1  05-17-1990 10:00 66                 0     1990-05-17 May   17  1990\n",
       "2  07-22-1990 16:08 67                 0     1990-07-22 Jul   22  1990\n",
       "3  07-30-1990 05:28 67                 0     1990-07-30 Jul   30  1990\n",
       "4  07-30-1990 16:46 67                 0     1990-07-30 Jul   30  1990\n",
       "5  08-03-1990 16:24 67                 0     1990-08-03 Aug    3  1990\n",
       "6  08-07-1990 16:41 67                 0     1990-08-07 Aug    7  1990\n",
       "7  08-09-1990 16:22 67                 0     1990-08-09 Aug    9  1990\n",
       "8  08-11-1990 16:58 67                 0     1990-08-11 Aug   11  1990\n",
       "9  08-22-1990 11:39 67                 0     1990-08-22 Aug   22  1990\n",
       "10 08-26-1990 07:29 67                 0     1990-08-26 Aug   26  1990"
      ]
     },
     "metadata": {},
     "output_type": "display_data"
    },
    {
     "data": {
      "text/html": [
       "29"
      ],
      "text/latex": [
       "29"
      ],
      "text/markdown": [
       "29"
      ],
      "text/plain": [
       "[1] 29"
      ]
     },
     "metadata": {},
     "output_type": "display_data"
    }
   ],
   "source": [
    "#Filtering, summarizing and renaming for typical/more than/less than usual meal ingestion amounts WITH VALUES = 0\n",
    "Diabetes_dataMeal <- Diabetes_data1 %>%\n",
    "    filter(Code >= 66, Code <= 68) %>%\n",
    "    rename(Meal_ingestionCode = Code) %>%\n",
    "    group_by(month, day)\n",
    "\n",
    "head(Diabetes_dataMeal, n = 10)\n",
    "nrow(Diabetes_dataMeal)"
   ]
  },
  {
   "cell_type": "code",
   "execution_count": null,
   "metadata": {},
   "outputs": [],
   "source": []
  },
  {
   "cell_type": "code",
   "execution_count": 181,
   "metadata": {},
   "outputs": [
    {
     "data": {
      "text/html": [
       "<table>\n",
       "<thead><tr><th scope=col>Date</th><th scope=col>Time</th><th scope=col>Exercise_activityCode</th><th scope=col>Value</th><th scope=col>date</th><th scope=col>month</th><th scope=col>day</th><th scope=col>year</th></tr></thead>\n",
       "<tbody>\n",
       "\t<tr><td>08-09-1990</td><td>17:27     </td><td>69        </td><td>0         </td><td>1990-08-09</td><td>Aug       </td><td> 9        </td><td>1990      </td></tr>\n",
       "\t<tr><td>08-14-1990</td><td>17:14     </td><td>69        </td><td>0         </td><td>1990-08-14</td><td>Aug       </td><td>14        </td><td>1990      </td></tr>\n",
       "\t<tr><td>08-29-1990</td><td>17:54     </td><td>69        </td><td>0         </td><td>1990-08-29</td><td>Aug       </td><td>29        </td><td>1990      </td></tr>\n",
       "\t<tr><td>05-17-1990</td><td>10:00     </td><td>69        </td><td>0         </td><td>1990-05-17</td><td>May       </td><td>17        </td><td>1990      </td></tr>\n",
       "\t<tr><td>05-18-1990</td><td>10:00     </td><td>70        </td><td>0         </td><td>1990-05-18</td><td>May       </td><td>18        </td><td>1990      </td></tr>\n",
       "\t<tr><td>05-16-1990</td><td>10:00     </td><td>71        </td><td>0         </td><td>1990-05-16</td><td>May       </td><td>16        </td><td>1990      </td></tr>\n",
       "</tbody>\n",
       "</table>\n"
      ],
      "text/latex": [
       "\\begin{tabular}{r|llllllll}\n",
       " Date & Time & Exercise\\_activityCode & Value & date & month & day & year\\\\\n",
       "\\hline\n",
       "\t 08-09-1990 & 17:27      & 69         & 0          & 1990-08-09 & Aug        &  9         & 1990      \\\\\n",
       "\t 08-14-1990 & 17:14      & 69         & 0          & 1990-08-14 & Aug        & 14         & 1990      \\\\\n",
       "\t 08-29-1990 & 17:54      & 69         & 0          & 1990-08-29 & Aug        & 29         & 1990      \\\\\n",
       "\t 05-17-1990 & 10:00      & 69         & 0          & 1990-05-17 & May        & 17         & 1990      \\\\\n",
       "\t 05-18-1990 & 10:00      & 70         & 0          & 1990-05-18 & May        & 18         & 1990      \\\\\n",
       "\t 05-16-1990 & 10:00      & 71         & 0          & 1990-05-16 & May        & 16         & 1990      \\\\\n",
       "\\end{tabular}\n"
      ],
      "text/markdown": [
       "\n",
       "| Date | Time | Exercise_activityCode | Value | date | month | day | year |\n",
       "|---|---|---|---|---|---|---|---|\n",
       "| 08-09-1990 | 17:27      | 69         | 0          | 1990-08-09 | Aug        |  9         | 1990       |\n",
       "| 08-14-1990 | 17:14      | 69         | 0          | 1990-08-14 | Aug        | 14         | 1990       |\n",
       "| 08-29-1990 | 17:54      | 69         | 0          | 1990-08-29 | Aug        | 29         | 1990       |\n",
       "| 05-17-1990 | 10:00      | 69         | 0          | 1990-05-17 | May        | 17         | 1990       |\n",
       "| 05-18-1990 | 10:00      | 70         | 0          | 1990-05-18 | May        | 18         | 1990       |\n",
       "| 05-16-1990 | 10:00      | 71         | 0          | 1990-05-16 | May        | 16         | 1990       |\n",
       "\n"
      ],
      "text/plain": [
       "  Date       Time  Exercise_activityCode Value date       month day year\n",
       "1 08-09-1990 17:27 69                    0     1990-08-09 Aug    9  1990\n",
       "2 08-14-1990 17:14 69                    0     1990-08-14 Aug   14  1990\n",
       "3 08-29-1990 17:54 69                    0     1990-08-29 Aug   29  1990\n",
       "4 05-17-1990 10:00 69                    0     1990-05-17 May   17  1990\n",
       "5 05-18-1990 10:00 70                    0     1990-05-18 May   18  1990\n",
       "6 05-16-1990 10:00 71                    0     1990-05-16 May   16  1990"
      ]
     },
     "metadata": {},
     "output_type": "display_data"
    },
    {
     "data": {
      "text/html": [
       "6"
      ],
      "text/latex": [
       "6"
      ],
      "text/markdown": [
       "6"
      ],
      "text/plain": [
       "[1] 6"
      ]
     },
     "metadata": {},
     "output_type": "display_data"
    }
   ],
   "source": [
    "#Filtering, summarizing & renaming for typical/more than/less than usual exercise activity WITH VALUES = 0\n",
    "Diabetes_dataExercise <- Diabetes_data1 %>%\n",
    "    filter(Code >= 69, Code <= 71) %>%\n",
    "    rename(Exercise_activityCode = Code) %>%\n",
    "    group_by(month, day)\n",
    "\n",
    "head(Diabetes_dataExercise, n = 10)\n",
    "nrow(Diabetes_dataExercise)"
   ]
  },
  {
   "cell_type": "code",
   "execution_count": 188,
   "metadata": {},
   "outputs": [
    {
     "data": {
      "text/html": [
       "<table>\n",
       "<thead><tr><th scope=col>Date</th><th scope=col>Time</th><th scope=col>Hypoglycaemia_Code</th><th scope=col>Value</th><th scope=col>date</th><th scope=col>month</th><th scope=col>day</th><th scope=col>year</th></tr></thead>\n",
       "<tbody>\n",
       "\t<tr><td>04-29-1991</td><td>12:00     </td><td>65        </td><td>0         </td><td>1991-04-29</td><td>Apr       </td><td>29        </td><td>1991      </td></tr>\n",
       "\t<tr><td>04-30-1991</td><td>22:00     </td><td>65        </td><td>0         </td><td>1991-04-30</td><td>Apr       </td><td>30        </td><td>1991      </td></tr>\n",
       "\t<tr><td>05-01-1991</td><td>12:00     </td><td>65        </td><td>0         </td><td>1991-05-01</td><td>May       </td><td> 1        </td><td>1991      </td></tr>\n",
       "\t<tr><td>05-02-1991</td><td>13:30     </td><td>65        </td><td>0         </td><td>1991-05-02</td><td>May       </td><td> 2        </td><td>1991      </td></tr>\n",
       "\t<tr><td>05-03-1991</td><td>3:00      </td><td>65        </td><td>0         </td><td>1991-05-03</td><td>May       </td><td> 3        </td><td>1991      </td></tr>\n",
       "\t<tr><td>05-05-1991</td><td>2:00      </td><td>65        </td><td>0         </td><td>1991-05-05</td><td>May       </td><td> 5        </td><td>1991      </td></tr>\n",
       "\t<tr><td>05-05-1991</td><td>16:00     </td><td>65        </td><td>0         </td><td>1991-05-05</td><td>May       </td><td> 5        </td><td>1991      </td></tr>\n",
       "\t<tr><td>05-10-1991</td><td>14:15     </td><td>65        </td><td>0         </td><td>1991-05-10</td><td>May       </td><td>10        </td><td>1991      </td></tr>\n",
       "\t<tr><td>05-14-1991</td><td>12:30     </td><td>65        </td><td>0         </td><td>1991-05-14</td><td>May       </td><td>14        </td><td>1991      </td></tr>\n",
       "\t<tr><td>05-25-1991</td><td>14:00     </td><td>65        </td><td>0         </td><td>1991-05-25</td><td>May       </td><td>25        </td><td>1991      </td></tr>\n",
       "</tbody>\n",
       "</table>\n"
      ],
      "text/latex": [
       "\\begin{tabular}{r|llllllll}\n",
       " Date & Time & Hypoglycaemia\\_Code & Value & date & month & day & year\\\\\n",
       "\\hline\n",
       "\t 04-29-1991 & 12:00      & 65         & 0          & 1991-04-29 & Apr        & 29         & 1991      \\\\\n",
       "\t 04-30-1991 & 22:00      & 65         & 0          & 1991-04-30 & Apr        & 30         & 1991      \\\\\n",
       "\t 05-01-1991 & 12:00      & 65         & 0          & 1991-05-01 & May        &  1         & 1991      \\\\\n",
       "\t 05-02-1991 & 13:30      & 65         & 0          & 1991-05-02 & May        &  2         & 1991      \\\\\n",
       "\t 05-03-1991 & 3:00       & 65         & 0          & 1991-05-03 & May        &  3         & 1991      \\\\\n",
       "\t 05-05-1991 & 2:00       & 65         & 0          & 1991-05-05 & May        &  5         & 1991      \\\\\n",
       "\t 05-05-1991 & 16:00      & 65         & 0          & 1991-05-05 & May        &  5         & 1991      \\\\\n",
       "\t 05-10-1991 & 14:15      & 65         & 0          & 1991-05-10 & May        & 10         & 1991      \\\\\n",
       "\t 05-14-1991 & 12:30      & 65         & 0          & 1991-05-14 & May        & 14         & 1991      \\\\\n",
       "\t 05-25-1991 & 14:00      & 65         & 0          & 1991-05-25 & May        & 25         & 1991      \\\\\n",
       "\\end{tabular}\n"
      ],
      "text/markdown": [
       "\n",
       "| Date | Time | Hypoglycaemia_Code | Value | date | month | day | year |\n",
       "|---|---|---|---|---|---|---|---|\n",
       "| 04-29-1991 | 12:00      | 65         | 0          | 1991-04-29 | Apr        | 29         | 1991       |\n",
       "| 04-30-1991 | 22:00      | 65         | 0          | 1991-04-30 | Apr        | 30         | 1991       |\n",
       "| 05-01-1991 | 12:00      | 65         | 0          | 1991-05-01 | May        |  1         | 1991       |\n",
       "| 05-02-1991 | 13:30      | 65         | 0          | 1991-05-02 | May        |  2         | 1991       |\n",
       "| 05-03-1991 | 3:00       | 65         | 0          | 1991-05-03 | May        |  3         | 1991       |\n",
       "| 05-05-1991 | 2:00       | 65         | 0          | 1991-05-05 | May        |  5         | 1991       |\n",
       "| 05-05-1991 | 16:00      | 65         | 0          | 1991-05-05 | May        |  5         | 1991       |\n",
       "| 05-10-1991 | 14:15      | 65         | 0          | 1991-05-10 | May        | 10         | 1991       |\n",
       "| 05-14-1991 | 12:30      | 65         | 0          | 1991-05-14 | May        | 14         | 1991       |\n",
       "| 05-25-1991 | 14:00      | 65         | 0          | 1991-05-25 | May        | 25         | 1991       |\n",
       "\n"
      ],
      "text/plain": [
       "   Date       Time  Hypoglycaemia_Code Value date       month day year\n",
       "1  04-29-1991 12:00 65                 0     1991-04-29 Apr   29  1991\n",
       "2  04-30-1991 22:00 65                 0     1991-04-30 Apr   30  1991\n",
       "3  05-01-1991 12:00 65                 0     1991-05-01 May    1  1991\n",
       "4  05-02-1991 13:30 65                 0     1991-05-02 May    2  1991\n",
       "5  05-03-1991 3:00  65                 0     1991-05-03 May    3  1991\n",
       "6  05-05-1991 2:00  65                 0     1991-05-05 May    5  1991\n",
       "7  05-05-1991 16:00 65                 0     1991-05-05 May    5  1991\n",
       "8  05-10-1991 14:15 65                 0     1991-05-10 May   10  1991\n",
       "9  05-14-1991 12:30 65                 0     1991-05-14 May   14  1991\n",
       "10 05-25-1991 14:00 65                 0     1991-05-25 May   25  1991"
      ]
     },
     "metadata": {},
     "output_type": "display_data"
    },
    {
     "data": {
      "text/html": [
       "70"
      ],
      "text/latex": [
       "70"
      ],
      "text/markdown": [
       "70"
      ],
      "text/plain": [
       "[1] 70"
      ]
     },
     "metadata": {},
     "output_type": "display_data"
    }
   ],
   "source": [
    "#Filtering out patients with hypoglycaemic symptoms WITH VALUES = 0\n",
    "Diabetes_dataHypo <- Diabetes_data1 %>%\n",
    "    filter(Code == 65) %>%\n",
    "    rename(Hypoglycaemia_Code = Code)\n",
    "    \n",
    "\n",
    "head(Diabetes_dataHypo, n = 10)\n",
    "nrow(Diabetes_dataHypo)"
   ]
  },
  {
   "cell_type": "code",
   "execution_count": 159,
   "metadata": {},
   "outputs": [
    {
     "ename": "ERROR",
     "evalue": "Error in as.hms(., \"Time\"): could not find function \"as.hms\"\n",
     "output_type": "error",
     "traceback": [
      "Error in as.hms(., \"Time\"): could not find function \"as.hms\"\nTraceback:\n",
      "1. Diabetes_data1 %>% as.hms(\"Time\")"
     ]
    }
   ],
   "source": [
    "#Hold times in \"Time\" Column which is not in datetime format\n",
    "Diabetes_data2 <- Diabetes_data1 %>%\n",
    "    as.hms(\"Time\")"
   ]
  },
  {
   "cell_type": "code",
   "execution_count": 161,
   "metadata": {},
   "outputs": [
    {
     "data": {
      "text/html": [
       "280"
      ],
      "text/latex": [
       "280"
      ],
      "text/markdown": [
       "280"
      ],
      "text/plain": [
       "[1] 280"
      ]
     },
     "metadata": {},
     "output_type": "display_data"
    },
    {
     "data": {
      "text/html": [
       "<table>\n",
       "<thead><tr><th scope=col>Date</th><th scope=col>Time</th><th scope=col>Code</th><th scope=col>Value</th><th scope=col>date</th><th scope=col>month</th><th scope=col>day</th><th scope=col>year</th></tr></thead>\n",
       "<tbody>\n",
       "\t<tr><td>07-30-1990</td><td>05:28     </td><td>33        </td><td>3         </td><td>1990-07-30</td><td>Jul       </td><td>30        </td><td>1990      </td></tr>\n",
       "\t<tr><td>08-20-1990</td><td>06:21     </td><td>33        </td><td>3         </td><td>1990-08-20</td><td>Aug       </td><td>20        </td><td>1990      </td></tr>\n",
       "\t<tr><td>08-20-1990</td><td>18:08     </td><td>33        </td><td>1         </td><td>1990-08-20</td><td>Aug       </td><td>20        </td><td>1990      </td></tr>\n",
       "\t<tr><td>08-21-1990</td><td>05:58     </td><td>33        </td><td>3         </td><td>1990-08-21</td><td>Aug       </td><td>21        </td><td>1990      </td></tr>\n",
       "\t<tr><td>08-21-1990</td><td>17:04     </td><td>33        </td><td>2         </td><td>1990-08-21</td><td>Aug       </td><td>21        </td><td>1990      </td></tr>\n",
       "\t<tr><td>08-22-1990</td><td>07:07     </td><td>33        </td><td>3         </td><td>1990-08-22</td><td>Aug       </td><td>22        </td><td>1990      </td></tr>\n",
       "\t<tr><td>08-23-1990</td><td>07:17     </td><td>33        </td><td>3         </td><td>1990-08-23</td><td>Aug       </td><td>23        </td><td>1990      </td></tr>\n",
       "\t<tr><td>08-23-1990</td><td>17:18     </td><td>33        </td><td>1         </td><td>1990-08-23</td><td>Aug       </td><td>23        </td><td>1990      </td></tr>\n",
       "\t<tr><td>08-24-1990</td><td>07:48     </td><td>33        </td><td>4         </td><td>1990-08-24</td><td>Aug       </td><td>24        </td><td>1990      </td></tr>\n",
       "\t<tr><td>08-25-1990</td><td>07:48     </td><td>33        </td><td>3         </td><td>1990-08-25</td><td>Aug       </td><td>25        </td><td>1990      </td></tr>\n",
       "\t<tr><td>08-25-1990</td><td>16:57     </td><td>33        </td><td>1         </td><td>1990-08-25</td><td>Aug       </td><td>25        </td><td>1990      </td></tr>\n",
       "\t<tr><td>08-26-1990</td><td>07:29     </td><td>33        </td><td>3         </td><td>1990-08-26</td><td>Aug       </td><td>26        </td><td>1990      </td></tr>\n",
       "\t<tr><td>08-26-1990</td><td>17:04     </td><td>33        </td><td>1         </td><td>1990-08-26</td><td>Aug       </td><td>26        </td><td>1990      </td></tr>\n",
       "\t<tr><td>08-27-1990</td><td>06:18     </td><td>33        </td><td>4         </td><td>1990-08-27</td><td>Aug       </td><td>27        </td><td>1990      </td></tr>\n",
       "\t<tr><td>08-27-1990</td><td>17:58     </td><td>33        </td><td>1         </td><td>1990-08-27</td><td>Aug       </td><td>27        </td><td>1990      </td></tr>\n",
       "\t<tr><td>08-28-1990</td><td>06:05     </td><td>33        </td><td>3         </td><td>1990-08-28</td><td>Aug       </td><td>28        </td><td>1990      </td></tr>\n",
       "\t<tr><td>09-01-1990</td><td>16:51     </td><td>33        </td><td>1         </td><td>1990-09-01</td><td>Sep       </td><td> 1        </td><td>1990      </td></tr>\n",
       "\t<tr><td>09-02-1990</td><td>08:03     </td><td>33        </td><td>2         </td><td>1990-09-02</td><td>Sep       </td><td> 2        </td><td>1990      </td></tr>\n",
       "\t<tr><td>09-02-1990</td><td>17:18     </td><td>33        </td><td>2         </td><td>1990-09-02</td><td>Sep       </td><td> 2        </td><td>1990      </td></tr>\n",
       "\t<tr><td>09-03-1990</td><td>08:06     </td><td>33        </td><td>3         </td><td>1990-09-03</td><td>Sep       </td><td> 3        </td><td>1990      </td></tr>\n",
       "\t<tr><td>09-03-1990</td><td>17:07     </td><td>33        </td><td>1         </td><td>1990-09-03</td><td>Sep       </td><td> 3        </td><td>1990      </td></tr>\n",
       "\t<tr><td>09-04-1990</td><td>06:05     </td><td>33        </td><td>3         </td><td>1990-09-04</td><td>Sep       </td><td> 4        </td><td>1990      </td></tr>\n",
       "\t<tr><td>09-04-1990</td><td>16:26     </td><td>33        </td><td>1         </td><td>1990-09-04</td><td>Sep       </td><td> 4        </td><td>1990      </td></tr>\n",
       "\t<tr><td>09-05-1990</td><td>07:01     </td><td>33        </td><td>3         </td><td>1990-09-05</td><td>Sep       </td><td> 5        </td><td>1990      </td></tr>\n",
       "\t<tr><td>09-05-1990</td><td>16:52     </td><td>33        </td><td>1         </td><td>1990-09-05</td><td>Sep       </td><td> 5        </td><td>1990      </td></tr>\n",
       "\t<tr><td>09-06-1990</td><td>06:14     </td><td>33        </td><td>3         </td><td>1990-09-06</td><td>Sep       </td><td> 6        </td><td>1990      </td></tr>\n",
       "\t<tr><td>09-06-1990</td><td>17:29     </td><td>33        </td><td>1         </td><td>1990-09-06</td><td>Sep       </td><td> 6        </td><td>1990      </td></tr>\n",
       "\t<tr><td>09-07-1990</td><td>05:55     </td><td>33        </td><td>3         </td><td>1990-09-07</td><td>Sep       </td><td> 7        </td><td>1990      </td></tr>\n",
       "\t<tr><td>09-07-1990</td><td>17:38     </td><td>33        </td><td>1         </td><td>1990-09-07</td><td>Sep       </td><td> 7        </td><td>1990      </td></tr>\n",
       "\t<tr><td>09-08-1990</td><td>07:24     </td><td>33        </td><td>3         </td><td>1990-09-08</td><td>Sep       </td><td> 8        </td><td>1990      </td></tr>\n",
       "\t<tr><td>...</td><td>...</td><td>...</td><td>...</td><td>...</td><td>...</td><td>...</td><td>...</td></tr>\n",
       "\t<tr><td>09-02-1990</td><td>21:57     </td><td>64        </td><td>227       </td><td>1990-09-02</td><td>Sep       </td><td> 2        </td><td>1990      </td></tr>\n",
       "\t<tr><td>09-03-1990</td><td>22:04     </td><td>64        </td><td>202       </td><td>1990-09-03</td><td>Sep       </td><td> 3        </td><td>1990      </td></tr>\n",
       "\t<tr><td>09-05-1990</td><td>22:09     </td><td>64        </td><td>80        </td><td>1990-09-05</td><td>Sep       </td><td> 5        </td><td>1990      </td></tr>\n",
       "\t<tr><td>09-06-1990</td><td>22:06     </td><td>64        </td><td>137       </td><td>1990-09-06</td><td>Sep       </td><td> 6        </td><td>1990      </td></tr>\n",
       "\t<tr><td>09-08-1990</td><td>21:57     </td><td>64        </td><td>84        </td><td>1990-09-08</td><td>Sep       </td><td> 8        </td><td>1990      </td></tr>\n",
       "\t<tr><td>09-09-1990</td><td>21:58     </td><td>64        </td><td>202       </td><td>1990-09-09</td><td>Sep       </td><td> 9        </td><td>1990      </td></tr>\n",
       "\t<tr><td>09-10-1990</td><td>21:41     </td><td>64        </td><td>195       </td><td>1990-09-10</td><td>Sep       </td><td>10        </td><td>1990      </td></tr>\n",
       "\t<tr><td>09-11-1990</td><td>22:45     </td><td>64        </td><td>184       </td><td>1990-09-11</td><td>Sep       </td><td>11        </td><td>1990      </td></tr>\n",
       "\t<tr><td>09-12-1990</td><td>22:28     </td><td>64        </td><td>185       </td><td>1990-09-12</td><td>Sep       </td><td>12        </td><td>1990      </td></tr>\n",
       "\t<tr><td>09-14-1990</td><td>00:06     </td><td>64        </td><td>173       </td><td>1990-09-14</td><td>Sep       </td><td>14        </td><td>1990      </td></tr>\n",
       "\t<tr><td>09-14-1990</td><td>20:25     </td><td>64        </td><td>31        </td><td>1990-09-14</td><td>Sep       </td><td>14        </td><td>1990      </td></tr>\n",
       "\t<tr><td>09-15-1990</td><td>22:32     </td><td>64        </td><td>98        </td><td>1990-09-15</td><td>Sep       </td><td>15        </td><td>1990      </td></tr>\n",
       "\t<tr><td>09-16-1990</td><td>22:19     </td><td>64        </td><td>155       </td><td>1990-09-16</td><td>Sep       </td><td>16        </td><td>1990      </td></tr>\n",
       "\t<tr><td>09-17-1990</td><td>22:26     </td><td>64        </td><td>72        </td><td>1990-09-17</td><td>Sep       </td><td>17        </td><td>1990      </td></tr>\n",
       "\t<tr><td>09-18-1990</td><td>22:48     </td><td>64        </td><td>166       </td><td>1990-09-18</td><td>Sep       </td><td>18        </td><td>1990      </td></tr>\n",
       "\t<tr><td>09-19-1990</td><td>22:04     </td><td>64        </td><td>254       </td><td>1990-09-19</td><td>Sep       </td><td>19        </td><td>1990      </td></tr>\n",
       "\t<tr><td>09-20-1990</td><td>23:06     </td><td>64        </td><td>181       </td><td>1990-09-20</td><td>Sep       </td><td>20        </td><td>1990      </td></tr>\n",
       "\t<tr><td>09-21-1990</td><td>23:11     </td><td>64        </td><td>174       </td><td>1990-09-21</td><td>Sep       </td><td>21        </td><td>1990      </td></tr>\n",
       "\t<tr><td>09-22-1990</td><td>22:26     </td><td>64        </td><td>241       </td><td>1990-09-22</td><td>Sep       </td><td>22        </td><td>1990      </td></tr>\n",
       "\t<tr><td>09-23-1990</td><td>21:14     </td><td>64        </td><td>97        </td><td>1990-09-23</td><td>Sep       </td><td>23        </td><td>1990      </td></tr>\n",
       "\t<tr><td>09-24-1990</td><td>20:40     </td><td>64        </td><td>139       </td><td>1990-09-24</td><td>Sep       </td><td>24        </td><td>1990      </td></tr>\n",
       "\t<tr><td>08-01-1990</td><td>16:28     </td><td>65        </td><td>0         </td><td>1990-08-01</td><td>Aug       </td><td> 1        </td><td>1990      </td></tr>\n",
       "\t<tr><td>08-21-1990</td><td>07:38     </td><td>65        </td><td>0         </td><td>1990-08-21</td><td>Aug       </td><td>21        </td><td>1990      </td></tr>\n",
       "\t<tr><td>08-14-1990</td><td>10:08     </td><td>65        </td><td>0         </td><td>1990-08-14</td><td>Aug       </td><td>14        </td><td>1990      </td></tr>\n",
       "\t<tr><td>08-22-1990</td><td>11:39     </td><td>67        </td><td>0         </td><td>1990-08-22</td><td>Aug       </td><td>22        </td><td>1990      </td></tr>\n",
       "\t<tr><td>08-26-1990</td><td>07:29     </td><td>67        </td><td>0         </td><td>1990-08-26</td><td>Aug       </td><td>26        </td><td>1990      </td></tr>\n",
       "\t<tr><td>08-26-1990</td><td>22:09     </td><td>67        </td><td>0         </td><td>1990-08-26</td><td>Aug       </td><td>26        </td><td>1990      </td></tr>\n",
       "\t<tr><td>09-02-1990</td><td>11:42     </td><td>67        </td><td>0         </td><td>1990-09-02</td><td>Sep       </td><td> 2        </td><td>1990      </td></tr>\n",
       "\t<tr><td>09-02-1990</td><td>17:18     </td><td>67        </td><td>0         </td><td>1990-09-02</td><td>Sep       </td><td> 2        </td><td>1990      </td></tr>\n",
       "\t<tr><td>08-24-1990</td><td>07:48     </td><td>72        </td><td>0         </td><td>1990-08-24</td><td>Aug       </td><td>24        </td><td>1990      </td></tr>\n",
       "</tbody>\n",
       "</table>\n"
      ],
      "text/latex": [
       "\\begin{tabular}{r|llllllll}\n",
       " Date & Time & Code & Value & date & month & day & year\\\\\n",
       "\\hline\n",
       "\t 07-30-1990 & 05:28      & 33         & 3          & 1990-07-30 & Jul        & 30         & 1990      \\\\\n",
       "\t 08-20-1990 & 06:21      & 33         & 3          & 1990-08-20 & Aug        & 20         & 1990      \\\\\n",
       "\t 08-20-1990 & 18:08      & 33         & 1          & 1990-08-20 & Aug        & 20         & 1990      \\\\\n",
       "\t 08-21-1990 & 05:58      & 33         & 3          & 1990-08-21 & Aug        & 21         & 1990      \\\\\n",
       "\t 08-21-1990 & 17:04      & 33         & 2          & 1990-08-21 & Aug        & 21         & 1990      \\\\\n",
       "\t 08-22-1990 & 07:07      & 33         & 3          & 1990-08-22 & Aug        & 22         & 1990      \\\\\n",
       "\t 08-23-1990 & 07:17      & 33         & 3          & 1990-08-23 & Aug        & 23         & 1990      \\\\\n",
       "\t 08-23-1990 & 17:18      & 33         & 1          & 1990-08-23 & Aug        & 23         & 1990      \\\\\n",
       "\t 08-24-1990 & 07:48      & 33         & 4          & 1990-08-24 & Aug        & 24         & 1990      \\\\\n",
       "\t 08-25-1990 & 07:48      & 33         & 3          & 1990-08-25 & Aug        & 25         & 1990      \\\\\n",
       "\t 08-25-1990 & 16:57      & 33         & 1          & 1990-08-25 & Aug        & 25         & 1990      \\\\\n",
       "\t 08-26-1990 & 07:29      & 33         & 3          & 1990-08-26 & Aug        & 26         & 1990      \\\\\n",
       "\t 08-26-1990 & 17:04      & 33         & 1          & 1990-08-26 & Aug        & 26         & 1990      \\\\\n",
       "\t 08-27-1990 & 06:18      & 33         & 4          & 1990-08-27 & Aug        & 27         & 1990      \\\\\n",
       "\t 08-27-1990 & 17:58      & 33         & 1          & 1990-08-27 & Aug        & 27         & 1990      \\\\\n",
       "\t 08-28-1990 & 06:05      & 33         & 3          & 1990-08-28 & Aug        & 28         & 1990      \\\\\n",
       "\t 09-01-1990 & 16:51      & 33         & 1          & 1990-09-01 & Sep        &  1         & 1990      \\\\\n",
       "\t 09-02-1990 & 08:03      & 33         & 2          & 1990-09-02 & Sep        &  2         & 1990      \\\\\n",
       "\t 09-02-1990 & 17:18      & 33         & 2          & 1990-09-02 & Sep        &  2         & 1990      \\\\\n",
       "\t 09-03-1990 & 08:06      & 33         & 3          & 1990-09-03 & Sep        &  3         & 1990      \\\\\n",
       "\t 09-03-1990 & 17:07      & 33         & 1          & 1990-09-03 & Sep        &  3         & 1990      \\\\\n",
       "\t 09-04-1990 & 06:05      & 33         & 3          & 1990-09-04 & Sep        &  4         & 1990      \\\\\n",
       "\t 09-04-1990 & 16:26      & 33         & 1          & 1990-09-04 & Sep        &  4         & 1990      \\\\\n",
       "\t 09-05-1990 & 07:01      & 33         & 3          & 1990-09-05 & Sep        &  5         & 1990      \\\\\n",
       "\t 09-05-1990 & 16:52      & 33         & 1          & 1990-09-05 & Sep        &  5         & 1990      \\\\\n",
       "\t 09-06-1990 & 06:14      & 33         & 3          & 1990-09-06 & Sep        &  6         & 1990      \\\\\n",
       "\t 09-06-1990 & 17:29      & 33         & 1          & 1990-09-06 & Sep        &  6         & 1990      \\\\\n",
       "\t 09-07-1990 & 05:55      & 33         & 3          & 1990-09-07 & Sep        &  7         & 1990      \\\\\n",
       "\t 09-07-1990 & 17:38      & 33         & 1          & 1990-09-07 & Sep        &  7         & 1990      \\\\\n",
       "\t 09-08-1990 & 07:24      & 33         & 3          & 1990-09-08 & Sep        &  8         & 1990      \\\\\n",
       "\t ... & ... & ... & ... & ... & ... & ... & ...\\\\\n",
       "\t 09-02-1990 & 21:57      & 64         & 227        & 1990-09-02 & Sep        &  2         & 1990      \\\\\n",
       "\t 09-03-1990 & 22:04      & 64         & 202        & 1990-09-03 & Sep        &  3         & 1990      \\\\\n",
       "\t 09-05-1990 & 22:09      & 64         & 80         & 1990-09-05 & Sep        &  5         & 1990      \\\\\n",
       "\t 09-06-1990 & 22:06      & 64         & 137        & 1990-09-06 & Sep        &  6         & 1990      \\\\\n",
       "\t 09-08-1990 & 21:57      & 64         & 84         & 1990-09-08 & Sep        &  8         & 1990      \\\\\n",
       "\t 09-09-1990 & 21:58      & 64         & 202        & 1990-09-09 & Sep        &  9         & 1990      \\\\\n",
       "\t 09-10-1990 & 21:41      & 64         & 195        & 1990-09-10 & Sep        & 10         & 1990      \\\\\n",
       "\t 09-11-1990 & 22:45      & 64         & 184        & 1990-09-11 & Sep        & 11         & 1990      \\\\\n",
       "\t 09-12-1990 & 22:28      & 64         & 185        & 1990-09-12 & Sep        & 12         & 1990      \\\\\n",
       "\t 09-14-1990 & 00:06      & 64         & 173        & 1990-09-14 & Sep        & 14         & 1990      \\\\\n",
       "\t 09-14-1990 & 20:25      & 64         & 31         & 1990-09-14 & Sep        & 14         & 1990      \\\\\n",
       "\t 09-15-1990 & 22:32      & 64         & 98         & 1990-09-15 & Sep        & 15         & 1990      \\\\\n",
       "\t 09-16-1990 & 22:19      & 64         & 155        & 1990-09-16 & Sep        & 16         & 1990      \\\\\n",
       "\t 09-17-1990 & 22:26      & 64         & 72         & 1990-09-17 & Sep        & 17         & 1990      \\\\\n",
       "\t 09-18-1990 & 22:48      & 64         & 166        & 1990-09-18 & Sep        & 18         & 1990      \\\\\n",
       "\t 09-19-1990 & 22:04      & 64         & 254        & 1990-09-19 & Sep        & 19         & 1990      \\\\\n",
       "\t 09-20-1990 & 23:06      & 64         & 181        & 1990-09-20 & Sep        & 20         & 1990      \\\\\n",
       "\t 09-21-1990 & 23:11      & 64         & 174        & 1990-09-21 & Sep        & 21         & 1990      \\\\\n",
       "\t 09-22-1990 & 22:26      & 64         & 241        & 1990-09-22 & Sep        & 22         & 1990      \\\\\n",
       "\t 09-23-1990 & 21:14      & 64         & 97         & 1990-09-23 & Sep        & 23         & 1990      \\\\\n",
       "\t 09-24-1990 & 20:40      & 64         & 139        & 1990-09-24 & Sep        & 24         & 1990      \\\\\n",
       "\t 08-01-1990 & 16:28      & 65         & 0          & 1990-08-01 & Aug        &  1         & 1990      \\\\\n",
       "\t 08-21-1990 & 07:38      & 65         & 0          & 1990-08-21 & Aug        & 21         & 1990      \\\\\n",
       "\t 08-14-1990 & 10:08      & 65         & 0          & 1990-08-14 & Aug        & 14         & 1990      \\\\\n",
       "\t 08-22-1990 & 11:39      & 67         & 0          & 1990-08-22 & Aug        & 22         & 1990      \\\\\n",
       "\t 08-26-1990 & 07:29      & 67         & 0          & 1990-08-26 & Aug        & 26         & 1990      \\\\\n",
       "\t 08-26-1990 & 22:09      & 67         & 0          & 1990-08-26 & Aug        & 26         & 1990      \\\\\n",
       "\t 09-02-1990 & 11:42      & 67         & 0          & 1990-09-02 & Sep        &  2         & 1990      \\\\\n",
       "\t 09-02-1990 & 17:18      & 67         & 0          & 1990-09-02 & Sep        &  2         & 1990      \\\\\n",
       "\t 08-24-1990 & 07:48      & 72         & 0          & 1990-08-24 & Aug        & 24         & 1990      \\\\\n",
       "\\end{tabular}\n"
      ],
      "text/markdown": [
       "\n",
       "| Date | Time | Code | Value | date | month | day | year |\n",
       "|---|---|---|---|---|---|---|---|\n",
       "| 07-30-1990 | 05:28      | 33         | 3          | 1990-07-30 | Jul        | 30         | 1990       |\n",
       "| 08-20-1990 | 06:21      | 33         | 3          | 1990-08-20 | Aug        | 20         | 1990       |\n",
       "| 08-20-1990 | 18:08      | 33         | 1          | 1990-08-20 | Aug        | 20         | 1990       |\n",
       "| 08-21-1990 | 05:58      | 33         | 3          | 1990-08-21 | Aug        | 21         | 1990       |\n",
       "| 08-21-1990 | 17:04      | 33         | 2          | 1990-08-21 | Aug        | 21         | 1990       |\n",
       "| 08-22-1990 | 07:07      | 33         | 3          | 1990-08-22 | Aug        | 22         | 1990       |\n",
       "| 08-23-1990 | 07:17      | 33         | 3          | 1990-08-23 | Aug        | 23         | 1990       |\n",
       "| 08-23-1990 | 17:18      | 33         | 1          | 1990-08-23 | Aug        | 23         | 1990       |\n",
       "| 08-24-1990 | 07:48      | 33         | 4          | 1990-08-24 | Aug        | 24         | 1990       |\n",
       "| 08-25-1990 | 07:48      | 33         | 3          | 1990-08-25 | Aug        | 25         | 1990       |\n",
       "| 08-25-1990 | 16:57      | 33         | 1          | 1990-08-25 | Aug        | 25         | 1990       |\n",
       "| 08-26-1990 | 07:29      | 33         | 3          | 1990-08-26 | Aug        | 26         | 1990       |\n",
       "| 08-26-1990 | 17:04      | 33         | 1          | 1990-08-26 | Aug        | 26         | 1990       |\n",
       "| 08-27-1990 | 06:18      | 33         | 4          | 1990-08-27 | Aug        | 27         | 1990       |\n",
       "| 08-27-1990 | 17:58      | 33         | 1          | 1990-08-27 | Aug        | 27         | 1990       |\n",
       "| 08-28-1990 | 06:05      | 33         | 3          | 1990-08-28 | Aug        | 28         | 1990       |\n",
       "| 09-01-1990 | 16:51      | 33         | 1          | 1990-09-01 | Sep        |  1         | 1990       |\n",
       "| 09-02-1990 | 08:03      | 33         | 2          | 1990-09-02 | Sep        |  2         | 1990       |\n",
       "| 09-02-1990 | 17:18      | 33         | 2          | 1990-09-02 | Sep        |  2         | 1990       |\n",
       "| 09-03-1990 | 08:06      | 33         | 3          | 1990-09-03 | Sep        |  3         | 1990       |\n",
       "| 09-03-1990 | 17:07      | 33         | 1          | 1990-09-03 | Sep        |  3         | 1990       |\n",
       "| 09-04-1990 | 06:05      | 33         | 3          | 1990-09-04 | Sep        |  4         | 1990       |\n",
       "| 09-04-1990 | 16:26      | 33         | 1          | 1990-09-04 | Sep        |  4         | 1990       |\n",
       "| 09-05-1990 | 07:01      | 33         | 3          | 1990-09-05 | Sep        |  5         | 1990       |\n",
       "| 09-05-1990 | 16:52      | 33         | 1          | 1990-09-05 | Sep        |  5         | 1990       |\n",
       "| 09-06-1990 | 06:14      | 33         | 3          | 1990-09-06 | Sep        |  6         | 1990       |\n",
       "| 09-06-1990 | 17:29      | 33         | 1          | 1990-09-06 | Sep        |  6         | 1990       |\n",
       "| 09-07-1990 | 05:55      | 33         | 3          | 1990-09-07 | Sep        |  7         | 1990       |\n",
       "| 09-07-1990 | 17:38      | 33         | 1          | 1990-09-07 | Sep        |  7         | 1990       |\n",
       "| 09-08-1990 | 07:24      | 33         | 3          | 1990-09-08 | Sep        |  8         | 1990       |\n",
       "| ... | ... | ... | ... | ... | ... | ... | ... |\n",
       "| 09-02-1990 | 21:57      | 64         | 227        | 1990-09-02 | Sep        |  2         | 1990       |\n",
       "| 09-03-1990 | 22:04      | 64         | 202        | 1990-09-03 | Sep        |  3         | 1990       |\n",
       "| 09-05-1990 | 22:09      | 64         | 80         | 1990-09-05 | Sep        |  5         | 1990       |\n",
       "| 09-06-1990 | 22:06      | 64         | 137        | 1990-09-06 | Sep        |  6         | 1990       |\n",
       "| 09-08-1990 | 21:57      | 64         | 84         | 1990-09-08 | Sep        |  8         | 1990       |\n",
       "| 09-09-1990 | 21:58      | 64         | 202        | 1990-09-09 | Sep        |  9         | 1990       |\n",
       "| 09-10-1990 | 21:41      | 64         | 195        | 1990-09-10 | Sep        | 10         | 1990       |\n",
       "| 09-11-1990 | 22:45      | 64         | 184        | 1990-09-11 | Sep        | 11         | 1990       |\n",
       "| 09-12-1990 | 22:28      | 64         | 185        | 1990-09-12 | Sep        | 12         | 1990       |\n",
       "| 09-14-1990 | 00:06      | 64         | 173        | 1990-09-14 | Sep        | 14         | 1990       |\n",
       "| 09-14-1990 | 20:25      | 64         | 31         | 1990-09-14 | Sep        | 14         | 1990       |\n",
       "| 09-15-1990 | 22:32      | 64         | 98         | 1990-09-15 | Sep        | 15         | 1990       |\n",
       "| 09-16-1990 | 22:19      | 64         | 155        | 1990-09-16 | Sep        | 16         | 1990       |\n",
       "| 09-17-1990 | 22:26      | 64         | 72         | 1990-09-17 | Sep        | 17         | 1990       |\n",
       "| 09-18-1990 | 22:48      | 64         | 166        | 1990-09-18 | Sep        | 18         | 1990       |\n",
       "| 09-19-1990 | 22:04      | 64         | 254        | 1990-09-19 | Sep        | 19         | 1990       |\n",
       "| 09-20-1990 | 23:06      | 64         | 181        | 1990-09-20 | Sep        | 20         | 1990       |\n",
       "| 09-21-1990 | 23:11      | 64         | 174        | 1990-09-21 | Sep        | 21         | 1990       |\n",
       "| 09-22-1990 | 22:26      | 64         | 241        | 1990-09-22 | Sep        | 22         | 1990       |\n",
       "| 09-23-1990 | 21:14      | 64         | 97         | 1990-09-23 | Sep        | 23         | 1990       |\n",
       "| 09-24-1990 | 20:40      | 64         | 139        | 1990-09-24 | Sep        | 24         | 1990       |\n",
       "| 08-01-1990 | 16:28      | 65         | 0          | 1990-08-01 | Aug        |  1         | 1990       |\n",
       "| 08-21-1990 | 07:38      | 65         | 0          | 1990-08-21 | Aug        | 21         | 1990       |\n",
       "| 08-14-1990 | 10:08      | 65         | 0          | 1990-08-14 | Aug        | 14         | 1990       |\n",
       "| 08-22-1990 | 11:39      | 67         | 0          | 1990-08-22 | Aug        | 22         | 1990       |\n",
       "| 08-26-1990 | 07:29      | 67         | 0          | 1990-08-26 | Aug        | 26         | 1990       |\n",
       "| 08-26-1990 | 22:09      | 67         | 0          | 1990-08-26 | Aug        | 26         | 1990       |\n",
       "| 09-02-1990 | 11:42      | 67         | 0          | 1990-09-02 | Sep        |  2         | 1990       |\n",
       "| 09-02-1990 | 17:18      | 67         | 0          | 1990-09-02 | Sep        |  2         | 1990       |\n",
       "| 08-24-1990 | 07:48      | 72         | 0          | 1990-08-24 | Aug        | 24         | 1990       |\n",
       "\n"
      ],
      "text/plain": [
       "    Date       Time  Code Value date       month day year\n",
       "1   07-30-1990 05:28 33   3     1990-07-30 Jul   30  1990\n",
       "2   08-20-1990 06:21 33   3     1990-08-20 Aug   20  1990\n",
       "3   08-20-1990 18:08 33   1     1990-08-20 Aug   20  1990\n",
       "4   08-21-1990 05:58 33   3     1990-08-21 Aug   21  1990\n",
       "5   08-21-1990 17:04 33   2     1990-08-21 Aug   21  1990\n",
       "6   08-22-1990 07:07 33   3     1990-08-22 Aug   22  1990\n",
       "7   08-23-1990 07:17 33   3     1990-08-23 Aug   23  1990\n",
       "8   08-23-1990 17:18 33   1     1990-08-23 Aug   23  1990\n",
       "9   08-24-1990 07:48 33   4     1990-08-24 Aug   24  1990\n",
       "10  08-25-1990 07:48 33   3     1990-08-25 Aug   25  1990\n",
       "11  08-25-1990 16:57 33   1     1990-08-25 Aug   25  1990\n",
       "12  08-26-1990 07:29 33   3     1990-08-26 Aug   26  1990\n",
       "13  08-26-1990 17:04 33   1     1990-08-26 Aug   26  1990\n",
       "14  08-27-1990 06:18 33   4     1990-08-27 Aug   27  1990\n",
       "15  08-27-1990 17:58 33   1     1990-08-27 Aug   27  1990\n",
       "16  08-28-1990 06:05 33   3     1990-08-28 Aug   28  1990\n",
       "17  09-01-1990 16:51 33   1     1990-09-01 Sep    1  1990\n",
       "18  09-02-1990 08:03 33   2     1990-09-02 Sep    2  1990\n",
       "19  09-02-1990 17:18 33   2     1990-09-02 Sep    2  1990\n",
       "20  09-03-1990 08:06 33   3     1990-09-03 Sep    3  1990\n",
       "21  09-03-1990 17:07 33   1     1990-09-03 Sep    3  1990\n",
       "22  09-04-1990 06:05 33   3     1990-09-04 Sep    4  1990\n",
       "23  09-04-1990 16:26 33   1     1990-09-04 Sep    4  1990\n",
       "24  09-05-1990 07:01 33   3     1990-09-05 Sep    5  1990\n",
       "25  09-05-1990 16:52 33   1     1990-09-05 Sep    5  1990\n",
       "26  09-06-1990 06:14 33   3     1990-09-06 Sep    6  1990\n",
       "27  09-06-1990 17:29 33   1     1990-09-06 Sep    6  1990\n",
       "28  09-07-1990 05:55 33   3     1990-09-07 Sep    7  1990\n",
       "29  09-07-1990 17:38 33   1     1990-09-07 Sep    7  1990\n",
       "30  09-08-1990 07:24 33   3     1990-09-08 Sep    8  1990\n",
       "... ...        ...   ...  ...   ...        ...   ... ... \n",
       "251 09-02-1990 21:57 64   227   1990-09-02 Sep    2  1990\n",
       "252 09-03-1990 22:04 64   202   1990-09-03 Sep    3  1990\n",
       "253 09-05-1990 22:09 64   80    1990-09-05 Sep    5  1990\n",
       "254 09-06-1990 22:06 64   137   1990-09-06 Sep    6  1990\n",
       "255 09-08-1990 21:57 64   84    1990-09-08 Sep    8  1990\n",
       "256 09-09-1990 21:58 64   202   1990-09-09 Sep    9  1990\n",
       "257 09-10-1990 21:41 64   195   1990-09-10 Sep   10  1990\n",
       "258 09-11-1990 22:45 64   184   1990-09-11 Sep   11  1990\n",
       "259 09-12-1990 22:28 64   185   1990-09-12 Sep   12  1990\n",
       "260 09-14-1990 00:06 64   173   1990-09-14 Sep   14  1990\n",
       "261 09-14-1990 20:25 64   31    1990-09-14 Sep   14  1990\n",
       "262 09-15-1990 22:32 64   98    1990-09-15 Sep   15  1990\n",
       "263 09-16-1990 22:19 64   155   1990-09-16 Sep   16  1990\n",
       "264 09-17-1990 22:26 64   72    1990-09-17 Sep   17  1990\n",
       "265 09-18-1990 22:48 64   166   1990-09-18 Sep   18  1990\n",
       "266 09-19-1990 22:04 64   254   1990-09-19 Sep   19  1990\n",
       "267 09-20-1990 23:06 64   181   1990-09-20 Sep   20  1990\n",
       "268 09-21-1990 23:11 64   174   1990-09-21 Sep   21  1990\n",
       "269 09-22-1990 22:26 64   241   1990-09-22 Sep   22  1990\n",
       "270 09-23-1990 21:14 64   97    1990-09-23 Sep   23  1990\n",
       "271 09-24-1990 20:40 64   139   1990-09-24 Sep   24  1990\n",
       "272 08-01-1990 16:28 65   0     1990-08-01 Aug    1  1990\n",
       "273 08-21-1990 07:38 65   0     1990-08-21 Aug   21  1990\n",
       "274 08-14-1990 10:08 65   0     1990-08-14 Aug   14  1990\n",
       "275 08-22-1990 11:39 67   0     1990-08-22 Aug   22  1990\n",
       "276 08-26-1990 07:29 67   0     1990-08-26 Aug   26  1990\n",
       "277 08-26-1990 22:09 67   0     1990-08-26 Aug   26  1990\n",
       "278 09-02-1990 11:42 67   0     1990-09-02 Sep    2  1990\n",
       "279 09-02-1990 17:18 67   0     1990-09-02 Sep    2  1990\n",
       "280 08-24-1990 07:48 72   0     1990-08-24 Aug   24  1990"
      ]
     },
     "metadata": {},
     "output_type": "display_data"
    }
   ],
   "source": [
    "# Looking for full duplicates in the data\n",
    "sum(duplicated(Diabetes_data1))\n",
    "\n",
    "filter(Diabetes_data1, duplicated(Diabetes_data1))"
   ]
  },
  {
   "cell_type": "code",
   "execution_count": 162,
   "metadata": {},
   "outputs": [
    {
     "data": {
      "text/html": [
       "0"
      ],
      "text/latex": [
       "0"
      ],
      "text/markdown": [
       "0"
      ],
      "text/plain": [
       "[1] 0"
      ]
     },
     "metadata": {},
     "output_type": "display_data"
    }
   ],
   "source": [
    "#Dropping the full duplicates\n",
    "Diabetes_data1_unique <- distinct(Diabetes_data1)\n",
    "sum(duplicated(Diabetes_data1_unique))"
   ]
  },
  {
   "cell_type": "code",
   "execution_count": 165,
   "metadata": {},
   "outputs": [
    {
     "data": {
      "text/html": [
       "<table>\n",
       "<thead><tr><th scope=col>Date</th><th scope=col>Time</th><th scope=col>n</th></tr></thead>\n",
       "<tbody>\n",
       "\t<tr><td>01-01-1990</td><td>08:00     </td><td>2         </td></tr>\n",
       "\t<tr><td>01-01-1990</td><td>12:00     </td><td>2         </td></tr>\n",
       "\t<tr><td>01-01-1990</td><td>18:00     </td><td>2         </td></tr>\n",
       "\t<tr><td>01-01-1990</td><td>22:00     </td><td>2         </td></tr>\n",
       "\t<tr><td>01-02-1990</td><td>08:00     </td><td>2         </td></tr>\n",
       "\t<tr><td>01-02-1990</td><td>12:00     </td><td>2         </td></tr>\n",
       "\t<tr><td>01-02-1990</td><td>18:00     </td><td>2         </td></tr>\n",
       "\t<tr><td>01-02-1990</td><td>22:00     </td><td>2         </td></tr>\n",
       "\t<tr><td>01-03-1990</td><td>08:00     </td><td>2         </td></tr>\n",
       "\t<tr><td>01-03-1990</td><td>12:00     </td><td>2         </td></tr>\n",
       "\t<tr><td>01-03-1990</td><td>18:00     </td><td>2         </td></tr>\n",
       "\t<tr><td>01-03-1990</td><td>22:00     </td><td>2         </td></tr>\n",
       "\t<tr><td>01-04-1990</td><td>08:00     </td><td>2         </td></tr>\n",
       "\t<tr><td>01-04-1990</td><td>12:00     </td><td>2         </td></tr>\n",
       "\t<tr><td>01-04-1990</td><td>18:00     </td><td>2         </td></tr>\n",
       "\t<tr><td>01-04-1990</td><td>22:00     </td><td>2         </td></tr>\n",
       "\t<tr><td>01-05-1990</td><td>08:00     </td><td>2         </td></tr>\n",
       "\t<tr><td>01-05-1990</td><td>12:00     </td><td>2         </td></tr>\n",
       "\t<tr><td>01-05-1990</td><td>18:00     </td><td>2         </td></tr>\n",
       "\t<tr><td>01-05-1990</td><td>22:00     </td><td>2         </td></tr>\n",
       "\t<tr><td>01-06-1990</td><td>08:00     </td><td>2         </td></tr>\n",
       "\t<tr><td>01-06-1990</td><td>12:00     </td><td>2         </td></tr>\n",
       "\t<tr><td>01-06-1990</td><td>18:00     </td><td>2         </td></tr>\n",
       "\t<tr><td>01-06-1990</td><td>22:00     </td><td>2         </td></tr>\n",
       "\t<tr><td>01-07-1990</td><td>08:00     </td><td>2         </td></tr>\n",
       "\t<tr><td>01-07-1990</td><td>12:00     </td><td>2         </td></tr>\n",
       "\t<tr><td>01-07-1990</td><td>18:00     </td><td>2         </td></tr>\n",
       "\t<tr><td>01-07-1990</td><td>22:00     </td><td>2         </td></tr>\n",
       "\t<tr><td>01-08-1990</td><td>08:00     </td><td>2         </td></tr>\n",
       "\t<tr><td>01-08-1990</td><td>12:00     </td><td>2         </td></tr>\n",
       "\t<tr><td>...</td><td>...</td><td>...</td></tr>\n",
       "\t<tr><td>12-24-1989</td><td>18:00     </td><td>2         </td></tr>\n",
       "\t<tr><td>12-24-1989</td><td>22:00     </td><td>2         </td></tr>\n",
       "\t<tr><td>12-25-1989</td><td>08:00     </td><td>2         </td></tr>\n",
       "\t<tr><td>12-25-1989</td><td>12:00     </td><td>2         </td></tr>\n",
       "\t<tr><td>12-25-1989</td><td>18:00     </td><td>2         </td></tr>\n",
       "\t<tr><td>12-25-1989</td><td>22:00     </td><td>2         </td></tr>\n",
       "\t<tr><td>12-26-1989</td><td>08:00     </td><td>2         </td></tr>\n",
       "\t<tr><td>12-26-1989</td><td>12:00     </td><td>2         </td></tr>\n",
       "\t<tr><td>12-26-1989</td><td>18:00     </td><td>2         </td></tr>\n",
       "\t<tr><td>12-26-1989</td><td>22:00     </td><td>2         </td></tr>\n",
       "\t<tr><td>12-27-1989</td><td>08:00     </td><td>2         </td></tr>\n",
       "\t<tr><td>12-27-1989</td><td>12:00     </td><td>2         </td></tr>\n",
       "\t<tr><td>12-27-1989</td><td>18:00     </td><td>2         </td></tr>\n",
       "\t<tr><td>12-27-1989</td><td>22:00     </td><td>2         </td></tr>\n",
       "\t<tr><td>12-28-1989</td><td>08:00     </td><td>2         </td></tr>\n",
       "\t<tr><td>12-28-1989</td><td>12:00     </td><td>2         </td></tr>\n",
       "\t<tr><td>12-28-1989</td><td>18:00     </td><td>2         </td></tr>\n",
       "\t<tr><td>12-28-1989</td><td>22:00     </td><td>2         </td></tr>\n",
       "\t<tr><td>12-29-1989</td><td>08:00     </td><td>2         </td></tr>\n",
       "\t<tr><td>12-29-1989</td><td>12:00     </td><td>2         </td></tr>\n",
       "\t<tr><td>12-29-1989</td><td>18:00     </td><td>2         </td></tr>\n",
       "\t<tr><td>12-29-1989</td><td>22:00     </td><td>2         </td></tr>\n",
       "\t<tr><td>12-30-1989</td><td>08:00     </td><td>2         </td></tr>\n",
       "\t<tr><td>12-30-1989</td><td>12:00     </td><td>2         </td></tr>\n",
       "\t<tr><td>12-30-1989</td><td>18:00     </td><td>2         </td></tr>\n",
       "\t<tr><td>12-30-1989</td><td>22:00     </td><td>2         </td></tr>\n",
       "\t<tr><td>12-31-1989</td><td>08:00     </td><td>2         </td></tr>\n",
       "\t<tr><td>12-31-1989</td><td>12:00     </td><td>2         </td></tr>\n",
       "\t<tr><td>12-31-1989</td><td>18:00     </td><td>2         </td></tr>\n",
       "\t<tr><td>12-31-1989</td><td>22:00     </td><td>2         </td></tr>\n",
       "</tbody>\n",
       "</table>\n"
      ],
      "text/latex": [
       "\\begin{tabular}{r|lll}\n",
       " Date & Time & n\\\\\n",
       "\\hline\n",
       "\t 01-01-1990 & 08:00      & 2         \\\\\n",
       "\t 01-01-1990 & 12:00      & 2         \\\\\n",
       "\t 01-01-1990 & 18:00      & 2         \\\\\n",
       "\t 01-01-1990 & 22:00      & 2         \\\\\n",
       "\t 01-02-1990 & 08:00      & 2         \\\\\n",
       "\t 01-02-1990 & 12:00      & 2         \\\\\n",
       "\t 01-02-1990 & 18:00      & 2         \\\\\n",
       "\t 01-02-1990 & 22:00      & 2         \\\\\n",
       "\t 01-03-1990 & 08:00      & 2         \\\\\n",
       "\t 01-03-1990 & 12:00      & 2         \\\\\n",
       "\t 01-03-1990 & 18:00      & 2         \\\\\n",
       "\t 01-03-1990 & 22:00      & 2         \\\\\n",
       "\t 01-04-1990 & 08:00      & 2         \\\\\n",
       "\t 01-04-1990 & 12:00      & 2         \\\\\n",
       "\t 01-04-1990 & 18:00      & 2         \\\\\n",
       "\t 01-04-1990 & 22:00      & 2         \\\\\n",
       "\t 01-05-1990 & 08:00      & 2         \\\\\n",
       "\t 01-05-1990 & 12:00      & 2         \\\\\n",
       "\t 01-05-1990 & 18:00      & 2         \\\\\n",
       "\t 01-05-1990 & 22:00      & 2         \\\\\n",
       "\t 01-06-1990 & 08:00      & 2         \\\\\n",
       "\t 01-06-1990 & 12:00      & 2         \\\\\n",
       "\t 01-06-1990 & 18:00      & 2         \\\\\n",
       "\t 01-06-1990 & 22:00      & 2         \\\\\n",
       "\t 01-07-1990 & 08:00      & 2         \\\\\n",
       "\t 01-07-1990 & 12:00      & 2         \\\\\n",
       "\t 01-07-1990 & 18:00      & 2         \\\\\n",
       "\t 01-07-1990 & 22:00      & 2         \\\\\n",
       "\t 01-08-1990 & 08:00      & 2         \\\\\n",
       "\t 01-08-1990 & 12:00      & 2         \\\\\n",
       "\t ... & ... & ...\\\\\n",
       "\t 12-24-1989 & 18:00      & 2         \\\\\n",
       "\t 12-24-1989 & 22:00      & 2         \\\\\n",
       "\t 12-25-1989 & 08:00      & 2         \\\\\n",
       "\t 12-25-1989 & 12:00      & 2         \\\\\n",
       "\t 12-25-1989 & 18:00      & 2         \\\\\n",
       "\t 12-25-1989 & 22:00      & 2         \\\\\n",
       "\t 12-26-1989 & 08:00      & 2         \\\\\n",
       "\t 12-26-1989 & 12:00      & 2         \\\\\n",
       "\t 12-26-1989 & 18:00      & 2         \\\\\n",
       "\t 12-26-1989 & 22:00      & 2         \\\\\n",
       "\t 12-27-1989 & 08:00      & 2         \\\\\n",
       "\t 12-27-1989 & 12:00      & 2         \\\\\n",
       "\t 12-27-1989 & 18:00      & 2         \\\\\n",
       "\t 12-27-1989 & 22:00      & 2         \\\\\n",
       "\t 12-28-1989 & 08:00      & 2         \\\\\n",
       "\t 12-28-1989 & 12:00      & 2         \\\\\n",
       "\t 12-28-1989 & 18:00      & 2         \\\\\n",
       "\t 12-28-1989 & 22:00      & 2         \\\\\n",
       "\t 12-29-1989 & 08:00      & 2         \\\\\n",
       "\t 12-29-1989 & 12:00      & 2         \\\\\n",
       "\t 12-29-1989 & 18:00      & 2         \\\\\n",
       "\t 12-29-1989 & 22:00      & 2         \\\\\n",
       "\t 12-30-1989 & 08:00      & 2         \\\\\n",
       "\t 12-30-1989 & 12:00      & 2         \\\\\n",
       "\t 12-30-1989 & 18:00      & 2         \\\\\n",
       "\t 12-30-1989 & 22:00      & 2         \\\\\n",
       "\t 12-31-1989 & 08:00      & 2         \\\\\n",
       "\t 12-31-1989 & 12:00      & 2         \\\\\n",
       "\t 12-31-1989 & 18:00      & 2         \\\\\n",
       "\t 12-31-1989 & 22:00      & 2         \\\\\n",
       "\\end{tabular}\n"
      ],
      "text/markdown": [
       "\n",
       "| Date | Time | n |\n",
       "|---|---|---|\n",
       "| 01-01-1990 | 08:00      | 2          |\n",
       "| 01-01-1990 | 12:00      | 2          |\n",
       "| 01-01-1990 | 18:00      | 2          |\n",
       "| 01-01-1990 | 22:00      | 2          |\n",
       "| 01-02-1990 | 08:00      | 2          |\n",
       "| 01-02-1990 | 12:00      | 2          |\n",
       "| 01-02-1990 | 18:00      | 2          |\n",
       "| 01-02-1990 | 22:00      | 2          |\n",
       "| 01-03-1990 | 08:00      | 2          |\n",
       "| 01-03-1990 | 12:00      | 2          |\n",
       "| 01-03-1990 | 18:00      | 2          |\n",
       "| 01-03-1990 | 22:00      | 2          |\n",
       "| 01-04-1990 | 08:00      | 2          |\n",
       "| 01-04-1990 | 12:00      | 2          |\n",
       "| 01-04-1990 | 18:00      | 2          |\n",
       "| 01-04-1990 | 22:00      | 2          |\n",
       "| 01-05-1990 | 08:00      | 2          |\n",
       "| 01-05-1990 | 12:00      | 2          |\n",
       "| 01-05-1990 | 18:00      | 2          |\n",
       "| 01-05-1990 | 22:00      | 2          |\n",
       "| 01-06-1990 | 08:00      | 2          |\n",
       "| 01-06-1990 | 12:00      | 2          |\n",
       "| 01-06-1990 | 18:00      | 2          |\n",
       "| 01-06-1990 | 22:00      | 2          |\n",
       "| 01-07-1990 | 08:00      | 2          |\n",
       "| 01-07-1990 | 12:00      | 2          |\n",
       "| 01-07-1990 | 18:00      | 2          |\n",
       "| 01-07-1990 | 22:00      | 2          |\n",
       "| 01-08-1990 | 08:00      | 2          |\n",
       "| 01-08-1990 | 12:00      | 2          |\n",
       "| ... | ... | ... |\n",
       "| 12-24-1989 | 18:00      | 2          |\n",
       "| 12-24-1989 | 22:00      | 2          |\n",
       "| 12-25-1989 | 08:00      | 2          |\n",
       "| 12-25-1989 | 12:00      | 2          |\n",
       "| 12-25-1989 | 18:00      | 2          |\n",
       "| 12-25-1989 | 22:00      | 2          |\n",
       "| 12-26-1989 | 08:00      | 2          |\n",
       "| 12-26-1989 | 12:00      | 2          |\n",
       "| 12-26-1989 | 18:00      | 2          |\n",
       "| 12-26-1989 | 22:00      | 2          |\n",
       "| 12-27-1989 | 08:00      | 2          |\n",
       "| 12-27-1989 | 12:00      | 2          |\n",
       "| 12-27-1989 | 18:00      | 2          |\n",
       "| 12-27-1989 | 22:00      | 2          |\n",
       "| 12-28-1989 | 08:00      | 2          |\n",
       "| 12-28-1989 | 12:00      | 2          |\n",
       "| 12-28-1989 | 18:00      | 2          |\n",
       "| 12-28-1989 | 22:00      | 2          |\n",
       "| 12-29-1989 | 08:00      | 2          |\n",
       "| 12-29-1989 | 12:00      | 2          |\n",
       "| 12-29-1989 | 18:00      | 2          |\n",
       "| 12-29-1989 | 22:00      | 2          |\n",
       "| 12-30-1989 | 08:00      | 2          |\n",
       "| 12-30-1989 | 12:00      | 2          |\n",
       "| 12-30-1989 | 18:00      | 2          |\n",
       "| 12-30-1989 | 22:00      | 2          |\n",
       "| 12-31-1989 | 08:00      | 2          |\n",
       "| 12-31-1989 | 12:00      | 2          |\n",
       "| 12-31-1989 | 18:00      | 2          |\n",
       "| 12-31-1989 | 22:00      | 2          |\n",
       "\n"
      ],
      "text/plain": [
       "     Date       Time  n  \n",
       "1    01-01-1990 08:00 2  \n",
       "2    01-01-1990 12:00 2  \n",
       "3    01-01-1990 18:00 2  \n",
       "4    01-01-1990 22:00 2  \n",
       "5    01-02-1990 08:00 2  \n",
       "6    01-02-1990 12:00 2  \n",
       "7    01-02-1990 18:00 2  \n",
       "8    01-02-1990 22:00 2  \n",
       "9    01-03-1990 08:00 2  \n",
       "10   01-03-1990 12:00 2  \n",
       "11   01-03-1990 18:00 2  \n",
       "12   01-03-1990 22:00 2  \n",
       "13   01-04-1990 08:00 2  \n",
       "14   01-04-1990 12:00 2  \n",
       "15   01-04-1990 18:00 2  \n",
       "16   01-04-1990 22:00 2  \n",
       "17   01-05-1990 08:00 2  \n",
       "18   01-05-1990 12:00 2  \n",
       "19   01-05-1990 18:00 2  \n",
       "20   01-05-1990 22:00 2  \n",
       "21   01-06-1990 08:00 2  \n",
       "22   01-06-1990 12:00 2  \n",
       "23   01-06-1990 18:00 2  \n",
       "24   01-06-1990 22:00 2  \n",
       "25   01-07-1990 08:00 2  \n",
       "26   01-07-1990 12:00 2  \n",
       "27   01-07-1990 18:00 2  \n",
       "28   01-07-1990 22:00 2  \n",
       "29   01-08-1990 08:00 2  \n",
       "30   01-08-1990 12:00 2  \n",
       "...  ...        ...   ...\n",
       "1047 12-24-1989 18:00 2  \n",
       "1048 12-24-1989 22:00 2  \n",
       "1049 12-25-1989 08:00 2  \n",
       "1050 12-25-1989 12:00 2  \n",
       "1051 12-25-1989 18:00 2  \n",
       "1052 12-25-1989 22:00 2  \n",
       "1053 12-26-1989 08:00 2  \n",
       "1054 12-26-1989 12:00 2  \n",
       "1055 12-26-1989 18:00 2  \n",
       "1056 12-26-1989 22:00 2  \n",
       "1057 12-27-1989 08:00 2  \n",
       "1058 12-27-1989 12:00 2  \n",
       "1059 12-27-1989 18:00 2  \n",
       "1060 12-27-1989 22:00 2  \n",
       "1061 12-28-1989 08:00 2  \n",
       "1062 12-28-1989 12:00 2  \n",
       "1063 12-28-1989 18:00 2  \n",
       "1064 12-28-1989 22:00 2  \n",
       "1065 12-29-1989 08:00 2  \n",
       "1066 12-29-1989 12:00 2  \n",
       "1067 12-29-1989 18:00 2  \n",
       "1068 12-29-1989 22:00 2  \n",
       "1069 12-30-1989 08:00 2  \n",
       "1070 12-30-1989 12:00 2  \n",
       "1071 12-30-1989 18:00 2  \n",
       "1072 12-30-1989 22:00 2  \n",
       "1073 12-31-1989 08:00 2  \n",
       "1074 12-31-1989 12:00 2  \n",
       "1075 12-31-1989 18:00 2  \n",
       "1076 12-31-1989 22:00 2  "
      ]
     },
     "metadata": {},
     "output_type": "display_data"
    }
   ],
   "source": [
    "#Looking for partial duplicates in the data\n",
    "Diabetes_data2_unique <- Diabetes_data1_unique %>%\n",
    "    count(Date, Time) %>%\n",
    "    filter(n >1)\n",
    "Diabetes_data2_unique"
   ]
  },
  {
   "cell_type": "code",
   "execution_count": 169,
   "metadata": {},
   "outputs": [
    {
     "data": {
      "text/html": [
       "0"
      ],
      "text/latex": [
       "0"
      ],
      "text/markdown": [
       "0"
      ],
      "text/plain": [
       "[1] 0"
      ]
     },
     "metadata": {},
     "output_type": "display_data"
    }
   ],
   "source": [
    "#Dropping all Partial Duplicates\n",
    "Diabetes_data3_unique <- Diabetes_data1_unique %>%\n",
    "    distinct(Date, Time, .keep_all = TRUE)\n",
    "\n",
    "sum(duplicated(Diabetes_data3_unique))"
   ]
  },
  {
   "cell_type": "code",
   "execution_count": null,
   "metadata": {},
   "outputs": [],
   "source": []
  }
 ],
 "metadata": {
  "kernelspec": {
   "display_name": "R",
   "language": "R",
   "name": "ir"
  },
  "language_info": {
   "codemirror_mode": "r",
   "file_extension": ".r",
   "mimetype": "text/x-r-source",
   "name": "R",
   "pygments_lexer": "r",
   "version": "3.6.1"
  },
  "toc-autonumbering": true
 },
 "nbformat": 4,
 "nbformat_minor": 4
}
